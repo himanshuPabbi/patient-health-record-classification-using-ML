{
 "cells": [
  {
   "cell_type": "code",
   "execution_count": 1,
   "id": "88f3b68d",
   "metadata": {},
   "outputs": [],
   "source": [
    "import pandas as pd"
   ]
  },
  {
   "cell_type": "code",
   "execution_count": 2,
   "id": "4a7887ed",
   "metadata": {},
   "outputs": [],
   "source": [
    "import numpy as np"
   ]
  },
  {
   "cell_type": "code",
   "execution_count": 3,
   "id": "f4a0f698",
   "metadata": {},
   "outputs": [],
   "source": [
    "import seaborn as sns"
   ]
  },
  {
   "cell_type": "code",
   "execution_count": 4,
   "id": "c0ca2e29",
   "metadata": {},
   "outputs": [],
   "source": [
    "import matplotlib.pyplot as plt"
   ]
  },
  {
   "cell_type": "code",
   "execution_count": 5,
   "id": "c34811ae",
   "metadata": {},
   "outputs": [],
   "source": [
    "from sklearn.preprocessing import LabelEncoder"
   ]
  },
  {
   "cell_type": "code",
   "execution_count": 6,
   "id": "a99eca7e",
   "metadata": {},
   "outputs": [],
   "source": [
    "from sklearn.preprocessing import StandardScaler"
   ]
  },
  {
   "cell_type": "code",
   "execution_count": 7,
   "id": "87fcae3e",
   "metadata": {},
   "outputs": [],
   "source": [
    "from sklearn.ensemble import RandomForestClassifier"
   ]
  },
  {
   "cell_type": "code",
   "execution_count": 8,
   "id": "f71e11a4",
   "metadata": {},
   "outputs": [],
   "source": [
    "from sklearn.linear_model import LogisticRegression"
   ]
  },
  {
   "cell_type": "code",
   "execution_count": 9,
   "id": "cf104a38",
   "metadata": {},
   "outputs": [],
   "source": [
    "from sklearn.neighbors import KNeighborsClassifier"
   ]
  },
  {
   "cell_type": "code",
   "execution_count": 10,
   "id": "d669cd53",
   "metadata": {},
   "outputs": [],
   "source": [
    "from sklearn.tree import DecisionTreeClassifier"
   ]
  },
  {
   "cell_type": "code",
   "execution_count": 11,
   "id": "7980d965",
   "metadata": {},
   "outputs": [],
   "source": [
    "from sklearn.naive_bayes import GaussianNB"
   ]
  },
  {
   "cell_type": "code",
   "execution_count": 12,
   "id": "e9b6128e",
   "metadata": {},
   "outputs": [],
   "source": [
    "import xgboost as xgb "
   ]
  },
  {
   "cell_type": "code",
   "execution_count": 13,
   "id": "ddbdd397",
   "metadata": {},
   "outputs": [],
   "source": [
    "from sklearn.metrics import accuracy_score,confusion_matrix,classification_report"
   ]
  },
  {
   "cell_type": "code",
   "execution_count": 14,
   "id": "bd3af537",
   "metadata": {},
   "outputs": [],
   "source": [
    "from sklearn.model_selection import train_test_split,KFold,cross_val_score"
   ]
  },
  {
   "cell_type": "code",
   "execution_count": 15,
   "id": "3fda4c9d",
   "metadata": {},
   "outputs": [],
   "source": [
    "import tensorflow as tf"
   ]
  },
  {
   "cell_type": "code",
   "execution_count": 16,
   "id": "8724285b",
   "metadata": {},
   "outputs": [],
   "source": [
    "from tensorflow import keras"
   ]
  },
  {
   "cell_type": "code",
   "execution_count": 17,
   "id": "103ba054",
   "metadata": {},
   "outputs": [],
   "source": [
    "df=pd.read_csv(\"data-ori.csv\")\n"
   ]
  },
  {
   "cell_type": "code",
   "execution_count": 18,
   "id": "dd24bb25",
   "metadata": {},
   "outputs": [
    {
     "data": {
      "text/html": [
       "<div>\n",
       "<style scoped>\n",
       "    .dataframe tbody tr th:only-of-type {\n",
       "        vertical-align: middle;\n",
       "    }\n",
       "\n",
       "    .dataframe tbody tr th {\n",
       "        vertical-align: top;\n",
       "    }\n",
       "\n",
       "    .dataframe thead th {\n",
       "        text-align: right;\n",
       "    }\n",
       "</style>\n",
       "<table border=\"1\" class=\"dataframe\">\n",
       "  <thead>\n",
       "    <tr style=\"text-align: right;\">\n",
       "      <th></th>\n",
       "      <th>HAEMATOCRIT</th>\n",
       "      <th>HAEMOGLOBINS</th>\n",
       "      <th>ERYTHROCYTE</th>\n",
       "      <th>LEUCOCYTE</th>\n",
       "      <th>THROMBOCYTE</th>\n",
       "      <th>MCH</th>\n",
       "      <th>MCHC</th>\n",
       "      <th>MCV</th>\n",
       "      <th>AGE</th>\n",
       "      <th>SEX</th>\n",
       "      <th>SOURCE</th>\n",
       "    </tr>\n",
       "  </thead>\n",
       "  <tbody>\n",
       "    <tr>\n",
       "      <th>0</th>\n",
       "      <td>35.1</td>\n",
       "      <td>11.8</td>\n",
       "      <td>4.65</td>\n",
       "      <td>6.3</td>\n",
       "      <td>310</td>\n",
       "      <td>25.4</td>\n",
       "      <td>33.6</td>\n",
       "      <td>75.5</td>\n",
       "      <td>1</td>\n",
       "      <td>F</td>\n",
       "      <td>out</td>\n",
       "    </tr>\n",
       "    <tr>\n",
       "      <th>1</th>\n",
       "      <td>43.5</td>\n",
       "      <td>14.8</td>\n",
       "      <td>5.39</td>\n",
       "      <td>12.7</td>\n",
       "      <td>334</td>\n",
       "      <td>27.5</td>\n",
       "      <td>34.0</td>\n",
       "      <td>80.7</td>\n",
       "      <td>1</td>\n",
       "      <td>F</td>\n",
       "      <td>out</td>\n",
       "    </tr>\n",
       "    <tr>\n",
       "      <th>2</th>\n",
       "      <td>33.5</td>\n",
       "      <td>11.3</td>\n",
       "      <td>4.74</td>\n",
       "      <td>13.2</td>\n",
       "      <td>305</td>\n",
       "      <td>23.8</td>\n",
       "      <td>33.7</td>\n",
       "      <td>70.7</td>\n",
       "      <td>1</td>\n",
       "      <td>F</td>\n",
       "      <td>out</td>\n",
       "    </tr>\n",
       "    <tr>\n",
       "      <th>3</th>\n",
       "      <td>39.1</td>\n",
       "      <td>13.7</td>\n",
       "      <td>4.98</td>\n",
       "      <td>10.5</td>\n",
       "      <td>366</td>\n",
       "      <td>27.5</td>\n",
       "      <td>35.0</td>\n",
       "      <td>78.5</td>\n",
       "      <td>1</td>\n",
       "      <td>F</td>\n",
       "      <td>out</td>\n",
       "    </tr>\n",
       "    <tr>\n",
       "      <th>4</th>\n",
       "      <td>30.9</td>\n",
       "      <td>9.9</td>\n",
       "      <td>4.23</td>\n",
       "      <td>22.1</td>\n",
       "      <td>333</td>\n",
       "      <td>23.4</td>\n",
       "      <td>32.0</td>\n",
       "      <td>73.0</td>\n",
       "      <td>1</td>\n",
       "      <td>M</td>\n",
       "      <td>out</td>\n",
       "    </tr>\n",
       "    <tr>\n",
       "      <th>...</th>\n",
       "      <td>...</td>\n",
       "      <td>...</td>\n",
       "      <td>...</td>\n",
       "      <td>...</td>\n",
       "      <td>...</td>\n",
       "      <td>...</td>\n",
       "      <td>...</td>\n",
       "      <td>...</td>\n",
       "      <td>...</td>\n",
       "      <td>...</td>\n",
       "      <td>...</td>\n",
       "    </tr>\n",
       "    <tr>\n",
       "      <th>4407</th>\n",
       "      <td>32.8</td>\n",
       "      <td>10.4</td>\n",
       "      <td>3.49</td>\n",
       "      <td>8.1</td>\n",
       "      <td>72</td>\n",
       "      <td>29.8</td>\n",
       "      <td>31.7</td>\n",
       "      <td>94.0</td>\n",
       "      <td>92</td>\n",
       "      <td>F</td>\n",
       "      <td>in</td>\n",
       "    </tr>\n",
       "    <tr>\n",
       "      <th>4408</th>\n",
       "      <td>33.7</td>\n",
       "      <td>10.8</td>\n",
       "      <td>3.67</td>\n",
       "      <td>6.7</td>\n",
       "      <td>70</td>\n",
       "      <td>29.4</td>\n",
       "      <td>32.0</td>\n",
       "      <td>91.8</td>\n",
       "      <td>92</td>\n",
       "      <td>F</td>\n",
       "      <td>in</td>\n",
       "    </tr>\n",
       "    <tr>\n",
       "      <th>4409</th>\n",
       "      <td>33.2</td>\n",
       "      <td>11.2</td>\n",
       "      <td>3.47</td>\n",
       "      <td>7.2</td>\n",
       "      <td>235</td>\n",
       "      <td>32.3</td>\n",
       "      <td>33.7</td>\n",
       "      <td>95.7</td>\n",
       "      <td>93</td>\n",
       "      <td>F</td>\n",
       "      <td>out</td>\n",
       "    </tr>\n",
       "    <tr>\n",
       "      <th>4410</th>\n",
       "      <td>31.5</td>\n",
       "      <td>10.4</td>\n",
       "      <td>3.15</td>\n",
       "      <td>9.1</td>\n",
       "      <td>187</td>\n",
       "      <td>33.0</td>\n",
       "      <td>33.0</td>\n",
       "      <td>100.0</td>\n",
       "      <td>98</td>\n",
       "      <td>F</td>\n",
       "      <td>in</td>\n",
       "    </tr>\n",
       "    <tr>\n",
       "      <th>4411</th>\n",
       "      <td>33.5</td>\n",
       "      <td>10.9</td>\n",
       "      <td>3.44</td>\n",
       "      <td>5.8</td>\n",
       "      <td>275</td>\n",
       "      <td>31.7</td>\n",
       "      <td>32.5</td>\n",
       "      <td>97.4</td>\n",
       "      <td>99</td>\n",
       "      <td>F</td>\n",
       "      <td>out</td>\n",
       "    </tr>\n",
       "  </tbody>\n",
       "</table>\n",
       "<p>4412 rows × 11 columns</p>\n",
       "</div>"
      ],
      "text/plain": [
       "      HAEMATOCRIT  HAEMOGLOBINS  ERYTHROCYTE  LEUCOCYTE  THROMBOCYTE   MCH  \\\n",
       "0            35.1          11.8         4.65        6.3          310  25.4   \n",
       "1            43.5          14.8         5.39       12.7          334  27.5   \n",
       "2            33.5          11.3         4.74       13.2          305  23.8   \n",
       "3            39.1          13.7         4.98       10.5          366  27.5   \n",
       "4            30.9           9.9         4.23       22.1          333  23.4   \n",
       "...           ...           ...          ...        ...          ...   ...   \n",
       "4407         32.8          10.4         3.49        8.1           72  29.8   \n",
       "4408         33.7          10.8         3.67        6.7           70  29.4   \n",
       "4409         33.2          11.2         3.47        7.2          235  32.3   \n",
       "4410         31.5          10.4         3.15        9.1          187  33.0   \n",
       "4411         33.5          10.9         3.44        5.8          275  31.7   \n",
       "\n",
       "      MCHC    MCV  AGE SEX SOURCE  \n",
       "0     33.6   75.5    1   F    out  \n",
       "1     34.0   80.7    1   F    out  \n",
       "2     33.7   70.7    1   F    out  \n",
       "3     35.0   78.5    1   F    out  \n",
       "4     32.0   73.0    1   M    out  \n",
       "...    ...    ...  ...  ..    ...  \n",
       "4407  31.7   94.0   92   F     in  \n",
       "4408  32.0   91.8   92   F     in  \n",
       "4409  33.7   95.7   93   F    out  \n",
       "4410  33.0  100.0   98   F     in  \n",
       "4411  32.5   97.4   99   F    out  \n",
       "\n",
       "[4412 rows x 11 columns]"
      ]
     },
     "execution_count": 18,
     "metadata": {},
     "output_type": "execute_result"
    }
   ],
   "source": [
    "df"
   ]
  },
  {
   "cell_type": "code",
   "execution_count": 19,
   "id": "456152e2",
   "metadata": {},
   "outputs": [
    {
     "name": "stdout",
     "output_type": "stream",
     "text": [
      "<class 'pandas.core.frame.DataFrame'>\n",
      "RangeIndex: 4412 entries, 0 to 4411\n",
      "Data columns (total 11 columns):\n",
      " #   Column        Non-Null Count  Dtype  \n",
      "---  ------        --------------  -----  \n",
      " 0   HAEMATOCRIT   4412 non-null   float64\n",
      " 1   HAEMOGLOBINS  4412 non-null   float64\n",
      " 2   ERYTHROCYTE   4412 non-null   float64\n",
      " 3   LEUCOCYTE     4412 non-null   float64\n",
      " 4   THROMBOCYTE   4412 non-null   int64  \n",
      " 5   MCH           4412 non-null   float64\n",
      " 6   MCHC          4412 non-null   float64\n",
      " 7   MCV           4412 non-null   float64\n",
      " 8   AGE           4412 non-null   int64  \n",
      " 9   SEX           4412 non-null   object \n",
      " 10  SOURCE        4412 non-null   object \n",
      "dtypes: float64(7), int64(2), object(2)\n",
      "memory usage: 379.3+ KB\n"
     ]
    }
   ],
   "source": [
    "df.info()"
   ]
  },
  {
   "cell_type": "code",
   "execution_count": 20,
   "id": "e118a1d5",
   "metadata": {},
   "outputs": [
    {
     "data": {
      "text/plain": [
       "HAEMATOCRIT     0\n",
       "HAEMOGLOBINS    0\n",
       "ERYTHROCYTE     0\n",
       "LEUCOCYTE       0\n",
       "THROMBOCYTE     0\n",
       "MCH             0\n",
       "MCHC            0\n",
       "MCV             0\n",
       "AGE             0\n",
       "SEX             0\n",
       "SOURCE          0\n",
       "dtype: int64"
      ]
     },
     "execution_count": 20,
     "metadata": {},
     "output_type": "execute_result"
    }
   ],
   "source": [
    "df.isnull().sum()"
   ]
  },
  {
   "cell_type": "code",
   "execution_count": 21,
   "id": "2d5ecc2b",
   "metadata": {},
   "outputs": [
    {
     "data": {
      "text/plain": [
       "(4412, 11)"
      ]
     },
     "execution_count": 21,
     "metadata": {},
     "output_type": "execute_result"
    }
   ],
   "source": [
    "df.shape"
   ]
  },
  {
   "cell_type": "code",
   "execution_count": 22,
   "id": "401d207b",
   "metadata": {},
   "outputs": [
    {
     "data": {
      "text/html": [
       "<div>\n",
       "<style scoped>\n",
       "    .dataframe tbody tr th:only-of-type {\n",
       "        vertical-align: middle;\n",
       "    }\n",
       "\n",
       "    .dataframe tbody tr th {\n",
       "        vertical-align: top;\n",
       "    }\n",
       "\n",
       "    .dataframe thead th {\n",
       "        text-align: right;\n",
       "    }\n",
       "</style>\n",
       "<table border=\"1\" class=\"dataframe\">\n",
       "  <thead>\n",
       "    <tr style=\"text-align: right;\">\n",
       "      <th></th>\n",
       "      <th>HAEMATOCRIT</th>\n",
       "      <th>HAEMOGLOBINS</th>\n",
       "      <th>ERYTHROCYTE</th>\n",
       "      <th>LEUCOCYTE</th>\n",
       "      <th>THROMBOCYTE</th>\n",
       "      <th>MCH</th>\n",
       "      <th>MCHC</th>\n",
       "      <th>MCV</th>\n",
       "      <th>AGE</th>\n",
       "    </tr>\n",
       "  </thead>\n",
       "  <tbody>\n",
       "    <tr>\n",
       "      <th>count</th>\n",
       "      <td>4412.000000</td>\n",
       "      <td>4412.000000</td>\n",
       "      <td>4412.000000</td>\n",
       "      <td>4412.000000</td>\n",
       "      <td>4412.000000</td>\n",
       "      <td>4412.000000</td>\n",
       "      <td>4412.000000</td>\n",
       "      <td>4412.000000</td>\n",
       "      <td>4412.000000</td>\n",
       "    </tr>\n",
       "    <tr>\n",
       "      <th>mean</th>\n",
       "      <td>38.197688</td>\n",
       "      <td>12.741727</td>\n",
       "      <td>4.541260</td>\n",
       "      <td>8.718608</td>\n",
       "      <td>257.524479</td>\n",
       "      <td>28.234701</td>\n",
       "      <td>33.343042</td>\n",
       "      <td>84.612942</td>\n",
       "      <td>46.626473</td>\n",
       "    </tr>\n",
       "    <tr>\n",
       "      <th>std</th>\n",
       "      <td>5.974784</td>\n",
       "      <td>2.079903</td>\n",
       "      <td>0.784091</td>\n",
       "      <td>5.049041</td>\n",
       "      <td>113.972365</td>\n",
       "      <td>2.672639</td>\n",
       "      <td>1.228664</td>\n",
       "      <td>6.859101</td>\n",
       "      <td>21.731218</td>\n",
       "    </tr>\n",
       "    <tr>\n",
       "      <th>min</th>\n",
       "      <td>13.700000</td>\n",
       "      <td>3.800000</td>\n",
       "      <td>1.480000</td>\n",
       "      <td>1.100000</td>\n",
       "      <td>8.000000</td>\n",
       "      <td>14.900000</td>\n",
       "      <td>26.000000</td>\n",
       "      <td>54.000000</td>\n",
       "      <td>1.000000</td>\n",
       "    </tr>\n",
       "    <tr>\n",
       "      <th>25%</th>\n",
       "      <td>34.375000</td>\n",
       "      <td>11.400000</td>\n",
       "      <td>4.040000</td>\n",
       "      <td>5.675000</td>\n",
       "      <td>188.000000</td>\n",
       "      <td>27.200000</td>\n",
       "      <td>32.700000</td>\n",
       "      <td>81.500000</td>\n",
       "      <td>29.000000</td>\n",
       "    </tr>\n",
       "    <tr>\n",
       "      <th>50%</th>\n",
       "      <td>38.600000</td>\n",
       "      <td>12.900000</td>\n",
       "      <td>4.570000</td>\n",
       "      <td>7.600000</td>\n",
       "      <td>256.000000</td>\n",
       "      <td>28.700000</td>\n",
       "      <td>33.400000</td>\n",
       "      <td>85.400000</td>\n",
       "      <td>47.000000</td>\n",
       "    </tr>\n",
       "    <tr>\n",
       "      <th>75%</th>\n",
       "      <td>42.500000</td>\n",
       "      <td>14.200000</td>\n",
       "      <td>5.050000</td>\n",
       "      <td>10.300000</td>\n",
       "      <td>321.000000</td>\n",
       "      <td>29.800000</td>\n",
       "      <td>34.100000</td>\n",
       "      <td>88.700000</td>\n",
       "      <td>64.000000</td>\n",
       "    </tr>\n",
       "    <tr>\n",
       "      <th>max</th>\n",
       "      <td>69.000000</td>\n",
       "      <td>18.900000</td>\n",
       "      <td>7.860000</td>\n",
       "      <td>76.600000</td>\n",
       "      <td>1183.000000</td>\n",
       "      <td>40.800000</td>\n",
       "      <td>39.000000</td>\n",
       "      <td>115.600000</td>\n",
       "      <td>99.000000</td>\n",
       "    </tr>\n",
       "  </tbody>\n",
       "</table>\n",
       "</div>"
      ],
      "text/plain": [
       "       HAEMATOCRIT  HAEMOGLOBINS  ERYTHROCYTE    LEUCOCYTE  THROMBOCYTE  \\\n",
       "count  4412.000000   4412.000000  4412.000000  4412.000000  4412.000000   \n",
       "mean     38.197688     12.741727     4.541260     8.718608   257.524479   \n",
       "std       5.974784      2.079903     0.784091     5.049041   113.972365   \n",
       "min      13.700000      3.800000     1.480000     1.100000     8.000000   \n",
       "25%      34.375000     11.400000     4.040000     5.675000   188.000000   \n",
       "50%      38.600000     12.900000     4.570000     7.600000   256.000000   \n",
       "75%      42.500000     14.200000     5.050000    10.300000   321.000000   \n",
       "max      69.000000     18.900000     7.860000    76.600000  1183.000000   \n",
       "\n",
       "               MCH         MCHC          MCV          AGE  \n",
       "count  4412.000000  4412.000000  4412.000000  4412.000000  \n",
       "mean     28.234701    33.343042    84.612942    46.626473  \n",
       "std       2.672639     1.228664     6.859101    21.731218  \n",
       "min      14.900000    26.000000    54.000000     1.000000  \n",
       "25%      27.200000    32.700000    81.500000    29.000000  \n",
       "50%      28.700000    33.400000    85.400000    47.000000  \n",
       "75%      29.800000    34.100000    88.700000    64.000000  \n",
       "max      40.800000    39.000000   115.600000    99.000000  "
      ]
     },
     "execution_count": 22,
     "metadata": {},
     "output_type": "execute_result"
    }
   ],
   "source": [
    "df.describe()"
   ]
  },
  {
   "cell_type": "code",
   "execution_count": 23,
   "id": "f64fea85",
   "metadata": {},
   "outputs": [
    {
     "name": "stderr",
     "output_type": "stream",
     "text": [
      "C:\\Users\\himanshu\\anaconda3\\lib\\site-packages\\seaborn\\_decorators.py:36: FutureWarning: Pass the following variable as a keyword arg: x. From version 0.12, the only valid positional argument will be `data`, and passing other arguments without an explicit keyword will result in an error or misinterpretation.\n",
      "  warnings.warn(\n"
     ]
    },
    {
     "data": {
      "text/plain": [
       "<AxesSubplot:xlabel='HAEMATOCRIT'>"
      ]
     },
     "execution_count": 23,
     "metadata": {},
     "output_type": "execute_result"
    },
    {
     "data": {
      "image/png": "[encoded data removed]",
      "text/plain": [
       "<Figure size 432x288 with 1 Axes>"
      ]
     },
     "metadata": {
      "needs_background": "light"
     },
     "output_type": "display_data"
    }
   ],
   "source": [
    "sns.boxplot(df['HAEMATOCRIT'])"
   ]
  },
  {
   "cell_type": "code",
   "execution_count": 24,
   "id": "bff170de",
   "metadata": {},
   "outputs": [],
   "source": [
    "q1=df['HAEMATOCRIT'].quantile(0.25)"
   ]
  },
  {
   "cell_type": "code",
   "execution_count": 25,
   "id": "5d913709",
   "metadata": {},
   "outputs": [],
   "source": [
    "q3=df['HAEMATOCRIT'].quantile(0.75)"
   ]
  },
  {
   "cell_type": "code",
   "execution_count": 26,
   "id": "fdce8c82",
   "metadata": {},
   "outputs": [],
   "source": [
    "IQR=q3-q1"
   ]
  },
  {
   "cell_type": "code",
   "execution_count": 27,
   "id": "01d703cd",
   "metadata": {},
   "outputs": [],
   "source": [
    "lower=q1-1.5*IQR"
   ]
  },
  {
   "cell_type": "code",
   "execution_count": 28,
   "id": "13f3507a",
   "metadata": {},
   "outputs": [],
   "source": [
    "upper=q3+1.5*IQR"
   ]
  },
  {
   "cell_type": "code",
   "execution_count": 29,
   "id": "536348ba",
   "metadata": {},
   "outputs": [],
   "source": [
    "df=df[(df['HAEMATOCRIT']>lower) & (df['HAEMATOCRIT']<upper)]"
   ]
  },
  {
   "cell_type": "code",
   "execution_count": 30,
   "id": "bde5202f",
   "metadata": {},
   "outputs": [
    {
     "data": {
      "text/html": [
       "<div>\n",
       "<style scoped>\n",
       "    .dataframe tbody tr th:only-of-type {\n",
       "        vertical-align: middle;\n",
       "    }\n",
       "\n",
       "    .dataframe tbody tr th {\n",
       "        vertical-align: top;\n",
       "    }\n",
       "\n",
       "    .dataframe thead th {\n",
       "        text-align: right;\n",
       "    }\n",
       "</style>\n",
       "<table border=\"1\" class=\"dataframe\">\n",
       "  <thead>\n",
       "    <tr style=\"text-align: right;\">\n",
       "      <th></th>\n",
       "      <th>HAEMATOCRIT</th>\n",
       "      <th>HAEMOGLOBINS</th>\n",
       "      <th>ERYTHROCYTE</th>\n",
       "      <th>LEUCOCYTE</th>\n",
       "      <th>THROMBOCYTE</th>\n",
       "      <th>MCH</th>\n",
       "      <th>MCHC</th>\n",
       "      <th>MCV</th>\n",
       "      <th>AGE</th>\n",
       "      <th>SEX</th>\n",
       "      <th>SOURCE</th>\n",
       "    </tr>\n",
       "  </thead>\n",
       "  <tbody>\n",
       "    <tr>\n",
       "      <th>0</th>\n",
       "      <td>35.1</td>\n",
       "      <td>11.8</td>\n",
       "      <td>4.65</td>\n",
       "      <td>6.3</td>\n",
       "      <td>310</td>\n",
       "      <td>25.4</td>\n",
       "      <td>33.6</td>\n",
       "      <td>75.5</td>\n",
       "      <td>1</td>\n",
       "      <td>F</td>\n",
       "      <td>out</td>\n",
       "    </tr>\n",
       "    <tr>\n",
       "      <th>1</th>\n",
       "      <td>43.5</td>\n",
       "      <td>14.8</td>\n",
       "      <td>5.39</td>\n",
       "      <td>12.7</td>\n",
       "      <td>334</td>\n",
       "      <td>27.5</td>\n",
       "      <td>34.0</td>\n",
       "      <td>80.7</td>\n",
       "      <td>1</td>\n",
       "      <td>F</td>\n",
       "      <td>out</td>\n",
       "    </tr>\n",
       "    <tr>\n",
       "      <th>2</th>\n",
       "      <td>33.5</td>\n",
       "      <td>11.3</td>\n",
       "      <td>4.74</td>\n",
       "      <td>13.2</td>\n",
       "      <td>305</td>\n",
       "      <td>23.8</td>\n",
       "      <td>33.7</td>\n",
       "      <td>70.7</td>\n",
       "      <td>1</td>\n",
       "      <td>F</td>\n",
       "      <td>out</td>\n",
       "    </tr>\n",
       "    <tr>\n",
       "      <th>3</th>\n",
       "      <td>39.1</td>\n",
       "      <td>13.7</td>\n",
       "      <td>4.98</td>\n",
       "      <td>10.5</td>\n",
       "      <td>366</td>\n",
       "      <td>27.5</td>\n",
       "      <td>35.0</td>\n",
       "      <td>78.5</td>\n",
       "      <td>1</td>\n",
       "      <td>F</td>\n",
       "      <td>out</td>\n",
       "    </tr>\n",
       "    <tr>\n",
       "      <th>4</th>\n",
       "      <td>30.9</td>\n",
       "      <td>9.9</td>\n",
       "      <td>4.23</td>\n",
       "      <td>22.1</td>\n",
       "      <td>333</td>\n",
       "      <td>23.4</td>\n",
       "      <td>32.0</td>\n",
       "      <td>73.0</td>\n",
       "      <td>1</td>\n",
       "      <td>M</td>\n",
       "      <td>out</td>\n",
       "    </tr>\n",
       "    <tr>\n",
       "      <th>...</th>\n",
       "      <td>...</td>\n",
       "      <td>...</td>\n",
       "      <td>...</td>\n",
       "      <td>...</td>\n",
       "      <td>...</td>\n",
       "      <td>...</td>\n",
       "      <td>...</td>\n",
       "      <td>...</td>\n",
       "      <td>...</td>\n",
       "      <td>...</td>\n",
       "      <td>...</td>\n",
       "    </tr>\n",
       "    <tr>\n",
       "      <th>4407</th>\n",
       "      <td>32.8</td>\n",
       "      <td>10.4</td>\n",
       "      <td>3.49</td>\n",
       "      <td>8.1</td>\n",
       "      <td>72</td>\n",
       "      <td>29.8</td>\n",
       "      <td>31.7</td>\n",
       "      <td>94.0</td>\n",
       "      <td>92</td>\n",
       "      <td>F</td>\n",
       "      <td>in</td>\n",
       "    </tr>\n",
       "    <tr>\n",
       "      <th>4408</th>\n",
       "      <td>33.7</td>\n",
       "      <td>10.8</td>\n",
       "      <td>3.67</td>\n",
       "      <td>6.7</td>\n",
       "      <td>70</td>\n",
       "      <td>29.4</td>\n",
       "      <td>32.0</td>\n",
       "      <td>91.8</td>\n",
       "      <td>92</td>\n",
       "      <td>F</td>\n",
       "      <td>in</td>\n",
       "    </tr>\n",
       "    <tr>\n",
       "      <th>4409</th>\n",
       "      <td>33.2</td>\n",
       "      <td>11.2</td>\n",
       "      <td>3.47</td>\n",
       "      <td>7.2</td>\n",
       "      <td>235</td>\n",
       "      <td>32.3</td>\n",
       "      <td>33.7</td>\n",
       "      <td>95.7</td>\n",
       "      <td>93</td>\n",
       "      <td>F</td>\n",
       "      <td>out</td>\n",
       "    </tr>\n",
       "    <tr>\n",
       "      <th>4410</th>\n",
       "      <td>31.5</td>\n",
       "      <td>10.4</td>\n",
       "      <td>3.15</td>\n",
       "      <td>9.1</td>\n",
       "      <td>187</td>\n",
       "      <td>33.0</td>\n",
       "      <td>33.0</td>\n",
       "      <td>100.0</td>\n",
       "      <td>98</td>\n",
       "      <td>F</td>\n",
       "      <td>in</td>\n",
       "    </tr>\n",
       "    <tr>\n",
       "      <th>4411</th>\n",
       "      <td>33.5</td>\n",
       "      <td>10.9</td>\n",
       "      <td>3.44</td>\n",
       "      <td>5.8</td>\n",
       "      <td>275</td>\n",
       "      <td>31.7</td>\n",
       "      <td>32.5</td>\n",
       "      <td>97.4</td>\n",
       "      <td>99</td>\n",
       "      <td>F</td>\n",
       "      <td>out</td>\n",
       "    </tr>\n",
       "  </tbody>\n",
       "</table>\n",
       "<p>4382 rows × 11 columns</p>\n",
       "</div>"
      ],
      "text/plain": [
       "      HAEMATOCRIT  HAEMOGLOBINS  ERYTHROCYTE  LEUCOCYTE  THROMBOCYTE   MCH  \\\n",
       "0            35.1          11.8         4.65        6.3          310  25.4   \n",
       "1            43.5          14.8         5.39       12.7          334  27.5   \n",
       "2            33.5          11.3         4.74       13.2          305  23.8   \n",
       "3            39.1          13.7         4.98       10.5          366  27.5   \n",
       "4            30.9           9.9         4.23       22.1          333  23.4   \n",
       "...           ...           ...          ...        ...          ...   ...   \n",
       "4407         32.8          10.4         3.49        8.1           72  29.8   \n",
       "4408         33.7          10.8         3.67        6.7           70  29.4   \n",
       "4409         33.2          11.2         3.47        7.2          235  32.3   \n",
       "4410         31.5          10.4         3.15        9.1          187  33.0   \n",
       "4411         33.5          10.9         3.44        5.8          275  31.7   \n",
       "\n",
       "      MCHC    MCV  AGE SEX SOURCE  \n",
       "0     33.6   75.5    1   F    out  \n",
       "1     34.0   80.7    1   F    out  \n",
       "2     33.7   70.7    1   F    out  \n",
       "3     35.0   78.5    1   F    out  \n",
       "4     32.0   73.0    1   M    out  \n",
       "...    ...    ...  ...  ..    ...  \n",
       "4407  31.7   94.0   92   F     in  \n",
       "4408  32.0   91.8   92   F     in  \n",
       "4409  33.7   95.7   93   F    out  \n",
       "4410  33.0  100.0   98   F     in  \n",
       "4411  32.5   97.4   99   F    out  \n",
       "\n",
       "[4382 rows x 11 columns]"
      ]
     },
     "execution_count": 30,
     "metadata": {},
     "output_type": "execute_result"
    }
   ],
   "source": [
    "df"
   ]
  },
  {
   "cell_type": "code",
   "execution_count": 31,
   "id": "21063c0a",
   "metadata": {},
   "outputs": [
    {
     "name": "stderr",
     "output_type": "stream",
     "text": [
      "C:\\Users\\himanshu\\anaconda3\\lib\\site-packages\\seaborn\\_decorators.py:36: FutureWarning: Pass the following variable as a keyword arg: x. From version 0.12, the only valid positional argument will be `data`, and passing other arguments without an explicit keyword will result in an error or misinterpretation.\n",
      "  warnings.warn(\n"
     ]
    },
    {
     "data": {
      "text/plain": [
       "<AxesSubplot:xlabel='HAEMOGLOBINS'>"
      ]
     },
     "execution_count": 31,
     "metadata": {},
     "output_type": "execute_result"
    },
    {
     "data": {
      "image/png": "[encoded data removed]",
      "text/plain": [
       "<Figure size 432x288 with 1 Axes>"
      ]
     },
     "metadata": {
      "needs_background": "light"
     },
     "output_type": "display_data"
    }
   ],
   "source": [
    "sns.boxplot(df['HAEMOGLOBINS'])"
   ]
  },
  {
   "cell_type": "code",
   "execution_count": 32,
   "id": "e7495d43",
   "metadata": {},
   "outputs": [],
   "source": [
    "q1=df['HAEMOGLOBINS'].quantile(0.25)"
   ]
  },
  {
   "cell_type": "code",
   "execution_count": 33,
   "id": "b8b18346",
   "metadata": {},
   "outputs": [],
   "source": [
    "q3=df['HAEMOGLOBINS'].quantile(0.75)"
   ]
  },
  {
   "cell_type": "code",
   "execution_count": 34,
   "id": "08c8b0c3",
   "metadata": {},
   "outputs": [],
   "source": [
    "IQR=q3-q1"
   ]
  },
  {
   "cell_type": "code",
   "execution_count": 35,
   "id": "49203111",
   "metadata": {},
   "outputs": [],
   "source": [
    "lower=q1-1.5*IQR"
   ]
  },
  {
   "cell_type": "code",
   "execution_count": 36,
   "id": "e4ccb612",
   "metadata": {},
   "outputs": [],
   "source": [
    "upper=q3+1.5*IQR"
   ]
  },
  {
   "cell_type": "code",
   "execution_count": 37,
   "id": "669bc649",
   "metadata": {},
   "outputs": [],
   "source": [
    "df=df[(df['HAEMOGLOBINS']>lower) & (df['HAEMOGLOBINS']<upper)]"
   ]
  },
  {
   "cell_type": "code",
   "execution_count": 38,
   "id": "d9524313",
   "metadata": {},
   "outputs": [
    {
     "data": {
      "text/html": [
       "<div>\n",
       "<style scoped>\n",
       "    .dataframe tbody tr th:only-of-type {\n",
       "        vertical-align: middle;\n",
       "    }\n",
       "\n",
       "    .dataframe tbody tr th {\n",
       "        vertical-align: top;\n",
       "    }\n",
       "\n",
       "    .dataframe thead th {\n",
       "        text-align: right;\n",
       "    }\n",
       "</style>\n",
       "<table border=\"1\" class=\"dataframe\">\n",
       "  <thead>\n",
       "    <tr style=\"text-align: right;\">\n",
       "      <th></th>\n",
       "      <th>HAEMATOCRIT</th>\n",
       "      <th>HAEMOGLOBINS</th>\n",
       "      <th>ERYTHROCYTE</th>\n",
       "      <th>LEUCOCYTE</th>\n",
       "      <th>THROMBOCYTE</th>\n",
       "      <th>MCH</th>\n",
       "      <th>MCHC</th>\n",
       "      <th>MCV</th>\n",
       "      <th>AGE</th>\n",
       "      <th>SEX</th>\n",
       "      <th>SOURCE</th>\n",
       "    </tr>\n",
       "  </thead>\n",
       "  <tbody>\n",
       "    <tr>\n",
       "      <th>0</th>\n",
       "      <td>35.1</td>\n",
       "      <td>11.8</td>\n",
       "      <td>4.65</td>\n",
       "      <td>6.3</td>\n",
       "      <td>310</td>\n",
       "      <td>25.4</td>\n",
       "      <td>33.6</td>\n",
       "      <td>75.5</td>\n",
       "      <td>1</td>\n",
       "      <td>F</td>\n",
       "      <td>out</td>\n",
       "    </tr>\n",
       "    <tr>\n",
       "      <th>1</th>\n",
       "      <td>43.5</td>\n",
       "      <td>14.8</td>\n",
       "      <td>5.39</td>\n",
       "      <td>12.7</td>\n",
       "      <td>334</td>\n",
       "      <td>27.5</td>\n",
       "      <td>34.0</td>\n",
       "      <td>80.7</td>\n",
       "      <td>1</td>\n",
       "      <td>F</td>\n",
       "      <td>out</td>\n",
       "    </tr>\n",
       "    <tr>\n",
       "      <th>2</th>\n",
       "      <td>33.5</td>\n",
       "      <td>11.3</td>\n",
       "      <td>4.74</td>\n",
       "      <td>13.2</td>\n",
       "      <td>305</td>\n",
       "      <td>23.8</td>\n",
       "      <td>33.7</td>\n",
       "      <td>70.7</td>\n",
       "      <td>1</td>\n",
       "      <td>F</td>\n",
       "      <td>out</td>\n",
       "    </tr>\n",
       "    <tr>\n",
       "      <th>3</th>\n",
       "      <td>39.1</td>\n",
       "      <td>13.7</td>\n",
       "      <td>4.98</td>\n",
       "      <td>10.5</td>\n",
       "      <td>366</td>\n",
       "      <td>27.5</td>\n",
       "      <td>35.0</td>\n",
       "      <td>78.5</td>\n",
       "      <td>1</td>\n",
       "      <td>F</td>\n",
       "      <td>out</td>\n",
       "    </tr>\n",
       "    <tr>\n",
       "      <th>4</th>\n",
       "      <td>30.9</td>\n",
       "      <td>9.9</td>\n",
       "      <td>4.23</td>\n",
       "      <td>22.1</td>\n",
       "      <td>333</td>\n",
       "      <td>23.4</td>\n",
       "      <td>32.0</td>\n",
       "      <td>73.0</td>\n",
       "      <td>1</td>\n",
       "      <td>M</td>\n",
       "      <td>out</td>\n",
       "    </tr>\n",
       "    <tr>\n",
       "      <th>...</th>\n",
       "      <td>...</td>\n",
       "      <td>...</td>\n",
       "      <td>...</td>\n",
       "      <td>...</td>\n",
       "      <td>...</td>\n",
       "      <td>...</td>\n",
       "      <td>...</td>\n",
       "      <td>...</td>\n",
       "      <td>...</td>\n",
       "      <td>...</td>\n",
       "      <td>...</td>\n",
       "    </tr>\n",
       "    <tr>\n",
       "      <th>4407</th>\n",
       "      <td>32.8</td>\n",
       "      <td>10.4</td>\n",
       "      <td>3.49</td>\n",
       "      <td>8.1</td>\n",
       "      <td>72</td>\n",
       "      <td>29.8</td>\n",
       "      <td>31.7</td>\n",
       "      <td>94.0</td>\n",
       "      <td>92</td>\n",
       "      <td>F</td>\n",
       "      <td>in</td>\n",
       "    </tr>\n",
       "    <tr>\n",
       "      <th>4408</th>\n",
       "      <td>33.7</td>\n",
       "      <td>10.8</td>\n",
       "      <td>3.67</td>\n",
       "      <td>6.7</td>\n",
       "      <td>70</td>\n",
       "      <td>29.4</td>\n",
       "      <td>32.0</td>\n",
       "      <td>91.8</td>\n",
       "      <td>92</td>\n",
       "      <td>F</td>\n",
       "      <td>in</td>\n",
       "    </tr>\n",
       "    <tr>\n",
       "      <th>4409</th>\n",
       "      <td>33.2</td>\n",
       "      <td>11.2</td>\n",
       "      <td>3.47</td>\n",
       "      <td>7.2</td>\n",
       "      <td>235</td>\n",
       "      <td>32.3</td>\n",
       "      <td>33.7</td>\n",
       "      <td>95.7</td>\n",
       "      <td>93</td>\n",
       "      <td>F</td>\n",
       "      <td>out</td>\n",
       "    </tr>\n",
       "    <tr>\n",
       "      <th>4410</th>\n",
       "      <td>31.5</td>\n",
       "      <td>10.4</td>\n",
       "      <td>3.15</td>\n",
       "      <td>9.1</td>\n",
       "      <td>187</td>\n",
       "      <td>33.0</td>\n",
       "      <td>33.0</td>\n",
       "      <td>100.0</td>\n",
       "      <td>98</td>\n",
       "      <td>F</td>\n",
       "      <td>in</td>\n",
       "    </tr>\n",
       "    <tr>\n",
       "      <th>4411</th>\n",
       "      <td>33.5</td>\n",
       "      <td>10.9</td>\n",
       "      <td>3.44</td>\n",
       "      <td>5.8</td>\n",
       "      <td>275</td>\n",
       "      <td>31.7</td>\n",
       "      <td>32.5</td>\n",
       "      <td>97.4</td>\n",
       "      <td>99</td>\n",
       "      <td>F</td>\n",
       "      <td>out</td>\n",
       "    </tr>\n",
       "  </tbody>\n",
       "</table>\n",
       "<p>4379 rows × 11 columns</p>\n",
       "</div>"
      ],
      "text/plain": [
       "      HAEMATOCRIT  HAEMOGLOBINS  ERYTHROCYTE  LEUCOCYTE  THROMBOCYTE   MCH  \\\n",
       "0            35.1          11.8         4.65        6.3          310  25.4   \n",
       "1            43.5          14.8         5.39       12.7          334  27.5   \n",
       "2            33.5          11.3         4.74       13.2          305  23.8   \n",
       "3            39.1          13.7         4.98       10.5          366  27.5   \n",
       "4            30.9           9.9         4.23       22.1          333  23.4   \n",
       "...           ...           ...          ...        ...          ...   ...   \n",
       "4407         32.8          10.4         3.49        8.1           72  29.8   \n",
       "4408         33.7          10.8         3.67        6.7           70  29.4   \n",
       "4409         33.2          11.2         3.47        7.2          235  32.3   \n",
       "4410         31.5          10.4         3.15        9.1          187  33.0   \n",
       "4411         33.5          10.9         3.44        5.8          275  31.7   \n",
       "\n",
       "      MCHC    MCV  AGE SEX SOURCE  \n",
       "0     33.6   75.5    1   F    out  \n",
       "1     34.0   80.7    1   F    out  \n",
       "2     33.7   70.7    1   F    out  \n",
       "3     35.0   78.5    1   F    out  \n",
       "4     32.0   73.0    1   M    out  \n",
       "...    ...    ...  ...  ..    ...  \n",
       "4407  31.7   94.0   92   F     in  \n",
       "4408  32.0   91.8   92   F     in  \n",
       "4409  33.7   95.7   93   F    out  \n",
       "4410  33.0  100.0   98   F     in  \n",
       "4411  32.5   97.4   99   F    out  \n",
       "\n",
       "[4379 rows x 11 columns]"
      ]
     },
     "execution_count": 38,
     "metadata": {},
     "output_type": "execute_result"
    }
   ],
   "source": [
    "df"
   ]
  },
  {
   "cell_type": "code",
   "execution_count": 39,
   "id": "ed321af9",
   "metadata": {},
   "outputs": [
    {
     "name": "stderr",
     "output_type": "stream",
     "text": [
      "C:\\Users\\himanshu\\anaconda3\\lib\\site-packages\\seaborn\\_decorators.py:36: FutureWarning: Pass the following variable as a keyword arg: x. From version 0.12, the only valid positional argument will be `data`, and passing other arguments without an explicit keyword will result in an error or misinterpretation.\n",
      "  warnings.warn(\n"
     ]
    },
    {
     "data": {
      "text/plain": [
       "<AxesSubplot:xlabel='ERYTHROCYTE'>"
      ]
     },
     "execution_count": 39,
     "metadata": {},
     "output_type": "execute_result"
    },
    {
     "data": {
      "image/png": "[encoded data removed]",
      "text/plain": [
       "<Figure size 432x288 with 1 Axes>"
      ]
     },
     "metadata": {
      "needs_background": "light"
     },
     "output_type": "display_data"
    }
   ],
   "source": [
    "sns.boxplot(df['ERYTHROCYTE'])"
   ]
  },
  {
   "cell_type": "code",
   "execution_count": 40,
   "id": "fcfc96b9",
   "metadata": {},
   "outputs": [],
   "source": [
    "q1=df['ERYTHROCYTE'].quantile(0.25)"
   ]
  },
  {
   "cell_type": "code",
   "execution_count": 41,
   "id": "3b4195f0",
   "metadata": {},
   "outputs": [],
   "source": [
    "q3=df['ERYTHROCYTE'].quantile(0.75)"
   ]
  },
  {
   "cell_type": "code",
   "execution_count": 42,
   "id": "d0efa338",
   "metadata": {},
   "outputs": [],
   "source": [
    "IQR=q3-q1"
   ]
  },
  {
   "cell_type": "code",
   "execution_count": 43,
   "id": "178755b8",
   "metadata": {},
   "outputs": [],
   "source": [
    "lower=q1-1.5*IQR"
   ]
  },
  {
   "cell_type": "code",
   "execution_count": 44,
   "id": "fb8f9358",
   "metadata": {},
   "outputs": [],
   "source": [
    "upper=q3+1.5*IQR"
   ]
  },
  {
   "cell_type": "code",
   "execution_count": 45,
   "id": "12695bf2",
   "metadata": {},
   "outputs": [],
   "source": [
    "df=df[(df['ERYTHROCYTE']>lower) & (df['ERYTHROCYTE']<upper)]"
   ]
  },
  {
   "cell_type": "code",
   "execution_count": 46,
   "id": "7a3c0561",
   "metadata": {},
   "outputs": [
    {
     "data": {
      "text/html": [
       "<div>\n",
       "<style scoped>\n",
       "    .dataframe tbody tr th:only-of-type {\n",
       "        vertical-align: middle;\n",
       "    }\n",
       "\n",
       "    .dataframe tbody tr th {\n",
       "        vertical-align: top;\n",
       "    }\n",
       "\n",
       "    .dataframe thead th {\n",
       "        text-align: right;\n",
       "    }\n",
       "</style>\n",
       "<table border=\"1\" class=\"dataframe\">\n",
       "  <thead>\n",
       "    <tr style=\"text-align: right;\">\n",
       "      <th></th>\n",
       "      <th>HAEMATOCRIT</th>\n",
       "      <th>HAEMOGLOBINS</th>\n",
       "      <th>ERYTHROCYTE</th>\n",
       "      <th>LEUCOCYTE</th>\n",
       "      <th>THROMBOCYTE</th>\n",
       "      <th>MCH</th>\n",
       "      <th>MCHC</th>\n",
       "      <th>MCV</th>\n",
       "      <th>AGE</th>\n",
       "      <th>SEX</th>\n",
       "      <th>SOURCE</th>\n",
       "    </tr>\n",
       "  </thead>\n",
       "  <tbody>\n",
       "    <tr>\n",
       "      <th>0</th>\n",
       "      <td>35.1</td>\n",
       "      <td>11.8</td>\n",
       "      <td>4.65</td>\n",
       "      <td>6.3</td>\n",
       "      <td>310</td>\n",
       "      <td>25.4</td>\n",
       "      <td>33.6</td>\n",
       "      <td>75.5</td>\n",
       "      <td>1</td>\n",
       "      <td>F</td>\n",
       "      <td>out</td>\n",
       "    </tr>\n",
       "    <tr>\n",
       "      <th>1</th>\n",
       "      <td>43.5</td>\n",
       "      <td>14.8</td>\n",
       "      <td>5.39</td>\n",
       "      <td>12.7</td>\n",
       "      <td>334</td>\n",
       "      <td>27.5</td>\n",
       "      <td>34.0</td>\n",
       "      <td>80.7</td>\n",
       "      <td>1</td>\n",
       "      <td>F</td>\n",
       "      <td>out</td>\n",
       "    </tr>\n",
       "    <tr>\n",
       "      <th>2</th>\n",
       "      <td>33.5</td>\n",
       "      <td>11.3</td>\n",
       "      <td>4.74</td>\n",
       "      <td>13.2</td>\n",
       "      <td>305</td>\n",
       "      <td>23.8</td>\n",
       "      <td>33.7</td>\n",
       "      <td>70.7</td>\n",
       "      <td>1</td>\n",
       "      <td>F</td>\n",
       "      <td>out</td>\n",
       "    </tr>\n",
       "    <tr>\n",
       "      <th>3</th>\n",
       "      <td>39.1</td>\n",
       "      <td>13.7</td>\n",
       "      <td>4.98</td>\n",
       "      <td>10.5</td>\n",
       "      <td>366</td>\n",
       "      <td>27.5</td>\n",
       "      <td>35.0</td>\n",
       "      <td>78.5</td>\n",
       "      <td>1</td>\n",
       "      <td>F</td>\n",
       "      <td>out</td>\n",
       "    </tr>\n",
       "    <tr>\n",
       "      <th>4</th>\n",
       "      <td>30.9</td>\n",
       "      <td>9.9</td>\n",
       "      <td>4.23</td>\n",
       "      <td>22.1</td>\n",
       "      <td>333</td>\n",
       "      <td>23.4</td>\n",
       "      <td>32.0</td>\n",
       "      <td>73.0</td>\n",
       "      <td>1</td>\n",
       "      <td>M</td>\n",
       "      <td>out</td>\n",
       "    </tr>\n",
       "    <tr>\n",
       "      <th>...</th>\n",
       "      <td>...</td>\n",
       "      <td>...</td>\n",
       "      <td>...</td>\n",
       "      <td>...</td>\n",
       "      <td>...</td>\n",
       "      <td>...</td>\n",
       "      <td>...</td>\n",
       "      <td>...</td>\n",
       "      <td>...</td>\n",
       "      <td>...</td>\n",
       "      <td>...</td>\n",
       "    </tr>\n",
       "    <tr>\n",
       "      <th>4407</th>\n",
       "      <td>32.8</td>\n",
       "      <td>10.4</td>\n",
       "      <td>3.49</td>\n",
       "      <td>8.1</td>\n",
       "      <td>72</td>\n",
       "      <td>29.8</td>\n",
       "      <td>31.7</td>\n",
       "      <td>94.0</td>\n",
       "      <td>92</td>\n",
       "      <td>F</td>\n",
       "      <td>in</td>\n",
       "    </tr>\n",
       "    <tr>\n",
       "      <th>4408</th>\n",
       "      <td>33.7</td>\n",
       "      <td>10.8</td>\n",
       "      <td>3.67</td>\n",
       "      <td>6.7</td>\n",
       "      <td>70</td>\n",
       "      <td>29.4</td>\n",
       "      <td>32.0</td>\n",
       "      <td>91.8</td>\n",
       "      <td>92</td>\n",
       "      <td>F</td>\n",
       "      <td>in</td>\n",
       "    </tr>\n",
       "    <tr>\n",
       "      <th>4409</th>\n",
       "      <td>33.2</td>\n",
       "      <td>11.2</td>\n",
       "      <td>3.47</td>\n",
       "      <td>7.2</td>\n",
       "      <td>235</td>\n",
       "      <td>32.3</td>\n",
       "      <td>33.7</td>\n",
       "      <td>95.7</td>\n",
       "      <td>93</td>\n",
       "      <td>F</td>\n",
       "      <td>out</td>\n",
       "    </tr>\n",
       "    <tr>\n",
       "      <th>4410</th>\n",
       "      <td>31.5</td>\n",
       "      <td>10.4</td>\n",
       "      <td>3.15</td>\n",
       "      <td>9.1</td>\n",
       "      <td>187</td>\n",
       "      <td>33.0</td>\n",
       "      <td>33.0</td>\n",
       "      <td>100.0</td>\n",
       "      <td>98</td>\n",
       "      <td>F</td>\n",
       "      <td>in</td>\n",
       "    </tr>\n",
       "    <tr>\n",
       "      <th>4411</th>\n",
       "      <td>33.5</td>\n",
       "      <td>10.9</td>\n",
       "      <td>3.44</td>\n",
       "      <td>5.8</td>\n",
       "      <td>275</td>\n",
       "      <td>31.7</td>\n",
       "      <td>32.5</td>\n",
       "      <td>97.4</td>\n",
       "      <td>99</td>\n",
       "      <td>F</td>\n",
       "      <td>out</td>\n",
       "    </tr>\n",
       "  </tbody>\n",
       "</table>\n",
       "<p>4326 rows × 11 columns</p>\n",
       "</div>"
      ],
      "text/plain": [
       "      HAEMATOCRIT  HAEMOGLOBINS  ERYTHROCYTE  LEUCOCYTE  THROMBOCYTE   MCH  \\\n",
       "0            35.1          11.8         4.65        6.3          310  25.4   \n",
       "1            43.5          14.8         5.39       12.7          334  27.5   \n",
       "2            33.5          11.3         4.74       13.2          305  23.8   \n",
       "3            39.1          13.7         4.98       10.5          366  27.5   \n",
       "4            30.9           9.9         4.23       22.1          333  23.4   \n",
       "...           ...           ...          ...        ...          ...   ...   \n",
       "4407         32.8          10.4         3.49        8.1           72  29.8   \n",
       "4408         33.7          10.8         3.67        6.7           70  29.4   \n",
       "4409         33.2          11.2         3.47        7.2          235  32.3   \n",
       "4410         31.5          10.4         3.15        9.1          187  33.0   \n",
       "4411         33.5          10.9         3.44        5.8          275  31.7   \n",
       "\n",
       "      MCHC    MCV  AGE SEX SOURCE  \n",
       "0     33.6   75.5    1   F    out  \n",
       "1     34.0   80.7    1   F    out  \n",
       "2     33.7   70.7    1   F    out  \n",
       "3     35.0   78.5    1   F    out  \n",
       "4     32.0   73.0    1   M    out  \n",
       "...    ...    ...  ...  ..    ...  \n",
       "4407  31.7   94.0   92   F     in  \n",
       "4408  32.0   91.8   92   F     in  \n",
       "4409  33.7   95.7   93   F    out  \n",
       "4410  33.0  100.0   98   F     in  \n",
       "4411  32.5   97.4   99   F    out  \n",
       "\n",
       "[4326 rows x 11 columns]"
      ]
     },
     "execution_count": 46,
     "metadata": {},
     "output_type": "execute_result"
    }
   ],
   "source": [
    "df"
   ]
  },
  {
   "cell_type": "code",
   "execution_count": 47,
   "id": "4acd3874",
   "metadata": {},
   "outputs": [
    {
     "name": "stderr",
     "output_type": "stream",
     "text": [
      "C:\\Users\\himanshu\\anaconda3\\lib\\site-packages\\seaborn\\_decorators.py:36: FutureWarning: Pass the following variable as a keyword arg: x. From version 0.12, the only valid positional argument will be `data`, and passing other arguments without an explicit keyword will result in an error or misinterpretation.\n",
      "  warnings.warn(\n"
     ]
    },
    {
     "data": {
      "text/plain": [
       "<AxesSubplot:xlabel='LEUCOCYTE'>"
      ]
     },
     "execution_count": 47,
     "metadata": {},
     "output_type": "execute_result"
    },
    {
     "data": {
      "image/png": "[encoded data removed]",
      "text/plain": [
       "<Figure size 432x288 with 1 Axes>"
      ]
     },
     "metadata": {
      "needs_background": "light"
     },
     "output_type": "display_data"
    }
   ],
   "source": [
    "sns.barplot(df['LEUCOCYTE'])"
   ]
  },
  {
   "cell_type": "code",
   "execution_count": 48,
   "id": "f2c469ec",
   "metadata": {},
   "outputs": [
    {
     "name": "stderr",
     "output_type": "stream",
     "text": [
      "C:\\Users\\himanshu\\anaconda3\\lib\\site-packages\\seaborn\\_decorators.py:36: FutureWarning: Pass the following variable as a keyword arg: x. From version 0.12, the only valid positional argument will be `data`, and passing other arguments without an explicit keyword will result in an error or misinterpretation.\n",
      "  warnings.warn(\n"
     ]
    },
    {
     "data": {
      "text/plain": [
       "<AxesSubplot:xlabel='THROMBOCYTE'>"
      ]
     },
     "execution_count": 48,
     "metadata": {},
     "output_type": "execute_result"
    },
    {
     "data": {
      "image/png": "[encoded data removed]",
      "text/plain": [
       "<Figure size 432x288 with 1 Axes>"
      ]
     },
     "metadata": {
      "needs_background": "light"
     },
     "output_type": "display_data"
    }
   ],
   "source": [
    "sns.boxplot(df['THROMBOCYTE'])"
   ]
  },
  {
   "cell_type": "code",
   "execution_count": 49,
   "id": "25841aec",
   "metadata": {},
   "outputs": [],
   "source": [
    "q1=df['THROMBOCYTE'].quantile(0.25)"
   ]
  },
  {
   "cell_type": "code",
   "execution_count": 50,
   "id": "0d7a6d01",
   "metadata": {},
   "outputs": [],
   "source": [
    "q3=df['THROMBOCYTE'].quantile(0.75)"
   ]
  },
  {
   "cell_type": "code",
   "execution_count": 51,
   "id": "a1048df8",
   "metadata": {},
   "outputs": [],
   "source": [
    "IQR=q3-q1"
   ]
  },
  {
   "cell_type": "code",
   "execution_count": 52,
   "id": "7a7eea86",
   "metadata": {},
   "outputs": [],
   "source": [
    "lower=q1-1.5*IQR"
   ]
  },
  {
   "cell_type": "code",
   "execution_count": 53,
   "id": "9d7bdacc",
   "metadata": {},
   "outputs": [],
   "source": [
    "upper=q3+1.5*IQR"
   ]
  },
  {
   "cell_type": "code",
   "execution_count": 54,
   "id": "24eba0ac",
   "metadata": {},
   "outputs": [],
   "source": [
    "df=df[(df['THROMBOCYTE']>lower) & (df['THROMBOCYTE']<upper)]"
   ]
  },
  {
   "cell_type": "code",
   "execution_count": 55,
   "id": "abaa2acc",
   "metadata": {},
   "outputs": [
    {
     "data": {
      "text/html": [
       "<div>\n",
       "<style scoped>\n",
       "    .dataframe tbody tr th:only-of-type {\n",
       "        vertical-align: middle;\n",
       "    }\n",
       "\n",
       "    .dataframe tbody tr th {\n",
       "        vertical-align: top;\n",
       "    }\n",
       "\n",
       "    .dataframe thead th {\n",
       "        text-align: right;\n",
       "    }\n",
       "</style>\n",
       "<table border=\"1\" class=\"dataframe\">\n",
       "  <thead>\n",
       "    <tr style=\"text-align: right;\">\n",
       "      <th></th>\n",
       "      <th>HAEMATOCRIT</th>\n",
       "      <th>HAEMOGLOBINS</th>\n",
       "      <th>ERYTHROCYTE</th>\n",
       "      <th>LEUCOCYTE</th>\n",
       "      <th>THROMBOCYTE</th>\n",
       "      <th>MCH</th>\n",
       "      <th>MCHC</th>\n",
       "      <th>MCV</th>\n",
       "      <th>AGE</th>\n",
       "      <th>SEX</th>\n",
       "      <th>SOURCE</th>\n",
       "    </tr>\n",
       "  </thead>\n",
       "  <tbody>\n",
       "    <tr>\n",
       "      <th>0</th>\n",
       "      <td>35.1</td>\n",
       "      <td>11.8</td>\n",
       "      <td>4.65</td>\n",
       "      <td>6.3</td>\n",
       "      <td>310</td>\n",
       "      <td>25.4</td>\n",
       "      <td>33.6</td>\n",
       "      <td>75.5</td>\n",
       "      <td>1</td>\n",
       "      <td>F</td>\n",
       "      <td>out</td>\n",
       "    </tr>\n",
       "    <tr>\n",
       "      <th>1</th>\n",
       "      <td>43.5</td>\n",
       "      <td>14.8</td>\n",
       "      <td>5.39</td>\n",
       "      <td>12.7</td>\n",
       "      <td>334</td>\n",
       "      <td>27.5</td>\n",
       "      <td>34.0</td>\n",
       "      <td>80.7</td>\n",
       "      <td>1</td>\n",
       "      <td>F</td>\n",
       "      <td>out</td>\n",
       "    </tr>\n",
       "    <tr>\n",
       "      <th>2</th>\n",
       "      <td>33.5</td>\n",
       "      <td>11.3</td>\n",
       "      <td>4.74</td>\n",
       "      <td>13.2</td>\n",
       "      <td>305</td>\n",
       "      <td>23.8</td>\n",
       "      <td>33.7</td>\n",
       "      <td>70.7</td>\n",
       "      <td>1</td>\n",
       "      <td>F</td>\n",
       "      <td>out</td>\n",
       "    </tr>\n",
       "    <tr>\n",
       "      <th>3</th>\n",
       "      <td>39.1</td>\n",
       "      <td>13.7</td>\n",
       "      <td>4.98</td>\n",
       "      <td>10.5</td>\n",
       "      <td>366</td>\n",
       "      <td>27.5</td>\n",
       "      <td>35.0</td>\n",
       "      <td>78.5</td>\n",
       "      <td>1</td>\n",
       "      <td>F</td>\n",
       "      <td>out</td>\n",
       "    </tr>\n",
       "    <tr>\n",
       "      <th>4</th>\n",
       "      <td>30.9</td>\n",
       "      <td>9.9</td>\n",
       "      <td>4.23</td>\n",
       "      <td>22.1</td>\n",
       "      <td>333</td>\n",
       "      <td>23.4</td>\n",
       "      <td>32.0</td>\n",
       "      <td>73.0</td>\n",
       "      <td>1</td>\n",
       "      <td>M</td>\n",
       "      <td>out</td>\n",
       "    </tr>\n",
       "    <tr>\n",
       "      <th>...</th>\n",
       "      <td>...</td>\n",
       "      <td>...</td>\n",
       "      <td>...</td>\n",
       "      <td>...</td>\n",
       "      <td>...</td>\n",
       "      <td>...</td>\n",
       "      <td>...</td>\n",
       "      <td>...</td>\n",
       "      <td>...</td>\n",
       "      <td>...</td>\n",
       "      <td>...</td>\n",
       "    </tr>\n",
       "    <tr>\n",
       "      <th>4407</th>\n",
       "      <td>32.8</td>\n",
       "      <td>10.4</td>\n",
       "      <td>3.49</td>\n",
       "      <td>8.1</td>\n",
       "      <td>72</td>\n",
       "      <td>29.8</td>\n",
       "      <td>31.7</td>\n",
       "      <td>94.0</td>\n",
       "      <td>92</td>\n",
       "      <td>F</td>\n",
       "      <td>in</td>\n",
       "    </tr>\n",
       "    <tr>\n",
       "      <th>4408</th>\n",
       "      <td>33.7</td>\n",
       "      <td>10.8</td>\n",
       "      <td>3.67</td>\n",
       "      <td>6.7</td>\n",
       "      <td>70</td>\n",
       "      <td>29.4</td>\n",
       "      <td>32.0</td>\n",
       "      <td>91.8</td>\n",
       "      <td>92</td>\n",
       "      <td>F</td>\n",
       "      <td>in</td>\n",
       "    </tr>\n",
       "    <tr>\n",
       "      <th>4409</th>\n",
       "      <td>33.2</td>\n",
       "      <td>11.2</td>\n",
       "      <td>3.47</td>\n",
       "      <td>7.2</td>\n",
       "      <td>235</td>\n",
       "      <td>32.3</td>\n",
       "      <td>33.7</td>\n",
       "      <td>95.7</td>\n",
       "      <td>93</td>\n",
       "      <td>F</td>\n",
       "      <td>out</td>\n",
       "    </tr>\n",
       "    <tr>\n",
       "      <th>4410</th>\n",
       "      <td>31.5</td>\n",
       "      <td>10.4</td>\n",
       "      <td>3.15</td>\n",
       "      <td>9.1</td>\n",
       "      <td>187</td>\n",
       "      <td>33.0</td>\n",
       "      <td>33.0</td>\n",
       "      <td>100.0</td>\n",
       "      <td>98</td>\n",
       "      <td>F</td>\n",
       "      <td>in</td>\n",
       "    </tr>\n",
       "    <tr>\n",
       "      <th>4411</th>\n",
       "      <td>33.5</td>\n",
       "      <td>10.9</td>\n",
       "      <td>3.44</td>\n",
       "      <td>5.8</td>\n",
       "      <td>275</td>\n",
       "      <td>31.7</td>\n",
       "      <td>32.5</td>\n",
       "      <td>97.4</td>\n",
       "      <td>99</td>\n",
       "      <td>F</td>\n",
       "      <td>out</td>\n",
       "    </tr>\n",
       "  </tbody>\n",
       "</table>\n",
       "<p>4253 rows × 11 columns</p>\n",
       "</div>"
      ],
      "text/plain": [
       "      HAEMATOCRIT  HAEMOGLOBINS  ERYTHROCYTE  LEUCOCYTE  THROMBOCYTE   MCH  \\\n",
       "0            35.1          11.8         4.65        6.3          310  25.4   \n",
       "1            43.5          14.8         5.39       12.7          334  27.5   \n",
       "2            33.5          11.3         4.74       13.2          305  23.8   \n",
       "3            39.1          13.7         4.98       10.5          366  27.5   \n",
       "4            30.9           9.9         4.23       22.1          333  23.4   \n",
       "...           ...           ...          ...        ...          ...   ...   \n",
       "4407         32.8          10.4         3.49        8.1           72  29.8   \n",
       "4408         33.7          10.8         3.67        6.7           70  29.4   \n",
       "4409         33.2          11.2         3.47        7.2          235  32.3   \n",
       "4410         31.5          10.4         3.15        9.1          187  33.0   \n",
       "4411         33.5          10.9         3.44        5.8          275  31.7   \n",
       "\n",
       "      MCHC    MCV  AGE SEX SOURCE  \n",
       "0     33.6   75.5    1   F    out  \n",
       "1     34.0   80.7    1   F    out  \n",
       "2     33.7   70.7    1   F    out  \n",
       "3     35.0   78.5    1   F    out  \n",
       "4     32.0   73.0    1   M    out  \n",
       "...    ...    ...  ...  ..    ...  \n",
       "4407  31.7   94.0   92   F     in  \n",
       "4408  32.0   91.8   92   F     in  \n",
       "4409  33.7   95.7   93   F    out  \n",
       "4410  33.0  100.0   98   F     in  \n",
       "4411  32.5   97.4   99   F    out  \n",
       "\n",
       "[4253 rows x 11 columns]"
      ]
     },
     "execution_count": 55,
     "metadata": {},
     "output_type": "execute_result"
    }
   ],
   "source": [
    "df"
   ]
  },
  {
   "cell_type": "code",
   "execution_count": 56,
   "id": "cd8f8b84",
   "metadata": {},
   "outputs": [
    {
     "name": "stderr",
     "output_type": "stream",
     "text": [
      "C:\\Users\\himanshu\\anaconda3\\lib\\site-packages\\seaborn\\_decorators.py:36: FutureWarning: Pass the following variable as a keyword arg: x. From version 0.12, the only valid positional argument will be `data`, and passing other arguments without an explicit keyword will result in an error or misinterpretation.\n",
      "  warnings.warn(\n"
     ]
    },
    {
     "data": {
      "text/plain": [
       "<AxesSubplot:xlabel='MCH'>"
      ]
     },
     "execution_count": 56,
     "metadata": {},
     "output_type": "execute_result"
    },
    {
     "data": {
      "image/png": "[encoded data removed]",
      "text/plain": [
       "<Figure size 432x288 with 1 Axes>"
      ]
     },
     "metadata": {
      "needs_background": "light"
     },
     "output_type": "display_data"
    }
   ],
   "source": [
    "sns.boxplot(df['MCH'])"
   ]
  },
  {
   "cell_type": "code",
   "execution_count": 57,
   "id": "61e83b89",
   "metadata": {},
   "outputs": [],
   "source": [
    "q1=df['MCH'].quantile(0.25)"
   ]
  },
  {
   "cell_type": "code",
   "execution_count": 58,
   "id": "15155bd4",
   "metadata": {},
   "outputs": [],
   "source": [
    "q3=df['MCH'].quantile(0.75)"
   ]
  },
  {
   "cell_type": "code",
   "execution_count": 59,
   "id": "35ca7463",
   "metadata": {},
   "outputs": [],
   "source": [
    "IQR=q3-q1"
   ]
  },
  {
   "cell_type": "code",
   "execution_count": 60,
   "id": "af0faf03",
   "metadata": {},
   "outputs": [],
   "source": [
    "lower=q1-1.5*IQR"
   ]
  },
  {
   "cell_type": "code",
   "execution_count": 61,
   "id": "1786bd4d",
   "metadata": {},
   "outputs": [],
   "source": [
    "upper=q3+1.5*IQR"
   ]
  },
  {
   "cell_type": "code",
   "execution_count": 62,
   "id": "fca3b7c3",
   "metadata": {},
   "outputs": [],
   "source": [
    "df=df[(df['MCH']>lower) & (df['MCH']<upper)]"
   ]
  },
  {
   "cell_type": "code",
   "execution_count": 63,
   "id": "13bbdcd2",
   "metadata": {},
   "outputs": [
    {
     "data": {
      "text/html": [
       "<div>\n",
       "<style scoped>\n",
       "    .dataframe tbody tr th:only-of-type {\n",
       "        vertical-align: middle;\n",
       "    }\n",
       "\n",
       "    .dataframe tbody tr th {\n",
       "        vertical-align: top;\n",
       "    }\n",
       "\n",
       "    .dataframe thead th {\n",
       "        text-align: right;\n",
       "    }\n",
       "</style>\n",
       "<table border=\"1\" class=\"dataframe\">\n",
       "  <thead>\n",
       "    <tr style=\"text-align: right;\">\n",
       "      <th></th>\n",
       "      <th>HAEMATOCRIT</th>\n",
       "      <th>HAEMOGLOBINS</th>\n",
       "      <th>ERYTHROCYTE</th>\n",
       "      <th>LEUCOCYTE</th>\n",
       "      <th>THROMBOCYTE</th>\n",
       "      <th>MCH</th>\n",
       "      <th>MCHC</th>\n",
       "      <th>MCV</th>\n",
       "      <th>AGE</th>\n",
       "      <th>SEX</th>\n",
       "      <th>SOURCE</th>\n",
       "    </tr>\n",
       "  </thead>\n",
       "  <tbody>\n",
       "    <tr>\n",
       "      <th>0</th>\n",
       "      <td>35.1</td>\n",
       "      <td>11.8</td>\n",
       "      <td>4.65</td>\n",
       "      <td>6.3</td>\n",
       "      <td>310</td>\n",
       "      <td>25.4</td>\n",
       "      <td>33.6</td>\n",
       "      <td>75.5</td>\n",
       "      <td>1</td>\n",
       "      <td>F</td>\n",
       "      <td>out</td>\n",
       "    </tr>\n",
       "    <tr>\n",
       "      <th>1</th>\n",
       "      <td>43.5</td>\n",
       "      <td>14.8</td>\n",
       "      <td>5.39</td>\n",
       "      <td>12.7</td>\n",
       "      <td>334</td>\n",
       "      <td>27.5</td>\n",
       "      <td>34.0</td>\n",
       "      <td>80.7</td>\n",
       "      <td>1</td>\n",
       "      <td>F</td>\n",
       "      <td>out</td>\n",
       "    </tr>\n",
       "    <tr>\n",
       "      <th>2</th>\n",
       "      <td>33.5</td>\n",
       "      <td>11.3</td>\n",
       "      <td>4.74</td>\n",
       "      <td>13.2</td>\n",
       "      <td>305</td>\n",
       "      <td>23.8</td>\n",
       "      <td>33.7</td>\n",
       "      <td>70.7</td>\n",
       "      <td>1</td>\n",
       "      <td>F</td>\n",
       "      <td>out</td>\n",
       "    </tr>\n",
       "    <tr>\n",
       "      <th>3</th>\n",
       "      <td>39.1</td>\n",
       "      <td>13.7</td>\n",
       "      <td>4.98</td>\n",
       "      <td>10.5</td>\n",
       "      <td>366</td>\n",
       "      <td>27.5</td>\n",
       "      <td>35.0</td>\n",
       "      <td>78.5</td>\n",
       "      <td>1</td>\n",
       "      <td>F</td>\n",
       "      <td>out</td>\n",
       "    </tr>\n",
       "    <tr>\n",
       "      <th>4</th>\n",
       "      <td>30.9</td>\n",
       "      <td>9.9</td>\n",
       "      <td>4.23</td>\n",
       "      <td>22.1</td>\n",
       "      <td>333</td>\n",
       "      <td>23.4</td>\n",
       "      <td>32.0</td>\n",
       "      <td>73.0</td>\n",
       "      <td>1</td>\n",
       "      <td>M</td>\n",
       "      <td>out</td>\n",
       "    </tr>\n",
       "    <tr>\n",
       "      <th>...</th>\n",
       "      <td>...</td>\n",
       "      <td>...</td>\n",
       "      <td>...</td>\n",
       "      <td>...</td>\n",
       "      <td>...</td>\n",
       "      <td>...</td>\n",
       "      <td>...</td>\n",
       "      <td>...</td>\n",
       "      <td>...</td>\n",
       "      <td>...</td>\n",
       "      <td>...</td>\n",
       "    </tr>\n",
       "    <tr>\n",
       "      <th>4407</th>\n",
       "      <td>32.8</td>\n",
       "      <td>10.4</td>\n",
       "      <td>3.49</td>\n",
       "      <td>8.1</td>\n",
       "      <td>72</td>\n",
       "      <td>29.8</td>\n",
       "      <td>31.7</td>\n",
       "      <td>94.0</td>\n",
       "      <td>92</td>\n",
       "      <td>F</td>\n",
       "      <td>in</td>\n",
       "    </tr>\n",
       "    <tr>\n",
       "      <th>4408</th>\n",
       "      <td>33.7</td>\n",
       "      <td>10.8</td>\n",
       "      <td>3.67</td>\n",
       "      <td>6.7</td>\n",
       "      <td>70</td>\n",
       "      <td>29.4</td>\n",
       "      <td>32.0</td>\n",
       "      <td>91.8</td>\n",
       "      <td>92</td>\n",
       "      <td>F</td>\n",
       "      <td>in</td>\n",
       "    </tr>\n",
       "    <tr>\n",
       "      <th>4409</th>\n",
       "      <td>33.2</td>\n",
       "      <td>11.2</td>\n",
       "      <td>3.47</td>\n",
       "      <td>7.2</td>\n",
       "      <td>235</td>\n",
       "      <td>32.3</td>\n",
       "      <td>33.7</td>\n",
       "      <td>95.7</td>\n",
       "      <td>93</td>\n",
       "      <td>F</td>\n",
       "      <td>out</td>\n",
       "    </tr>\n",
       "    <tr>\n",
       "      <th>4410</th>\n",
       "      <td>31.5</td>\n",
       "      <td>10.4</td>\n",
       "      <td>3.15</td>\n",
       "      <td>9.1</td>\n",
       "      <td>187</td>\n",
       "      <td>33.0</td>\n",
       "      <td>33.0</td>\n",
       "      <td>100.0</td>\n",
       "      <td>98</td>\n",
       "      <td>F</td>\n",
       "      <td>in</td>\n",
       "    </tr>\n",
       "    <tr>\n",
       "      <th>4411</th>\n",
       "      <td>33.5</td>\n",
       "      <td>10.9</td>\n",
       "      <td>3.44</td>\n",
       "      <td>5.8</td>\n",
       "      <td>275</td>\n",
       "      <td>31.7</td>\n",
       "      <td>32.5</td>\n",
       "      <td>97.4</td>\n",
       "      <td>99</td>\n",
       "      <td>F</td>\n",
       "      <td>out</td>\n",
       "    </tr>\n",
       "  </tbody>\n",
       "</table>\n",
       "<p>4037 rows × 11 columns</p>\n",
       "</div>"
      ],
      "text/plain": [
       "      HAEMATOCRIT  HAEMOGLOBINS  ERYTHROCYTE  LEUCOCYTE  THROMBOCYTE   MCH  \\\n",
       "0            35.1          11.8         4.65        6.3          310  25.4   \n",
       "1            43.5          14.8         5.39       12.7          334  27.5   \n",
       "2            33.5          11.3         4.74       13.2          305  23.8   \n",
       "3            39.1          13.7         4.98       10.5          366  27.5   \n",
       "4            30.9           9.9         4.23       22.1          333  23.4   \n",
       "...           ...           ...          ...        ...          ...   ...   \n",
       "4407         32.8          10.4         3.49        8.1           72  29.8   \n",
       "4408         33.7          10.8         3.67        6.7           70  29.4   \n",
       "4409         33.2          11.2         3.47        7.2          235  32.3   \n",
       "4410         31.5          10.4         3.15        9.1          187  33.0   \n",
       "4411         33.5          10.9         3.44        5.8          275  31.7   \n",
       "\n",
       "      MCHC    MCV  AGE SEX SOURCE  \n",
       "0     33.6   75.5    1   F    out  \n",
       "1     34.0   80.7    1   F    out  \n",
       "2     33.7   70.7    1   F    out  \n",
       "3     35.0   78.5    1   F    out  \n",
       "4     32.0   73.0    1   M    out  \n",
       "...    ...    ...  ...  ..    ...  \n",
       "4407  31.7   94.0   92   F     in  \n",
       "4408  32.0   91.8   92   F     in  \n",
       "4409  33.7   95.7   93   F    out  \n",
       "4410  33.0  100.0   98   F     in  \n",
       "4411  32.5   97.4   99   F    out  \n",
       "\n",
       "[4037 rows x 11 columns]"
      ]
     },
     "execution_count": 63,
     "metadata": {},
     "output_type": "execute_result"
    }
   ],
   "source": [
    "df"
   ]
  },
  {
   "cell_type": "code",
   "execution_count": 64,
   "id": "bdb5a026",
   "metadata": {},
   "outputs": [
    {
     "name": "stderr",
     "output_type": "stream",
     "text": [
      "C:\\Users\\himanshu\\anaconda3\\lib\\site-packages\\seaborn\\_decorators.py:36: FutureWarning: Pass the following variable as a keyword arg: x. From version 0.12, the only valid positional argument will be `data`, and passing other arguments without an explicit keyword will result in an error or misinterpretation.\n",
      "  warnings.warn(\n"
     ]
    },
    {
     "data": {
      "text/plain": [
       "<AxesSubplot:xlabel='MCHC'>"
      ]
     },
     "execution_count": 64,
     "metadata": {},
     "output_type": "execute_result"
    },
    {
     "data": {
      "image/png": "[encoded data removed]",
      "text/plain": [
       "<Figure size 432x288 with 1 Axes>"
      ]
     },
     "metadata": {
      "needs_background": "light"
     },
     "output_type": "display_data"
    }
   ],
   "source": [
    "sns.boxplot(df['MCHC'])"
   ]
  },
  {
   "cell_type": "code",
   "execution_count": 65,
   "id": "3601ca39",
   "metadata": {},
   "outputs": [],
   "source": [
    "q1=df['MCHC'].quantile(0.25)"
   ]
  },
  {
   "cell_type": "code",
   "execution_count": 66,
   "id": "60e07012",
   "metadata": {},
   "outputs": [],
   "source": [
    "q3=df['MCHC'].quantile(0.75)"
   ]
  },
  {
   "cell_type": "code",
   "execution_count": 67,
   "id": "3f2cea64",
   "metadata": {},
   "outputs": [],
   "source": [
    "IQR=q3-q1"
   ]
  },
  {
   "cell_type": "code",
   "execution_count": 68,
   "id": "69e80cb7",
   "metadata": {},
   "outputs": [],
   "source": [
    "lower=q1-1.5*IQR"
   ]
  },
  {
   "cell_type": "code",
   "execution_count": 69,
   "id": "733850b3",
   "metadata": {},
   "outputs": [],
   "source": [
    "upper=q3+1.5*IQR"
   ]
  },
  {
   "cell_type": "code",
   "execution_count": 70,
   "id": "11718597",
   "metadata": {},
   "outputs": [],
   "source": [
    "df=df[(df['MCHC']>lower) & (df['MCHC']<upper)]"
   ]
  },
  {
   "cell_type": "code",
   "execution_count": 71,
   "id": "7d68badd",
   "metadata": {},
   "outputs": [
    {
     "data": {
      "text/html": [
       "<div>\n",
       "<style scoped>\n",
       "    .dataframe tbody tr th:only-of-type {\n",
       "        vertical-align: middle;\n",
       "    }\n",
       "\n",
       "    .dataframe tbody tr th {\n",
       "        vertical-align: top;\n",
       "    }\n",
       "\n",
       "    .dataframe thead th {\n",
       "        text-align: right;\n",
       "    }\n",
       "</style>\n",
       "<table border=\"1\" class=\"dataframe\">\n",
       "  <thead>\n",
       "    <tr style=\"text-align: right;\">\n",
       "      <th></th>\n",
       "      <th>HAEMATOCRIT</th>\n",
       "      <th>HAEMOGLOBINS</th>\n",
       "      <th>ERYTHROCYTE</th>\n",
       "      <th>LEUCOCYTE</th>\n",
       "      <th>THROMBOCYTE</th>\n",
       "      <th>MCH</th>\n",
       "      <th>MCHC</th>\n",
       "      <th>MCV</th>\n",
       "      <th>AGE</th>\n",
       "      <th>SEX</th>\n",
       "      <th>SOURCE</th>\n",
       "    </tr>\n",
       "  </thead>\n",
       "  <tbody>\n",
       "    <tr>\n",
       "      <th>0</th>\n",
       "      <td>35.1</td>\n",
       "      <td>11.8</td>\n",
       "      <td>4.65</td>\n",
       "      <td>6.3</td>\n",
       "      <td>310</td>\n",
       "      <td>25.4</td>\n",
       "      <td>33.6</td>\n",
       "      <td>75.5</td>\n",
       "      <td>1</td>\n",
       "      <td>F</td>\n",
       "      <td>out</td>\n",
       "    </tr>\n",
       "    <tr>\n",
       "      <th>1</th>\n",
       "      <td>43.5</td>\n",
       "      <td>14.8</td>\n",
       "      <td>5.39</td>\n",
       "      <td>12.7</td>\n",
       "      <td>334</td>\n",
       "      <td>27.5</td>\n",
       "      <td>34.0</td>\n",
       "      <td>80.7</td>\n",
       "      <td>1</td>\n",
       "      <td>F</td>\n",
       "      <td>out</td>\n",
       "    </tr>\n",
       "    <tr>\n",
       "      <th>2</th>\n",
       "      <td>33.5</td>\n",
       "      <td>11.3</td>\n",
       "      <td>4.74</td>\n",
       "      <td>13.2</td>\n",
       "      <td>305</td>\n",
       "      <td>23.8</td>\n",
       "      <td>33.7</td>\n",
       "      <td>70.7</td>\n",
       "      <td>1</td>\n",
       "      <td>F</td>\n",
       "      <td>out</td>\n",
       "    </tr>\n",
       "    <tr>\n",
       "      <th>3</th>\n",
       "      <td>39.1</td>\n",
       "      <td>13.7</td>\n",
       "      <td>4.98</td>\n",
       "      <td>10.5</td>\n",
       "      <td>366</td>\n",
       "      <td>27.5</td>\n",
       "      <td>35.0</td>\n",
       "      <td>78.5</td>\n",
       "      <td>1</td>\n",
       "      <td>F</td>\n",
       "      <td>out</td>\n",
       "    </tr>\n",
       "    <tr>\n",
       "      <th>4</th>\n",
       "      <td>30.9</td>\n",
       "      <td>9.9</td>\n",
       "      <td>4.23</td>\n",
       "      <td>22.1</td>\n",
       "      <td>333</td>\n",
       "      <td>23.4</td>\n",
       "      <td>32.0</td>\n",
       "      <td>73.0</td>\n",
       "      <td>1</td>\n",
       "      <td>M</td>\n",
       "      <td>out</td>\n",
       "    </tr>\n",
       "    <tr>\n",
       "      <th>...</th>\n",
       "      <td>...</td>\n",
       "      <td>...</td>\n",
       "      <td>...</td>\n",
       "      <td>...</td>\n",
       "      <td>...</td>\n",
       "      <td>...</td>\n",
       "      <td>...</td>\n",
       "      <td>...</td>\n",
       "      <td>...</td>\n",
       "      <td>...</td>\n",
       "      <td>...</td>\n",
       "    </tr>\n",
       "    <tr>\n",
       "      <th>4407</th>\n",
       "      <td>32.8</td>\n",
       "      <td>10.4</td>\n",
       "      <td>3.49</td>\n",
       "      <td>8.1</td>\n",
       "      <td>72</td>\n",
       "      <td>29.8</td>\n",
       "      <td>31.7</td>\n",
       "      <td>94.0</td>\n",
       "      <td>92</td>\n",
       "      <td>F</td>\n",
       "      <td>in</td>\n",
       "    </tr>\n",
       "    <tr>\n",
       "      <th>4408</th>\n",
       "      <td>33.7</td>\n",
       "      <td>10.8</td>\n",
       "      <td>3.67</td>\n",
       "      <td>6.7</td>\n",
       "      <td>70</td>\n",
       "      <td>29.4</td>\n",
       "      <td>32.0</td>\n",
       "      <td>91.8</td>\n",
       "      <td>92</td>\n",
       "      <td>F</td>\n",
       "      <td>in</td>\n",
       "    </tr>\n",
       "    <tr>\n",
       "      <th>4409</th>\n",
       "      <td>33.2</td>\n",
       "      <td>11.2</td>\n",
       "      <td>3.47</td>\n",
       "      <td>7.2</td>\n",
       "      <td>235</td>\n",
       "      <td>32.3</td>\n",
       "      <td>33.7</td>\n",
       "      <td>95.7</td>\n",
       "      <td>93</td>\n",
       "      <td>F</td>\n",
       "      <td>out</td>\n",
       "    </tr>\n",
       "    <tr>\n",
       "      <th>4410</th>\n",
       "      <td>31.5</td>\n",
       "      <td>10.4</td>\n",
       "      <td>3.15</td>\n",
       "      <td>9.1</td>\n",
       "      <td>187</td>\n",
       "      <td>33.0</td>\n",
       "      <td>33.0</td>\n",
       "      <td>100.0</td>\n",
       "      <td>98</td>\n",
       "      <td>F</td>\n",
       "      <td>in</td>\n",
       "    </tr>\n",
       "    <tr>\n",
       "      <th>4411</th>\n",
       "      <td>33.5</td>\n",
       "      <td>10.9</td>\n",
       "      <td>3.44</td>\n",
       "      <td>5.8</td>\n",
       "      <td>275</td>\n",
       "      <td>31.7</td>\n",
       "      <td>32.5</td>\n",
       "      <td>97.4</td>\n",
       "      <td>99</td>\n",
       "      <td>F</td>\n",
       "      <td>out</td>\n",
       "    </tr>\n",
       "  </tbody>\n",
       "</table>\n",
       "<p>3956 rows × 11 columns</p>\n",
       "</div>"
      ],
      "text/plain": [
       "      HAEMATOCRIT  HAEMOGLOBINS  ERYTHROCYTE  LEUCOCYTE  THROMBOCYTE   MCH  \\\n",
       "0            35.1          11.8         4.65        6.3          310  25.4   \n",
       "1            43.5          14.8         5.39       12.7          334  27.5   \n",
       "2            33.5          11.3         4.74       13.2          305  23.8   \n",
       "3            39.1          13.7         4.98       10.5          366  27.5   \n",
       "4            30.9           9.9         4.23       22.1          333  23.4   \n",
       "...           ...           ...          ...        ...          ...   ...   \n",
       "4407         32.8          10.4         3.49        8.1           72  29.8   \n",
       "4408         33.7          10.8         3.67        6.7           70  29.4   \n",
       "4409         33.2          11.2         3.47        7.2          235  32.3   \n",
       "4410         31.5          10.4         3.15        9.1          187  33.0   \n",
       "4411         33.5          10.9         3.44        5.8          275  31.7   \n",
       "\n",
       "      MCHC    MCV  AGE SEX SOURCE  \n",
       "0     33.6   75.5    1   F    out  \n",
       "1     34.0   80.7    1   F    out  \n",
       "2     33.7   70.7    1   F    out  \n",
       "3     35.0   78.5    1   F    out  \n",
       "4     32.0   73.0    1   M    out  \n",
       "...    ...    ...  ...  ..    ...  \n",
       "4407  31.7   94.0   92   F     in  \n",
       "4408  32.0   91.8   92   F     in  \n",
       "4409  33.7   95.7   93   F    out  \n",
       "4410  33.0  100.0   98   F     in  \n",
       "4411  32.5   97.4   99   F    out  \n",
       "\n",
       "[3956 rows x 11 columns]"
      ]
     },
     "execution_count": 71,
     "metadata": {},
     "output_type": "execute_result"
    }
   ],
   "source": [
    "df"
   ]
  },
  {
   "cell_type": "code",
   "execution_count": 72,
   "id": "8bac348b",
   "metadata": {},
   "outputs": [
    {
     "name": "stderr",
     "output_type": "stream",
     "text": [
      "C:\\Users\\himanshu\\anaconda3\\lib\\site-packages\\seaborn\\_decorators.py:36: FutureWarning: Pass the following variable as a keyword arg: x. From version 0.12, the only valid positional argument will be `data`, and passing other arguments without an explicit keyword will result in an error or misinterpretation.\n",
      "  warnings.warn(\n"
     ]
    },
    {
     "data": {
      "text/plain": [
       "<AxesSubplot:xlabel='MCV'>"
      ]
     },
     "execution_count": 72,
     "metadata": {},
     "output_type": "execute_result"
    },
    {
     "data": {
      "image/png": "[encoded data removed]",
      "text/plain": [
       "<Figure size 432x288 with 1 Axes>"
      ]
     },
     "metadata": {
      "needs_background": "light"
     },
     "output_type": "display_data"
    }
   ],
   "source": [
    "sns.boxplot(df['MCV'])"
   ]
  },
  {
   "cell_type": "code",
   "execution_count": 73,
   "id": "8fa972f4",
   "metadata": {},
   "outputs": [],
   "source": [
    "q1=df['MCV'].quantile(0.25)"
   ]
  },
  {
   "cell_type": "code",
   "execution_count": 74,
   "id": "66322cd2",
   "metadata": {},
   "outputs": [],
   "source": [
    "q3=df['MCV'].quantile(0.75)"
   ]
  },
  {
   "cell_type": "code",
   "execution_count": 75,
   "id": "31aa9f4a",
   "metadata": {},
   "outputs": [],
   "source": [
    "IQR=q3-q1"
   ]
  },
  {
   "cell_type": "code",
   "execution_count": 76,
   "id": "fd0d74a5",
   "metadata": {},
   "outputs": [],
   "source": [
    "lower=q1-1.5*IQR"
   ]
  },
  {
   "cell_type": "code",
   "execution_count": 77,
   "id": "17450dac",
   "metadata": {},
   "outputs": [],
   "source": [
    "upper=q3+1.5*IQR"
   ]
  },
  {
   "cell_type": "code",
   "execution_count": 78,
   "id": "5b6f028f",
   "metadata": {},
   "outputs": [],
   "source": [
    "df=df[(df['MCV']>lower) & (df['MCV']<upper)]"
   ]
  },
  {
   "cell_type": "code",
   "execution_count": 79,
   "id": "2dfaa6c9",
   "metadata": {},
   "outputs": [
    {
     "data": {
      "text/html": [
       "<div>\n",
       "<style scoped>\n",
       "    .dataframe tbody tr th:only-of-type {\n",
       "        vertical-align: middle;\n",
       "    }\n",
       "\n",
       "    .dataframe tbody tr th {\n",
       "        vertical-align: top;\n",
       "    }\n",
       "\n",
       "    .dataframe thead th {\n",
       "        text-align: right;\n",
       "    }\n",
       "</style>\n",
       "<table border=\"1\" class=\"dataframe\">\n",
       "  <thead>\n",
       "    <tr style=\"text-align: right;\">\n",
       "      <th></th>\n",
       "      <th>HAEMATOCRIT</th>\n",
       "      <th>HAEMOGLOBINS</th>\n",
       "      <th>ERYTHROCYTE</th>\n",
       "      <th>LEUCOCYTE</th>\n",
       "      <th>THROMBOCYTE</th>\n",
       "      <th>MCH</th>\n",
       "      <th>MCHC</th>\n",
       "      <th>MCV</th>\n",
       "      <th>AGE</th>\n",
       "      <th>SEX</th>\n",
       "      <th>SOURCE</th>\n",
       "    </tr>\n",
       "  </thead>\n",
       "  <tbody>\n",
       "    <tr>\n",
       "      <th>0</th>\n",
       "      <td>35.1</td>\n",
       "      <td>11.8</td>\n",
       "      <td>4.65</td>\n",
       "      <td>6.3</td>\n",
       "      <td>310</td>\n",
       "      <td>25.4</td>\n",
       "      <td>33.6</td>\n",
       "      <td>75.5</td>\n",
       "      <td>1</td>\n",
       "      <td>F</td>\n",
       "      <td>out</td>\n",
       "    </tr>\n",
       "    <tr>\n",
       "      <th>1</th>\n",
       "      <td>43.5</td>\n",
       "      <td>14.8</td>\n",
       "      <td>5.39</td>\n",
       "      <td>12.7</td>\n",
       "      <td>334</td>\n",
       "      <td>27.5</td>\n",
       "      <td>34.0</td>\n",
       "      <td>80.7</td>\n",
       "      <td>1</td>\n",
       "      <td>F</td>\n",
       "      <td>out</td>\n",
       "    </tr>\n",
       "    <tr>\n",
       "      <th>3</th>\n",
       "      <td>39.1</td>\n",
       "      <td>13.7</td>\n",
       "      <td>4.98</td>\n",
       "      <td>10.5</td>\n",
       "      <td>366</td>\n",
       "      <td>27.5</td>\n",
       "      <td>35.0</td>\n",
       "      <td>78.5</td>\n",
       "      <td>1</td>\n",
       "      <td>F</td>\n",
       "      <td>out</td>\n",
       "    </tr>\n",
       "    <tr>\n",
       "      <th>4</th>\n",
       "      <td>30.9</td>\n",
       "      <td>9.9</td>\n",
       "      <td>4.23</td>\n",
       "      <td>22.1</td>\n",
       "      <td>333</td>\n",
       "      <td>23.4</td>\n",
       "      <td>32.0</td>\n",
       "      <td>73.0</td>\n",
       "      <td>1</td>\n",
       "      <td>M</td>\n",
       "      <td>out</td>\n",
       "    </tr>\n",
       "    <tr>\n",
       "      <th>5</th>\n",
       "      <td>34.3</td>\n",
       "      <td>11.6</td>\n",
       "      <td>4.53</td>\n",
       "      <td>6.6</td>\n",
       "      <td>185</td>\n",
       "      <td>25.6</td>\n",
       "      <td>33.8</td>\n",
       "      <td>75.7</td>\n",
       "      <td>1</td>\n",
       "      <td>M</td>\n",
       "      <td>out</td>\n",
       "    </tr>\n",
       "    <tr>\n",
       "      <th>...</th>\n",
       "      <td>...</td>\n",
       "      <td>...</td>\n",
       "      <td>...</td>\n",
       "      <td>...</td>\n",
       "      <td>...</td>\n",
       "      <td>...</td>\n",
       "      <td>...</td>\n",
       "      <td>...</td>\n",
       "      <td>...</td>\n",
       "      <td>...</td>\n",
       "      <td>...</td>\n",
       "    </tr>\n",
       "    <tr>\n",
       "      <th>4406</th>\n",
       "      <td>33.7</td>\n",
       "      <td>10.4</td>\n",
       "      <td>3.48</td>\n",
       "      <td>11.4</td>\n",
       "      <td>112</td>\n",
       "      <td>29.9</td>\n",
       "      <td>30.9</td>\n",
       "      <td>96.8</td>\n",
       "      <td>92</td>\n",
       "      <td>F</td>\n",
       "      <td>in</td>\n",
       "    </tr>\n",
       "    <tr>\n",
       "      <th>4407</th>\n",
       "      <td>32.8</td>\n",
       "      <td>10.4</td>\n",
       "      <td>3.49</td>\n",
       "      <td>8.1</td>\n",
       "      <td>72</td>\n",
       "      <td>29.8</td>\n",
       "      <td>31.7</td>\n",
       "      <td>94.0</td>\n",
       "      <td>92</td>\n",
       "      <td>F</td>\n",
       "      <td>in</td>\n",
       "    </tr>\n",
       "    <tr>\n",
       "      <th>4408</th>\n",
       "      <td>33.7</td>\n",
       "      <td>10.8</td>\n",
       "      <td>3.67</td>\n",
       "      <td>6.7</td>\n",
       "      <td>70</td>\n",
       "      <td>29.4</td>\n",
       "      <td>32.0</td>\n",
       "      <td>91.8</td>\n",
       "      <td>92</td>\n",
       "      <td>F</td>\n",
       "      <td>in</td>\n",
       "    </tr>\n",
       "    <tr>\n",
       "      <th>4409</th>\n",
       "      <td>33.2</td>\n",
       "      <td>11.2</td>\n",
       "      <td>3.47</td>\n",
       "      <td>7.2</td>\n",
       "      <td>235</td>\n",
       "      <td>32.3</td>\n",
       "      <td>33.7</td>\n",
       "      <td>95.7</td>\n",
       "      <td>93</td>\n",
       "      <td>F</td>\n",
       "      <td>out</td>\n",
       "    </tr>\n",
       "    <tr>\n",
       "      <th>4411</th>\n",
       "      <td>33.5</td>\n",
       "      <td>10.9</td>\n",
       "      <td>3.44</td>\n",
       "      <td>5.8</td>\n",
       "      <td>275</td>\n",
       "      <td>31.7</td>\n",
       "      <td>32.5</td>\n",
       "      <td>97.4</td>\n",
       "      <td>99</td>\n",
       "      <td>F</td>\n",
       "      <td>out</td>\n",
       "    </tr>\n",
       "  </tbody>\n",
       "</table>\n",
       "<p>3886 rows × 11 columns</p>\n",
       "</div>"
      ],
      "text/plain": [
       "      HAEMATOCRIT  HAEMOGLOBINS  ERYTHROCYTE  LEUCOCYTE  THROMBOCYTE   MCH  \\\n",
       "0            35.1          11.8         4.65        6.3          310  25.4   \n",
       "1            43.5          14.8         5.39       12.7          334  27.5   \n",
       "3            39.1          13.7         4.98       10.5          366  27.5   \n",
       "4            30.9           9.9         4.23       22.1          333  23.4   \n",
       "5            34.3          11.6         4.53        6.6          185  25.6   \n",
       "...           ...           ...          ...        ...          ...   ...   \n",
       "4406         33.7          10.4         3.48       11.4          112  29.9   \n",
       "4407         32.8          10.4         3.49        8.1           72  29.8   \n",
       "4408         33.7          10.8         3.67        6.7           70  29.4   \n",
       "4409         33.2          11.2         3.47        7.2          235  32.3   \n",
       "4411         33.5          10.9         3.44        5.8          275  31.7   \n",
       "\n",
       "      MCHC   MCV  AGE SEX SOURCE  \n",
       "0     33.6  75.5    1   F    out  \n",
       "1     34.0  80.7    1   F    out  \n",
       "3     35.0  78.5    1   F    out  \n",
       "4     32.0  73.0    1   M    out  \n",
       "5     33.8  75.7    1   M    out  \n",
       "...    ...   ...  ...  ..    ...  \n",
       "4406  30.9  96.8   92   F     in  \n",
       "4407  31.7  94.0   92   F     in  \n",
       "4408  32.0  91.8   92   F     in  \n",
       "4409  33.7  95.7   93   F    out  \n",
       "4411  32.5  97.4   99   F    out  \n",
       "\n",
       "[3886 rows x 11 columns]"
      ]
     },
     "execution_count": 79,
     "metadata": {},
     "output_type": "execute_result"
    }
   ],
   "source": [
    "df"
   ]
  },
  {
   "cell_type": "code",
   "execution_count": 80,
   "id": "bb495de4",
   "metadata": {},
   "outputs": [
    {
     "name": "stderr",
     "output_type": "stream",
     "text": [
      "C:\\Users\\himanshu\\anaconda3\\lib\\site-packages\\seaborn\\_decorators.py:36: FutureWarning: Pass the following variable as a keyword arg: x. From version 0.12, the only valid positional argument will be `data`, and passing other arguments without an explicit keyword will result in an error or misinterpretation.\n",
      "  warnings.warn(\n"
     ]
    },
    {
     "data": {
      "text/plain": [
       "<AxesSubplot:xlabel='AGE'>"
      ]
     },
     "execution_count": 80,
     "metadata": {},
     "output_type": "execute_result"
    },
    {
     "data": {
      "image/png": "[encoded data removed]",
      "text/plain": [
       "<Figure size 432x288 with 1 Axes>"
      ]
     },
     "metadata": {
      "needs_background": "light"
     },
     "output_type": "display_data"
    }
   ],
   "source": [
    "sns.boxplot(df['AGE'])"
   ]
  },
  {
   "cell_type": "code",
   "execution_count": 81,
   "id": "96645ab5",
   "metadata": {},
   "outputs": [
    {
     "data": {
      "text/html": [
       "<div>\n",
       "<style scoped>\n",
       "    .dataframe tbody tr th:only-of-type {\n",
       "        vertical-align: middle;\n",
       "    }\n",
       "\n",
       "    .dataframe tbody tr th {\n",
       "        vertical-align: top;\n",
       "    }\n",
       "\n",
       "    .dataframe thead th {\n",
       "        text-align: right;\n",
       "    }\n",
       "</style>\n",
       "<table border=\"1\" class=\"dataframe\">\n",
       "  <thead>\n",
       "    <tr style=\"text-align: right;\">\n",
       "      <th></th>\n",
       "      <th>HAEMATOCRIT</th>\n",
       "      <th>HAEMOGLOBINS</th>\n",
       "      <th>ERYTHROCYTE</th>\n",
       "      <th>LEUCOCYTE</th>\n",
       "      <th>THROMBOCYTE</th>\n",
       "      <th>MCH</th>\n",
       "      <th>MCHC</th>\n",
       "      <th>MCV</th>\n",
       "      <th>AGE</th>\n",
       "      <th>SEX</th>\n",
       "      <th>SOURCE</th>\n",
       "    </tr>\n",
       "  </thead>\n",
       "  <tbody>\n",
       "    <tr>\n",
       "      <th>0</th>\n",
       "      <td>35.1</td>\n",
       "      <td>11.8</td>\n",
       "      <td>4.65</td>\n",
       "      <td>6.3</td>\n",
       "      <td>310</td>\n",
       "      <td>25.4</td>\n",
       "      <td>33.6</td>\n",
       "      <td>75.5</td>\n",
       "      <td>1</td>\n",
       "      <td>F</td>\n",
       "      <td>out</td>\n",
       "    </tr>\n",
       "    <tr>\n",
       "      <th>1</th>\n",
       "      <td>43.5</td>\n",
       "      <td>14.8</td>\n",
       "      <td>5.39</td>\n",
       "      <td>12.7</td>\n",
       "      <td>334</td>\n",
       "      <td>27.5</td>\n",
       "      <td>34.0</td>\n",
       "      <td>80.7</td>\n",
       "      <td>1</td>\n",
       "      <td>F</td>\n",
       "      <td>out</td>\n",
       "    </tr>\n",
       "    <tr>\n",
       "      <th>3</th>\n",
       "      <td>39.1</td>\n",
       "      <td>13.7</td>\n",
       "      <td>4.98</td>\n",
       "      <td>10.5</td>\n",
       "      <td>366</td>\n",
       "      <td>27.5</td>\n",
       "      <td>35.0</td>\n",
       "      <td>78.5</td>\n",
       "      <td>1</td>\n",
       "      <td>F</td>\n",
       "      <td>out</td>\n",
       "    </tr>\n",
       "    <tr>\n",
       "      <th>4</th>\n",
       "      <td>30.9</td>\n",
       "      <td>9.9</td>\n",
       "      <td>4.23</td>\n",
       "      <td>22.1</td>\n",
       "      <td>333</td>\n",
       "      <td>23.4</td>\n",
       "      <td>32.0</td>\n",
       "      <td>73.0</td>\n",
       "      <td>1</td>\n",
       "      <td>M</td>\n",
       "      <td>out</td>\n",
       "    </tr>\n",
       "    <tr>\n",
       "      <th>5</th>\n",
       "      <td>34.3</td>\n",
       "      <td>11.6</td>\n",
       "      <td>4.53</td>\n",
       "      <td>6.6</td>\n",
       "      <td>185</td>\n",
       "      <td>25.6</td>\n",
       "      <td>33.8</td>\n",
       "      <td>75.7</td>\n",
       "      <td>1</td>\n",
       "      <td>M</td>\n",
       "      <td>out</td>\n",
       "    </tr>\n",
       "    <tr>\n",
       "      <th>...</th>\n",
       "      <td>...</td>\n",
       "      <td>...</td>\n",
       "      <td>...</td>\n",
       "      <td>...</td>\n",
       "      <td>...</td>\n",
       "      <td>...</td>\n",
       "      <td>...</td>\n",
       "      <td>...</td>\n",
       "      <td>...</td>\n",
       "      <td>...</td>\n",
       "      <td>...</td>\n",
       "    </tr>\n",
       "    <tr>\n",
       "      <th>4406</th>\n",
       "      <td>33.7</td>\n",
       "      <td>10.4</td>\n",
       "      <td>3.48</td>\n",
       "      <td>11.4</td>\n",
       "      <td>112</td>\n",
       "      <td>29.9</td>\n",
       "      <td>30.9</td>\n",
       "      <td>96.8</td>\n",
       "      <td>92</td>\n",
       "      <td>F</td>\n",
       "      <td>in</td>\n",
       "    </tr>\n",
       "    <tr>\n",
       "      <th>4407</th>\n",
       "      <td>32.8</td>\n",
       "      <td>10.4</td>\n",
       "      <td>3.49</td>\n",
       "      <td>8.1</td>\n",
       "      <td>72</td>\n",
       "      <td>29.8</td>\n",
       "      <td>31.7</td>\n",
       "      <td>94.0</td>\n",
       "      <td>92</td>\n",
       "      <td>F</td>\n",
       "      <td>in</td>\n",
       "    </tr>\n",
       "    <tr>\n",
       "      <th>4408</th>\n",
       "      <td>33.7</td>\n",
       "      <td>10.8</td>\n",
       "      <td>3.67</td>\n",
       "      <td>6.7</td>\n",
       "      <td>70</td>\n",
       "      <td>29.4</td>\n",
       "      <td>32.0</td>\n",
       "      <td>91.8</td>\n",
       "      <td>92</td>\n",
       "      <td>F</td>\n",
       "      <td>in</td>\n",
       "    </tr>\n",
       "    <tr>\n",
       "      <th>4409</th>\n",
       "      <td>33.2</td>\n",
       "      <td>11.2</td>\n",
       "      <td>3.47</td>\n",
       "      <td>7.2</td>\n",
       "      <td>235</td>\n",
       "      <td>32.3</td>\n",
       "      <td>33.7</td>\n",
       "      <td>95.7</td>\n",
       "      <td>93</td>\n",
       "      <td>F</td>\n",
       "      <td>out</td>\n",
       "    </tr>\n",
       "    <tr>\n",
       "      <th>4411</th>\n",
       "      <td>33.5</td>\n",
       "      <td>10.9</td>\n",
       "      <td>3.44</td>\n",
       "      <td>5.8</td>\n",
       "      <td>275</td>\n",
       "      <td>31.7</td>\n",
       "      <td>32.5</td>\n",
       "      <td>97.4</td>\n",
       "      <td>99</td>\n",
       "      <td>F</td>\n",
       "      <td>out</td>\n",
       "    </tr>\n",
       "  </tbody>\n",
       "</table>\n",
       "<p>3886 rows × 11 columns</p>\n",
       "</div>"
      ],
      "text/plain": [
       "      HAEMATOCRIT  HAEMOGLOBINS  ERYTHROCYTE  LEUCOCYTE  THROMBOCYTE   MCH  \\\n",
       "0            35.1          11.8         4.65        6.3          310  25.4   \n",
       "1            43.5          14.8         5.39       12.7          334  27.5   \n",
       "3            39.1          13.7         4.98       10.5          366  27.5   \n",
       "4            30.9           9.9         4.23       22.1          333  23.4   \n",
       "5            34.3          11.6         4.53        6.6          185  25.6   \n",
       "...           ...           ...          ...        ...          ...   ...   \n",
       "4406         33.7          10.4         3.48       11.4          112  29.9   \n",
       "4407         32.8          10.4         3.49        8.1           72  29.8   \n",
       "4408         33.7          10.8         3.67        6.7           70  29.4   \n",
       "4409         33.2          11.2         3.47        7.2          235  32.3   \n",
       "4411         33.5          10.9         3.44        5.8          275  31.7   \n",
       "\n",
       "      MCHC   MCV  AGE SEX SOURCE  \n",
       "0     33.6  75.5    1   F    out  \n",
       "1     34.0  80.7    1   F    out  \n",
       "3     35.0  78.5    1   F    out  \n",
       "4     32.0  73.0    1   M    out  \n",
       "5     33.8  75.7    1   M    out  \n",
       "...    ...   ...  ...  ..    ...  \n",
       "4406  30.9  96.8   92   F     in  \n",
       "4407  31.7  94.0   92   F     in  \n",
       "4408  32.0  91.8   92   F     in  \n",
       "4409  33.7  95.7   93   F    out  \n",
       "4411  32.5  97.4   99   F    out  \n",
       "\n",
       "[3886 rows x 11 columns]"
      ]
     },
     "execution_count": 81,
     "metadata": {},
     "output_type": "execute_result"
    }
   ],
   "source": [
    "df"
   ]
  },
  {
   "cell_type": "code",
   "execution_count": 82,
   "id": "1b30e2f8",
   "metadata": {},
   "outputs": [
    {
     "data": {
      "text/plain": [
       "<AxesSubplot:xlabel='SOURCE', ylabel='HAEMATOCRIT'>"
      ]
     },
     "execution_count": 82,
     "metadata": {},
     "output_type": "execute_result"
    },
    {
     "data": {
      "image/png": "[encoded data removed]",
      "text/plain": [
       "<Figure size 432x288 with 1 Axes>"
      ]
     },
     "metadata": {
      "needs_background": "light"
     },
     "output_type": "display_data"
    }
   ],
   "source": [
    "sns.barplot(x=df['SOURCE'],y=df['HAEMATOCRIT'])"
   ]
  },
  {
   "cell_type": "code",
   "execution_count": 83,
   "id": "83ab9c0a",
   "metadata": {},
   "outputs": [
    {
     "data": {
      "text/plain": [
       "<AxesSubplot:xlabel='SOURCE', ylabel='HAEMOGLOBINS'>"
      ]
     },
     "execution_count": 83,
     "metadata": {},
     "output_type": "execute_result"
    },
    {
     "data": {
      "image/png": "[encoded data removed]",
      "text/plain": [
       "<Figure size 432x288 with 1 Axes>"
      ]
     },
     "metadata": {
      "needs_background": "light"
     },
     "output_type": "display_data"
    }
   ],
   "source": [
    "sns.barplot(x=df['SOURCE'],y=df['HAEMOGLOBINS'])"
   ]
  },
  {
   "cell_type": "code",
   "execution_count": 84,
   "id": "d8e9e8d7",
   "metadata": {},
   "outputs": [
    {
     "data": {
      "text/plain": [
       "<AxesSubplot:xlabel='SOURCE', ylabel='ERYTHROCYTE'>"
      ]
     },
     "execution_count": 84,
     "metadata": {},
     "output_type": "execute_result"
    },
    {
     "data": {
      "image/png": "[encoded data removed]",
      "text/plain": [
       "<Figure size 432x288 with 1 Axes>"
      ]
     },
     "metadata": {
      "needs_background": "light"
     },
     "output_type": "display_data"
    }
   ],
   "source": [
    "sns.barplot(x=df['SOURCE'],y=df['ERYTHROCYTE'])"
   ]
  },
  {
   "cell_type": "code",
   "execution_count": 85,
   "id": "a7202e70",
   "metadata": {},
   "outputs": [
    {
     "data": {
      "text/plain": [
       "<AxesSubplot:xlabel='SOURCE', ylabel='LEUCOCYTE'>"
      ]
     },
     "execution_count": 85,
     "metadata": {},
     "output_type": "execute_result"
    },
    {
     "data": {
      "image/png": "[encoded data removed]",
      "text/plain": [
       "<Figure size 432x288 with 1 Axes>"
      ]
     },
     "metadata": {
      "needs_background": "light"
     },
     "output_type": "display_data"
    }
   ],
   "source": [
    "sns.barplot(x=df['SOURCE'],y=df['LEUCOCYTE'])"
   ]
  },
  {
   "cell_type": "code",
   "execution_count": 86,
   "id": "f07b03f2",
   "metadata": {},
   "outputs": [
    {
     "data": {
      "text/plain": [
       "<AxesSubplot:xlabel='SOURCE', ylabel='THROMBOCYTE'>"
      ]
     },
     "execution_count": 86,
     "metadata": {},
     "output_type": "execute_result"
    },
    {
     "data": {
      "image/png": "[encoded data removed]",
      "text/plain": [
       "<Figure size 432x288 with 1 Axes>"
      ]
     },
     "metadata": {
      "needs_background": "light"
     },
     "output_type": "display_data"
    }
   ],
   "source": [
    "sns.barplot(x=df['SOURCE'],y=df['THROMBOCYTE'])"
   ]
  },
  {
   "cell_type": "code",
   "execution_count": 87,
   "id": "e1780b2a",
   "metadata": {},
   "outputs": [
    {
     "data": {
      "text/plain": [
       "<AxesSubplot:xlabel='SOURCE', ylabel='MCH'>"
      ]
     },
     "execution_count": 87,
     "metadata": {},
     "output_type": "execute_result"
    },
    {
     "data": {
      "image/png": "[encoded data removed]",
      "text/plain": [
       "<Figure size 432x288 with 1 Axes>"
      ]
     },
     "metadata": {
      "needs_background": "light"
     },
     "output_type": "display_data"
    }
   ],
   "source": [
    "sns.barplot(x=df['SOURCE'],y=df['MCH'])"
   ]
  },
  {
   "cell_type": "code",
   "execution_count": 88,
   "id": "f7f9ef06",
   "metadata": {},
   "outputs": [
    {
     "data": {
      "text/plain": [
       "<AxesSubplot:xlabel='SOURCE', ylabel='MCHC'>"
      ]
     },
     "execution_count": 88,
     "metadata": {},
     "output_type": "execute_result"
    },
    {
     "data": {
      "image/png": "[encoded data removed]",
      "text/plain": [
       "<Figure size 432x288 with 1 Axes>"
      ]
     },
     "metadata": {
      "needs_background": "light"
     },
     "output_type": "display_data"
    }
   ],
   "source": [
    "sns.barplot(x=df['SOURCE'],y=df['MCHC'])"
   ]
  },
  {
   "cell_type": "code",
   "execution_count": 89,
   "id": "1c88327a",
   "metadata": {},
   "outputs": [
    {
     "data": {
      "text/plain": [
       "<AxesSubplot:xlabel='SOURCE', ylabel='MCV'>"
      ]
     },
     "execution_count": 89,
     "metadata": {},
     "output_type": "execute_result"
    },
    {
     "data": {
      "image/png": "[encoded data removed]",
      "text/plain": [
       "<Figure size 432x288 with 1 Axes>"
      ]
     },
     "metadata": {
      "needs_background": "light"
     },
     "output_type": "display_data"
    }
   ],
   "source": [
    "sns.barplot(x=df['SOURCE'],y=df['MCV'])"
   ]
  },
  {
   "cell_type": "code",
   "execution_count": 90,
   "id": "2b8c654b",
   "metadata": {},
   "outputs": [
    {
     "data": {
      "text/plain": [
       "<AxesSubplot:xlabel='SOURCE', ylabel='AGE'>"
      ]
     },
     "execution_count": 90,
     "metadata": {},
     "output_type": "execute_result"
    },
    {
     "data": {
      "image/png": "[encoded data removed]",
      "text/plain": [
       "<Figure size 432x288 with 1 Axes>"
      ]
     },
     "metadata": {
      "needs_background": "light"
     },
     "output_type": "display_data"
    }
   ],
   "source": [
    "sns.barplot(x=df['SOURCE'],y=df['AGE'])"
   ]
  },
  {
   "cell_type": "code",
   "execution_count": 91,
   "id": "96858658",
   "metadata": {},
   "outputs": [
    {
     "data": {
      "text/html": [
       "<div>\n",
       "<style scoped>\n",
       "    .dataframe tbody tr th:only-of-type {\n",
       "        vertical-align: middle;\n",
       "    }\n",
       "\n",
       "    .dataframe tbody tr th {\n",
       "        vertical-align: top;\n",
       "    }\n",
       "\n",
       "    .dataframe thead th {\n",
       "        text-align: right;\n",
       "    }\n",
       "</style>\n",
       "<table border=\"1\" class=\"dataframe\">\n",
       "  <thead>\n",
       "    <tr style=\"text-align: right;\">\n",
       "      <th></th>\n",
       "      <th>HAEMATOCRIT</th>\n",
       "      <th>HAEMOGLOBINS</th>\n",
       "      <th>ERYTHROCYTE</th>\n",
       "      <th>LEUCOCYTE</th>\n",
       "      <th>THROMBOCYTE</th>\n",
       "      <th>MCH</th>\n",
       "      <th>MCHC</th>\n",
       "      <th>MCV</th>\n",
       "      <th>AGE</th>\n",
       "      <th>SEX</th>\n",
       "      <th>SOURCE</th>\n",
       "    </tr>\n",
       "  </thead>\n",
       "  <tbody>\n",
       "    <tr>\n",
       "      <th>0</th>\n",
       "      <td>35.1</td>\n",
       "      <td>11.8</td>\n",
       "      <td>4.65</td>\n",
       "      <td>6.3</td>\n",
       "      <td>310</td>\n",
       "      <td>25.4</td>\n",
       "      <td>33.6</td>\n",
       "      <td>75.5</td>\n",
       "      <td>1</td>\n",
       "      <td>F</td>\n",
       "      <td>out</td>\n",
       "    </tr>\n",
       "    <tr>\n",
       "      <th>1</th>\n",
       "      <td>43.5</td>\n",
       "      <td>14.8</td>\n",
       "      <td>5.39</td>\n",
       "      <td>12.7</td>\n",
       "      <td>334</td>\n",
       "      <td>27.5</td>\n",
       "      <td>34.0</td>\n",
       "      <td>80.7</td>\n",
       "      <td>1</td>\n",
       "      <td>F</td>\n",
       "      <td>out</td>\n",
       "    </tr>\n",
       "    <tr>\n",
       "      <th>3</th>\n",
       "      <td>39.1</td>\n",
       "      <td>13.7</td>\n",
       "      <td>4.98</td>\n",
       "      <td>10.5</td>\n",
       "      <td>366</td>\n",
       "      <td>27.5</td>\n",
       "      <td>35.0</td>\n",
       "      <td>78.5</td>\n",
       "      <td>1</td>\n",
       "      <td>F</td>\n",
       "      <td>out</td>\n",
       "    </tr>\n",
       "    <tr>\n",
       "      <th>4</th>\n",
       "      <td>30.9</td>\n",
       "      <td>9.9</td>\n",
       "      <td>4.23</td>\n",
       "      <td>22.1</td>\n",
       "      <td>333</td>\n",
       "      <td>23.4</td>\n",
       "      <td>32.0</td>\n",
       "      <td>73.0</td>\n",
       "      <td>1</td>\n",
       "      <td>M</td>\n",
       "      <td>out</td>\n",
       "    </tr>\n",
       "    <tr>\n",
       "      <th>5</th>\n",
       "      <td>34.3</td>\n",
       "      <td>11.6</td>\n",
       "      <td>4.53</td>\n",
       "      <td>6.6</td>\n",
       "      <td>185</td>\n",
       "      <td>25.6</td>\n",
       "      <td>33.8</td>\n",
       "      <td>75.7</td>\n",
       "      <td>1</td>\n",
       "      <td>M</td>\n",
       "      <td>out</td>\n",
       "    </tr>\n",
       "    <tr>\n",
       "      <th>...</th>\n",
       "      <td>...</td>\n",
       "      <td>...</td>\n",
       "      <td>...</td>\n",
       "      <td>...</td>\n",
       "      <td>...</td>\n",
       "      <td>...</td>\n",
       "      <td>...</td>\n",
       "      <td>...</td>\n",
       "      <td>...</td>\n",
       "      <td>...</td>\n",
       "      <td>...</td>\n",
       "    </tr>\n",
       "    <tr>\n",
       "      <th>4406</th>\n",
       "      <td>33.7</td>\n",
       "      <td>10.4</td>\n",
       "      <td>3.48</td>\n",
       "      <td>11.4</td>\n",
       "      <td>112</td>\n",
       "      <td>29.9</td>\n",
       "      <td>30.9</td>\n",
       "      <td>96.8</td>\n",
       "      <td>92</td>\n",
       "      <td>F</td>\n",
       "      <td>in</td>\n",
       "    </tr>\n",
       "    <tr>\n",
       "      <th>4407</th>\n",
       "      <td>32.8</td>\n",
       "      <td>10.4</td>\n",
       "      <td>3.49</td>\n",
       "      <td>8.1</td>\n",
       "      <td>72</td>\n",
       "      <td>29.8</td>\n",
       "      <td>31.7</td>\n",
       "      <td>94.0</td>\n",
       "      <td>92</td>\n",
       "      <td>F</td>\n",
       "      <td>in</td>\n",
       "    </tr>\n",
       "    <tr>\n",
       "      <th>4408</th>\n",
       "      <td>33.7</td>\n",
       "      <td>10.8</td>\n",
       "      <td>3.67</td>\n",
       "      <td>6.7</td>\n",
       "      <td>70</td>\n",
       "      <td>29.4</td>\n",
       "      <td>32.0</td>\n",
       "      <td>91.8</td>\n",
       "      <td>92</td>\n",
       "      <td>F</td>\n",
       "      <td>in</td>\n",
       "    </tr>\n",
       "    <tr>\n",
       "      <th>4409</th>\n",
       "      <td>33.2</td>\n",
       "      <td>11.2</td>\n",
       "      <td>3.47</td>\n",
       "      <td>7.2</td>\n",
       "      <td>235</td>\n",
       "      <td>32.3</td>\n",
       "      <td>33.7</td>\n",
       "      <td>95.7</td>\n",
       "      <td>93</td>\n",
       "      <td>F</td>\n",
       "      <td>out</td>\n",
       "    </tr>\n",
       "    <tr>\n",
       "      <th>4411</th>\n",
       "      <td>33.5</td>\n",
       "      <td>10.9</td>\n",
       "      <td>3.44</td>\n",
       "      <td>5.8</td>\n",
       "      <td>275</td>\n",
       "      <td>31.7</td>\n",
       "      <td>32.5</td>\n",
       "      <td>97.4</td>\n",
       "      <td>99</td>\n",
       "      <td>F</td>\n",
       "      <td>out</td>\n",
       "    </tr>\n",
       "  </tbody>\n",
       "</table>\n",
       "<p>3886 rows × 11 columns</p>\n",
       "</div>"
      ],
      "text/plain": [
       "      HAEMATOCRIT  HAEMOGLOBINS  ERYTHROCYTE  LEUCOCYTE  THROMBOCYTE   MCH  \\\n",
       "0            35.1          11.8         4.65        6.3          310  25.4   \n",
       "1            43.5          14.8         5.39       12.7          334  27.5   \n",
       "3            39.1          13.7         4.98       10.5          366  27.5   \n",
       "4            30.9           9.9         4.23       22.1          333  23.4   \n",
       "5            34.3          11.6         4.53        6.6          185  25.6   \n",
       "...           ...           ...          ...        ...          ...   ...   \n",
       "4406         33.7          10.4         3.48       11.4          112  29.9   \n",
       "4407         32.8          10.4         3.49        8.1           72  29.8   \n",
       "4408         33.7          10.8         3.67        6.7           70  29.4   \n",
       "4409         33.2          11.2         3.47        7.2          235  32.3   \n",
       "4411         33.5          10.9         3.44        5.8          275  31.7   \n",
       "\n",
       "      MCHC   MCV  AGE SEX SOURCE  \n",
       "0     33.6  75.5    1   F    out  \n",
       "1     34.0  80.7    1   F    out  \n",
       "3     35.0  78.5    1   F    out  \n",
       "4     32.0  73.0    1   M    out  \n",
       "5     33.8  75.7    1   M    out  \n",
       "...    ...   ...  ...  ..    ...  \n",
       "4406  30.9  96.8   92   F     in  \n",
       "4407  31.7  94.0   92   F     in  \n",
       "4408  32.0  91.8   92   F     in  \n",
       "4409  33.7  95.7   93   F    out  \n",
       "4411  32.5  97.4   99   F    out  \n",
       "\n",
       "[3886 rows x 11 columns]"
      ]
     },
     "execution_count": 91,
     "metadata": {},
     "output_type": "execute_result"
    }
   ],
   "source": [
    "df"
   ]
  },
  {
   "cell_type": "code",
   "execution_count": 92,
   "id": "0d09a47e",
   "metadata": {},
   "outputs": [
    {
     "data": {
      "text/plain": [
       "<AxesSubplot:xlabel='SEX', ylabel='count'>"
      ]
     },
     "execution_count": 92,
     "metadata": {},
     "output_type": "execute_result"
    },
    {
     "data": {
      "image/png": "[encoded data removed]",
      "text/plain": [
       "<Figure size 432x288 with 1 Axes>"
      ]
     },
     "metadata": {
      "needs_background": "light"
     },
     "output_type": "display_data"
    }
   ],
   "source": [
    "sns.countplot(x=df['SEX'],hue=df['SOURCE'])"
   ]
  },
  {
   "cell_type": "code",
   "execution_count": 93,
   "id": "064a1e6c",
   "metadata": {},
   "outputs": [
    {
     "data": {
      "image/png": "[encoded data removed]",
      "text/plain": [
       "<Figure size 1440x1080 with 1 Axes>"
      ]
     },
     "metadata": {
      "needs_background": "light"
     },
     "output_type": "display_data"
    }
   ],
   "source": [
    "plt.figure(figsize=(20,15))\n",
    "sns.countplot(x=df['AGE'],hue=df['SOURCE'])\n",
    "plt.xticks(rotation=90)\n",
    "plt.show()"
   ]
  },
  {
   "cell_type": "code",
   "execution_count": 94,
   "id": "20cdf139",
   "metadata": {},
   "outputs": [
    {
     "data": {
      "text/html": [
       "<div>\n",
       "<style scoped>\n",
       "    .dataframe tbody tr th:only-of-type {\n",
       "        vertical-align: middle;\n",
       "    }\n",
       "\n",
       "    .dataframe tbody tr th {\n",
       "        vertical-align: top;\n",
       "    }\n",
       "\n",
       "    .dataframe thead th {\n",
       "        text-align: right;\n",
       "    }\n",
       "</style>\n",
       "<table border=\"1\" class=\"dataframe\">\n",
       "  <thead>\n",
       "    <tr style=\"text-align: right;\">\n",
       "      <th></th>\n",
       "      <th>HAEMATOCRIT</th>\n",
       "      <th>HAEMOGLOBINS</th>\n",
       "      <th>ERYTHROCYTE</th>\n",
       "      <th>LEUCOCYTE</th>\n",
       "      <th>THROMBOCYTE</th>\n",
       "      <th>MCH</th>\n",
       "      <th>MCHC</th>\n",
       "      <th>MCV</th>\n",
       "      <th>AGE</th>\n",
       "      <th>SEX</th>\n",
       "      <th>SOURCE</th>\n",
       "    </tr>\n",
       "  </thead>\n",
       "  <tbody>\n",
       "    <tr>\n",
       "      <th>0</th>\n",
       "      <td>35.1</td>\n",
       "      <td>11.8</td>\n",
       "      <td>4.65</td>\n",
       "      <td>6.3</td>\n",
       "      <td>310</td>\n",
       "      <td>25.4</td>\n",
       "      <td>33.6</td>\n",
       "      <td>75.5</td>\n",
       "      <td>1</td>\n",
       "      <td>F</td>\n",
       "      <td>out</td>\n",
       "    </tr>\n",
       "    <tr>\n",
       "      <th>1</th>\n",
       "      <td>43.5</td>\n",
       "      <td>14.8</td>\n",
       "      <td>5.39</td>\n",
       "      <td>12.7</td>\n",
       "      <td>334</td>\n",
       "      <td>27.5</td>\n",
       "      <td>34.0</td>\n",
       "      <td>80.7</td>\n",
       "      <td>1</td>\n",
       "      <td>F</td>\n",
       "      <td>out</td>\n",
       "    </tr>\n",
       "    <tr>\n",
       "      <th>3</th>\n",
       "      <td>39.1</td>\n",
       "      <td>13.7</td>\n",
       "      <td>4.98</td>\n",
       "      <td>10.5</td>\n",
       "      <td>366</td>\n",
       "      <td>27.5</td>\n",
       "      <td>35.0</td>\n",
       "      <td>78.5</td>\n",
       "      <td>1</td>\n",
       "      <td>F</td>\n",
       "      <td>out</td>\n",
       "    </tr>\n",
       "    <tr>\n",
       "      <th>4</th>\n",
       "      <td>30.9</td>\n",
       "      <td>9.9</td>\n",
       "      <td>4.23</td>\n",
       "      <td>22.1</td>\n",
       "      <td>333</td>\n",
       "      <td>23.4</td>\n",
       "      <td>32.0</td>\n",
       "      <td>73.0</td>\n",
       "      <td>1</td>\n",
       "      <td>M</td>\n",
       "      <td>out</td>\n",
       "    </tr>\n",
       "    <tr>\n",
       "      <th>5</th>\n",
       "      <td>34.3</td>\n",
       "      <td>11.6</td>\n",
       "      <td>4.53</td>\n",
       "      <td>6.6</td>\n",
       "      <td>185</td>\n",
       "      <td>25.6</td>\n",
       "      <td>33.8</td>\n",
       "      <td>75.7</td>\n",
       "      <td>1</td>\n",
       "      <td>M</td>\n",
       "      <td>out</td>\n",
       "    </tr>\n",
       "    <tr>\n",
       "      <th>...</th>\n",
       "      <td>...</td>\n",
       "      <td>...</td>\n",
       "      <td>...</td>\n",
       "      <td>...</td>\n",
       "      <td>...</td>\n",
       "      <td>...</td>\n",
       "      <td>...</td>\n",
       "      <td>...</td>\n",
       "      <td>...</td>\n",
       "      <td>...</td>\n",
       "      <td>...</td>\n",
       "    </tr>\n",
       "    <tr>\n",
       "      <th>4406</th>\n",
       "      <td>33.7</td>\n",
       "      <td>10.4</td>\n",
       "      <td>3.48</td>\n",
       "      <td>11.4</td>\n",
       "      <td>112</td>\n",
       "      <td>29.9</td>\n",
       "      <td>30.9</td>\n",
       "      <td>96.8</td>\n",
       "      <td>92</td>\n",
       "      <td>F</td>\n",
       "      <td>in</td>\n",
       "    </tr>\n",
       "    <tr>\n",
       "      <th>4407</th>\n",
       "      <td>32.8</td>\n",
       "      <td>10.4</td>\n",
       "      <td>3.49</td>\n",
       "      <td>8.1</td>\n",
       "      <td>72</td>\n",
       "      <td>29.8</td>\n",
       "      <td>31.7</td>\n",
       "      <td>94.0</td>\n",
       "      <td>92</td>\n",
       "      <td>F</td>\n",
       "      <td>in</td>\n",
       "    </tr>\n",
       "    <tr>\n",
       "      <th>4408</th>\n",
       "      <td>33.7</td>\n",
       "      <td>10.8</td>\n",
       "      <td>3.67</td>\n",
       "      <td>6.7</td>\n",
       "      <td>70</td>\n",
       "      <td>29.4</td>\n",
       "      <td>32.0</td>\n",
       "      <td>91.8</td>\n",
       "      <td>92</td>\n",
       "      <td>F</td>\n",
       "      <td>in</td>\n",
       "    </tr>\n",
       "    <tr>\n",
       "      <th>4409</th>\n",
       "      <td>33.2</td>\n",
       "      <td>11.2</td>\n",
       "      <td>3.47</td>\n",
       "      <td>7.2</td>\n",
       "      <td>235</td>\n",
       "      <td>32.3</td>\n",
       "      <td>33.7</td>\n",
       "      <td>95.7</td>\n",
       "      <td>93</td>\n",
       "      <td>F</td>\n",
       "      <td>out</td>\n",
       "    </tr>\n",
       "    <tr>\n",
       "      <th>4411</th>\n",
       "      <td>33.5</td>\n",
       "      <td>10.9</td>\n",
       "      <td>3.44</td>\n",
       "      <td>5.8</td>\n",
       "      <td>275</td>\n",
       "      <td>31.7</td>\n",
       "      <td>32.5</td>\n",
       "      <td>97.4</td>\n",
       "      <td>99</td>\n",
       "      <td>F</td>\n",
       "      <td>out</td>\n",
       "    </tr>\n",
       "  </tbody>\n",
       "</table>\n",
       "<p>3886 rows × 11 columns</p>\n",
       "</div>"
      ],
      "text/plain": [
       "      HAEMATOCRIT  HAEMOGLOBINS  ERYTHROCYTE  LEUCOCYTE  THROMBOCYTE   MCH  \\\n",
       "0            35.1          11.8         4.65        6.3          310  25.4   \n",
       "1            43.5          14.8         5.39       12.7          334  27.5   \n",
       "3            39.1          13.7         4.98       10.5          366  27.5   \n",
       "4            30.9           9.9         4.23       22.1          333  23.4   \n",
       "5            34.3          11.6         4.53        6.6          185  25.6   \n",
       "...           ...           ...          ...        ...          ...   ...   \n",
       "4406         33.7          10.4         3.48       11.4          112  29.9   \n",
       "4407         32.8          10.4         3.49        8.1           72  29.8   \n",
       "4408         33.7          10.8         3.67        6.7           70  29.4   \n",
       "4409         33.2          11.2         3.47        7.2          235  32.3   \n",
       "4411         33.5          10.9         3.44        5.8          275  31.7   \n",
       "\n",
       "      MCHC   MCV  AGE SEX SOURCE  \n",
       "0     33.6  75.5    1   F    out  \n",
       "1     34.0  80.7    1   F    out  \n",
       "3     35.0  78.5    1   F    out  \n",
       "4     32.0  73.0    1   M    out  \n",
       "5     33.8  75.7    1   M    out  \n",
       "...    ...   ...  ...  ..    ...  \n",
       "4406  30.9  96.8   92   F     in  \n",
       "4407  31.7  94.0   92   F     in  \n",
       "4408  32.0  91.8   92   F     in  \n",
       "4409  33.7  95.7   93   F    out  \n",
       "4411  32.5  97.4   99   F    out  \n",
       "\n",
       "[3886 rows x 11 columns]"
      ]
     },
     "execution_count": 94,
     "metadata": {},
     "output_type": "execute_result"
    }
   ],
   "source": [
    "df"
   ]
  },
  {
   "cell_type": "code",
   "execution_count": 95,
   "id": "66393908",
   "metadata": {},
   "outputs": [
    {
     "name": "stderr",
     "output_type": "stream",
     "text": [
      "C:\\Users\\himanshu\\AppData\\Local\\Temp\\ipykernel_21984\\1135452676.py:1: SettingWithCopyWarning: \n",
      "A value is trying to be set on a copy of a slice from a DataFrame.\n",
      "Try using .loc[row_indexer,col_indexer] = value instead\n",
      "\n",
      "See the caveats in the documentation: https://pandas.pydata.org/pandas-docs/stable/user_guide/indexing.html#returning-a-view-versus-a-copy\n",
      "  df['AGE_Range']=pd.qcut(df['AGE'],4)\n"
     ]
    }
   ],
   "source": [
    "df['AGE_Range']=pd.qcut(df['AGE'],4)\n"
   ]
  },
  {
   "cell_type": "code",
   "execution_count": 96,
   "id": "bf52b145",
   "metadata": {},
   "outputs": [
    {
     "data": {
      "text/html": [
       "<div>\n",
       "<style scoped>\n",
       "    .dataframe tbody tr th:only-of-type {\n",
       "        vertical-align: middle;\n",
       "    }\n",
       "\n",
       "    .dataframe tbody tr th {\n",
       "        vertical-align: top;\n",
       "    }\n",
       "\n",
       "    .dataframe thead th {\n",
       "        text-align: right;\n",
       "    }\n",
       "</style>\n",
       "<table border=\"1\" class=\"dataframe\">\n",
       "  <thead>\n",
       "    <tr style=\"text-align: right;\">\n",
       "      <th></th>\n",
       "      <th>HAEMATOCRIT</th>\n",
       "      <th>HAEMOGLOBINS</th>\n",
       "      <th>ERYTHROCYTE</th>\n",
       "      <th>LEUCOCYTE</th>\n",
       "      <th>THROMBOCYTE</th>\n",
       "      <th>MCH</th>\n",
       "      <th>MCHC</th>\n",
       "      <th>MCV</th>\n",
       "      <th>AGE</th>\n",
       "      <th>SEX</th>\n",
       "      <th>SOURCE</th>\n",
       "      <th>AGE_Range</th>\n",
       "    </tr>\n",
       "  </thead>\n",
       "  <tbody>\n",
       "    <tr>\n",
       "      <th>0</th>\n",
       "      <td>35.1</td>\n",
       "      <td>11.8</td>\n",
       "      <td>4.65</td>\n",
       "      <td>6.3</td>\n",
       "      <td>310</td>\n",
       "      <td>25.4</td>\n",
       "      <td>33.6</td>\n",
       "      <td>75.5</td>\n",
       "      <td>1</td>\n",
       "      <td>F</td>\n",
       "      <td>out</td>\n",
       "      <td>(0.999, 30.0]</td>\n",
       "    </tr>\n",
       "    <tr>\n",
       "      <th>1</th>\n",
       "      <td>43.5</td>\n",
       "      <td>14.8</td>\n",
       "      <td>5.39</td>\n",
       "      <td>12.7</td>\n",
       "      <td>334</td>\n",
       "      <td>27.5</td>\n",
       "      <td>34.0</td>\n",
       "      <td>80.7</td>\n",
       "      <td>1</td>\n",
       "      <td>F</td>\n",
       "      <td>out</td>\n",
       "      <td>(0.999, 30.0]</td>\n",
       "    </tr>\n",
       "    <tr>\n",
       "      <th>3</th>\n",
       "      <td>39.1</td>\n",
       "      <td>13.7</td>\n",
       "      <td>4.98</td>\n",
       "      <td>10.5</td>\n",
       "      <td>366</td>\n",
       "      <td>27.5</td>\n",
       "      <td>35.0</td>\n",
       "      <td>78.5</td>\n",
       "      <td>1</td>\n",
       "      <td>F</td>\n",
       "      <td>out</td>\n",
       "      <td>(0.999, 30.0]</td>\n",
       "    </tr>\n",
       "    <tr>\n",
       "      <th>4</th>\n",
       "      <td>30.9</td>\n",
       "      <td>9.9</td>\n",
       "      <td>4.23</td>\n",
       "      <td>22.1</td>\n",
       "      <td>333</td>\n",
       "      <td>23.4</td>\n",
       "      <td>32.0</td>\n",
       "      <td>73.0</td>\n",
       "      <td>1</td>\n",
       "      <td>M</td>\n",
       "      <td>out</td>\n",
       "      <td>(0.999, 30.0]</td>\n",
       "    </tr>\n",
       "    <tr>\n",
       "      <th>5</th>\n",
       "      <td>34.3</td>\n",
       "      <td>11.6</td>\n",
       "      <td>4.53</td>\n",
       "      <td>6.6</td>\n",
       "      <td>185</td>\n",
       "      <td>25.6</td>\n",
       "      <td>33.8</td>\n",
       "      <td>75.7</td>\n",
       "      <td>1</td>\n",
       "      <td>M</td>\n",
       "      <td>out</td>\n",
       "      <td>(0.999, 30.0]</td>\n",
       "    </tr>\n",
       "    <tr>\n",
       "      <th>...</th>\n",
       "      <td>...</td>\n",
       "      <td>...</td>\n",
       "      <td>...</td>\n",
       "      <td>...</td>\n",
       "      <td>...</td>\n",
       "      <td>...</td>\n",
       "      <td>...</td>\n",
       "      <td>...</td>\n",
       "      <td>...</td>\n",
       "      <td>...</td>\n",
       "      <td>...</td>\n",
       "      <td>...</td>\n",
       "    </tr>\n",
       "    <tr>\n",
       "      <th>4406</th>\n",
       "      <td>33.7</td>\n",
       "      <td>10.4</td>\n",
       "      <td>3.48</td>\n",
       "      <td>11.4</td>\n",
       "      <td>112</td>\n",
       "      <td>29.9</td>\n",
       "      <td>30.9</td>\n",
       "      <td>96.8</td>\n",
       "      <td>92</td>\n",
       "      <td>F</td>\n",
       "      <td>in</td>\n",
       "      <td>(64.0, 99.0]</td>\n",
       "    </tr>\n",
       "    <tr>\n",
       "      <th>4407</th>\n",
       "      <td>32.8</td>\n",
       "      <td>10.4</td>\n",
       "      <td>3.49</td>\n",
       "      <td>8.1</td>\n",
       "      <td>72</td>\n",
       "      <td>29.8</td>\n",
       "      <td>31.7</td>\n",
       "      <td>94.0</td>\n",
       "      <td>92</td>\n",
       "      <td>F</td>\n",
       "      <td>in</td>\n",
       "      <td>(64.0, 99.0]</td>\n",
       "    </tr>\n",
       "    <tr>\n",
       "      <th>4408</th>\n",
       "      <td>33.7</td>\n",
       "      <td>10.8</td>\n",
       "      <td>3.67</td>\n",
       "      <td>6.7</td>\n",
       "      <td>70</td>\n",
       "      <td>29.4</td>\n",
       "      <td>32.0</td>\n",
       "      <td>91.8</td>\n",
       "      <td>92</td>\n",
       "      <td>F</td>\n",
       "      <td>in</td>\n",
       "      <td>(64.0, 99.0]</td>\n",
       "    </tr>\n",
       "    <tr>\n",
       "      <th>4409</th>\n",
       "      <td>33.2</td>\n",
       "      <td>11.2</td>\n",
       "      <td>3.47</td>\n",
       "      <td>7.2</td>\n",
       "      <td>235</td>\n",
       "      <td>32.3</td>\n",
       "      <td>33.7</td>\n",
       "      <td>95.7</td>\n",
       "      <td>93</td>\n",
       "      <td>F</td>\n",
       "      <td>out</td>\n",
       "      <td>(64.0, 99.0]</td>\n",
       "    </tr>\n",
       "    <tr>\n",
       "      <th>4411</th>\n",
       "      <td>33.5</td>\n",
       "      <td>10.9</td>\n",
       "      <td>3.44</td>\n",
       "      <td>5.8</td>\n",
       "      <td>275</td>\n",
       "      <td>31.7</td>\n",
       "      <td>32.5</td>\n",
       "      <td>97.4</td>\n",
       "      <td>99</td>\n",
       "      <td>F</td>\n",
       "      <td>out</td>\n",
       "      <td>(64.0, 99.0]</td>\n",
       "    </tr>\n",
       "  </tbody>\n",
       "</table>\n",
       "<p>3886 rows × 12 columns</p>\n",
       "</div>"
      ],
      "text/plain": [
       "      HAEMATOCRIT  HAEMOGLOBINS  ERYTHROCYTE  LEUCOCYTE  THROMBOCYTE   MCH  \\\n",
       "0            35.1          11.8         4.65        6.3          310  25.4   \n",
       "1            43.5          14.8         5.39       12.7          334  27.5   \n",
       "3            39.1          13.7         4.98       10.5          366  27.5   \n",
       "4            30.9           9.9         4.23       22.1          333  23.4   \n",
       "5            34.3          11.6         4.53        6.6          185  25.6   \n",
       "...           ...           ...          ...        ...          ...   ...   \n",
       "4406         33.7          10.4         3.48       11.4          112  29.9   \n",
       "4407         32.8          10.4         3.49        8.1           72  29.8   \n",
       "4408         33.7          10.8         3.67        6.7           70  29.4   \n",
       "4409         33.2          11.2         3.47        7.2          235  32.3   \n",
       "4411         33.5          10.9         3.44        5.8          275  31.7   \n",
       "\n",
       "      MCHC   MCV  AGE SEX SOURCE      AGE_Range  \n",
       "0     33.6  75.5    1   F    out  (0.999, 30.0]  \n",
       "1     34.0  80.7    1   F    out  (0.999, 30.0]  \n",
       "3     35.0  78.5    1   F    out  (0.999, 30.0]  \n",
       "4     32.0  73.0    1   M    out  (0.999, 30.0]  \n",
       "5     33.8  75.7    1   M    out  (0.999, 30.0]  \n",
       "...    ...   ...  ...  ..    ...            ...  \n",
       "4406  30.9  96.8   92   F     in   (64.0, 99.0]  \n",
       "4407  31.7  94.0   92   F     in   (64.0, 99.0]  \n",
       "4408  32.0  91.8   92   F     in   (64.0, 99.0]  \n",
       "4409  33.7  95.7   93   F    out   (64.0, 99.0]  \n",
       "4411  32.5  97.4   99   F    out   (64.0, 99.0]  \n",
       "\n",
       "[3886 rows x 12 columns]"
      ]
     },
     "execution_count": 96,
     "metadata": {},
     "output_type": "execute_result"
    }
   ],
   "source": [
    "df"
   ]
  },
  {
   "cell_type": "code",
   "execution_count": 97,
   "id": "53ca2889",
   "metadata": {},
   "outputs": [
    {
     "data": {
      "image/png": "[encoded data removed]",
      "text/plain": [
       "<Figure size 432x288 with 1 Axes>"
      ]
     },
     "metadata": {
      "needs_background": "light"
     },
     "output_type": "display_data"
    }
   ],
   "source": [
    "sns.countplot(x=df['AGE_Range'],hue=df['SOURCE'])\n",
    "plt.xticks(rotation=90)\n",
    "plt.show()"
   ]
  },
  {
   "cell_type": "code",
   "execution_count": 98,
   "id": "593366bf",
   "metadata": {},
   "outputs": [
    {
     "data": {
      "text/plain": [
       "<AxesSubplot:xlabel='AGE_Range', ylabel='HAEMATOCRIT'>"
      ]
     },
     "execution_count": 98,
     "metadata": {},
     "output_type": "execute_result"
    },
    {
     "data": {
      "image/png": "[encoded data removed]",
      "text/plain": [
       "<Figure size 432x288 with 1 Axes>"
      ]
     },
     "metadata": {
      "needs_background": "light"
     },
     "output_type": "display_data"
    }
   ],
   "source": [
    "sns.barplot(x=df['AGE_Range'],y=df['HAEMATOCRIT'],hue=df['SOURCE'])"
   ]
  },
  {
   "cell_type": "code",
   "execution_count": 99,
   "id": "84d6860a",
   "metadata": {},
   "outputs": [
    {
     "data": {
      "text/plain": [
       "<AxesSubplot:xlabel='AGE_Range', ylabel='HAEMOGLOBINS'>"
      ]
     },
     "execution_count": 99,
     "metadata": {},
     "output_type": "execute_result"
    },
    {
     "data": {
      "image/png": "[encoded data removed]",
      "text/plain": [
       "<Figure size 432x288 with 1 Axes>"
      ]
     },
     "metadata": {
      "needs_background": "light"
     },
     "output_type": "display_data"
    }
   ],
   "source": [
    "sns.barplot(x=df['AGE_Range'],y=df['HAEMOGLOBINS'],hue=df['SOURCE'])"
   ]
  },
  {
   "cell_type": "code",
   "execution_count": 100,
   "id": "9c72f49d",
   "metadata": {},
   "outputs": [
    {
     "data": {
      "text/plain": [
       "<AxesSubplot:xlabel='AGE_Range', ylabel='ERYTHROCYTE'>"
      ]
     },
     "execution_count": 100,
     "metadata": {},
     "output_type": "execute_result"
    },
    {
     "data": {
      "image/png": "[encoded data removed]",
      "text/plain": [
       "<Figure size 432x288 with 1 Axes>"
      ]
     },
     "metadata": {
      "needs_background": "light"
     },
     "output_type": "display_data"
    }
   ],
   "source": [
    "sns.barplot(x=df['AGE_Range'],y=df['ERYTHROCYTE'],hue=df['SOURCE'])"
   ]
  },
  {
   "cell_type": "code",
   "execution_count": 101,
   "id": "72eba688",
   "metadata": {},
   "outputs": [
    {
     "data": {
      "text/plain": [
       "<AxesSubplot:xlabel='AGE_Range', ylabel='LEUCOCYTE'>"
      ]
     },
     "execution_count": 101,
     "metadata": {},
     "output_type": "execute_result"
    },
    {
     "data": {
      "image/png": "[encoded data removed]",
      "text/plain": [
       "<Figure size 432x288 with 1 Axes>"
      ]
     },
     "metadata": {
      "needs_background": "light"
     },
     "output_type": "display_data"
    }
   ],
   "source": [
    "\n",
    "sns.barplot(x=df['AGE_Range'],y=df['LEUCOCYTE'],hue=df['SOURCE'])"
   ]
  },
  {
   "cell_type": "code",
   "execution_count": 102,
   "id": "e7e047f5",
   "metadata": {},
   "outputs": [
    {
     "data": {
      "text/plain": [
       "<AxesSubplot:xlabel='AGE_Range', ylabel='THROMBOCYTE'>"
      ]
     },
     "execution_count": 102,
     "metadata": {},
     "output_type": "execute_result"
    },
    {
     "data": {
      "image/png": "[encoded data removed]",
      "text/plain": [
       "<Figure size 432x288 with 1 Axes>"
      ]
     },
     "metadata": {
      "needs_background": "light"
     },
     "output_type": "display_data"
    }
   ],
   "source": [
    "sns.barplot(x=df['AGE_Range'],y=df['THROMBOCYTE'],hue=df['SOURCE'])"
   ]
  },
  {
   "cell_type": "code",
   "execution_count": 103,
   "id": "db9ced10",
   "metadata": {},
   "outputs": [
    {
     "data": {
      "text/plain": [
       "<AxesSubplot:xlabel='AGE_Range', ylabel='MCH'>"
      ]
     },
     "execution_count": 103,
     "metadata": {},
     "output_type": "execute_result"
    },
    {
     "data": {
      "image/png": "[encoded data removed]",
      "text/plain": [
       "<Figure size 432x288 with 1 Axes>"
      ]
     },
     "metadata": {
      "needs_background": "light"
     },
     "output_type": "display_data"
    }
   ],
   "source": [
    "sns.barplot(x=df['AGE_Range'],y=df['MCH'],hue=df['SOURCE'])"
   ]
  },
  {
   "cell_type": "code",
   "execution_count": 104,
   "id": "81da3d38",
   "metadata": {},
   "outputs": [
    {
     "data": {
      "text/plain": [
       "<AxesSubplot:xlabel='AGE_Range', ylabel='MCHC'>"
      ]
     },
     "execution_count": 104,
     "metadata": {},
     "output_type": "execute_result"
    },
    {
     "data": {
      "image/png": "[encoded data removed]",
      "text/plain": [
       "<Figure size 432x288 with 1 Axes>"
      ]
     },
     "metadata": {
      "needs_background": "light"
     },
     "output_type": "display_data"
    }
   ],
   "source": [
    "sns.barplot(x=df['AGE_Range'],y=df['MCHC'],hue=df['SOURCE'])"
   ]
  },
  {
   "cell_type": "code",
   "execution_count": 105,
   "id": "c01976f0",
   "metadata": {},
   "outputs": [
    {
     "data": {
      "text/plain": [
       "<AxesSubplot:xlabel='AGE_Range', ylabel='MCV'>"
      ]
     },
     "execution_count": 105,
     "metadata": {},
     "output_type": "execute_result"
    },
    {
     "data": {
      "image/png": "[encoded data removed]",
      "text/plain": [
       "<Figure size 432x288 with 1 Axes>"
      ]
     },
     "metadata": {
      "needs_background": "light"
     },
     "output_type": "display_data"
    }
   ],
   "source": [
    "sns.barplot(x=df['AGE_Range'],y=df['MCV'],hue=df['SOURCE'])"
   ]
  },
  {
   "cell_type": "code",
   "execution_count": 106,
   "id": "7cfe690d",
   "metadata": {},
   "outputs": [
    {
     "data": {
      "text/html": [
       "<div>\n",
       "<style scoped>\n",
       "    .dataframe tbody tr th:only-of-type {\n",
       "        vertical-align: middle;\n",
       "    }\n",
       "\n",
       "    .dataframe tbody tr th {\n",
       "        vertical-align: top;\n",
       "    }\n",
       "\n",
       "    .dataframe thead th {\n",
       "        text-align: right;\n",
       "    }\n",
       "</style>\n",
       "<table border=\"1\" class=\"dataframe\">\n",
       "  <thead>\n",
       "    <tr style=\"text-align: right;\">\n",
       "      <th></th>\n",
       "      <th>HAEMATOCRIT</th>\n",
       "      <th>HAEMOGLOBINS</th>\n",
       "      <th>ERYTHROCYTE</th>\n",
       "      <th>LEUCOCYTE</th>\n",
       "      <th>THROMBOCYTE</th>\n",
       "      <th>MCH</th>\n",
       "      <th>MCHC</th>\n",
       "      <th>MCV</th>\n",
       "      <th>AGE</th>\n",
       "      <th>SEX</th>\n",
       "      <th>SOURCE</th>\n",
       "      <th>AGE_Range</th>\n",
       "    </tr>\n",
       "  </thead>\n",
       "  <tbody>\n",
       "    <tr>\n",
       "      <th>0</th>\n",
       "      <td>35.1</td>\n",
       "      <td>11.8</td>\n",
       "      <td>4.65</td>\n",
       "      <td>6.3</td>\n",
       "      <td>310</td>\n",
       "      <td>25.4</td>\n",
       "      <td>33.6</td>\n",
       "      <td>75.5</td>\n",
       "      <td>1</td>\n",
       "      <td>F</td>\n",
       "      <td>out</td>\n",
       "      <td>(0.999, 30.0]</td>\n",
       "    </tr>\n",
       "    <tr>\n",
       "      <th>1</th>\n",
       "      <td>43.5</td>\n",
       "      <td>14.8</td>\n",
       "      <td>5.39</td>\n",
       "      <td>12.7</td>\n",
       "      <td>334</td>\n",
       "      <td>27.5</td>\n",
       "      <td>34.0</td>\n",
       "      <td>80.7</td>\n",
       "      <td>1</td>\n",
       "      <td>F</td>\n",
       "      <td>out</td>\n",
       "      <td>(0.999, 30.0]</td>\n",
       "    </tr>\n",
       "    <tr>\n",
       "      <th>3</th>\n",
       "      <td>39.1</td>\n",
       "      <td>13.7</td>\n",
       "      <td>4.98</td>\n",
       "      <td>10.5</td>\n",
       "      <td>366</td>\n",
       "      <td>27.5</td>\n",
       "      <td>35.0</td>\n",
       "      <td>78.5</td>\n",
       "      <td>1</td>\n",
       "      <td>F</td>\n",
       "      <td>out</td>\n",
       "      <td>(0.999, 30.0]</td>\n",
       "    </tr>\n",
       "    <tr>\n",
       "      <th>4</th>\n",
       "      <td>30.9</td>\n",
       "      <td>9.9</td>\n",
       "      <td>4.23</td>\n",
       "      <td>22.1</td>\n",
       "      <td>333</td>\n",
       "      <td>23.4</td>\n",
       "      <td>32.0</td>\n",
       "      <td>73.0</td>\n",
       "      <td>1</td>\n",
       "      <td>M</td>\n",
       "      <td>out</td>\n",
       "      <td>(0.999, 30.0]</td>\n",
       "    </tr>\n",
       "    <tr>\n",
       "      <th>5</th>\n",
       "      <td>34.3</td>\n",
       "      <td>11.6</td>\n",
       "      <td>4.53</td>\n",
       "      <td>6.6</td>\n",
       "      <td>185</td>\n",
       "      <td>25.6</td>\n",
       "      <td>33.8</td>\n",
       "      <td>75.7</td>\n",
       "      <td>1</td>\n",
       "      <td>M</td>\n",
       "      <td>out</td>\n",
       "      <td>(0.999, 30.0]</td>\n",
       "    </tr>\n",
       "    <tr>\n",
       "      <th>...</th>\n",
       "      <td>...</td>\n",
       "      <td>...</td>\n",
       "      <td>...</td>\n",
       "      <td>...</td>\n",
       "      <td>...</td>\n",
       "      <td>...</td>\n",
       "      <td>...</td>\n",
       "      <td>...</td>\n",
       "      <td>...</td>\n",
       "      <td>...</td>\n",
       "      <td>...</td>\n",
       "      <td>...</td>\n",
       "    </tr>\n",
       "    <tr>\n",
       "      <th>4406</th>\n",
       "      <td>33.7</td>\n",
       "      <td>10.4</td>\n",
       "      <td>3.48</td>\n",
       "      <td>11.4</td>\n",
       "      <td>112</td>\n",
       "      <td>29.9</td>\n",
       "      <td>30.9</td>\n",
       "      <td>96.8</td>\n",
       "      <td>92</td>\n",
       "      <td>F</td>\n",
       "      <td>in</td>\n",
       "      <td>(64.0, 99.0]</td>\n",
       "    </tr>\n",
       "    <tr>\n",
       "      <th>4407</th>\n",
       "      <td>32.8</td>\n",
       "      <td>10.4</td>\n",
       "      <td>3.49</td>\n",
       "      <td>8.1</td>\n",
       "      <td>72</td>\n",
       "      <td>29.8</td>\n",
       "      <td>31.7</td>\n",
       "      <td>94.0</td>\n",
       "      <td>92</td>\n",
       "      <td>F</td>\n",
       "      <td>in</td>\n",
       "      <td>(64.0, 99.0]</td>\n",
       "    </tr>\n",
       "    <tr>\n",
       "      <th>4408</th>\n",
       "      <td>33.7</td>\n",
       "      <td>10.8</td>\n",
       "      <td>3.67</td>\n",
       "      <td>6.7</td>\n",
       "      <td>70</td>\n",
       "      <td>29.4</td>\n",
       "      <td>32.0</td>\n",
       "      <td>91.8</td>\n",
       "      <td>92</td>\n",
       "      <td>F</td>\n",
       "      <td>in</td>\n",
       "      <td>(64.0, 99.0]</td>\n",
       "    </tr>\n",
       "    <tr>\n",
       "      <th>4409</th>\n",
       "      <td>33.2</td>\n",
       "      <td>11.2</td>\n",
       "      <td>3.47</td>\n",
       "      <td>7.2</td>\n",
       "      <td>235</td>\n",
       "      <td>32.3</td>\n",
       "      <td>33.7</td>\n",
       "      <td>95.7</td>\n",
       "      <td>93</td>\n",
       "      <td>F</td>\n",
       "      <td>out</td>\n",
       "      <td>(64.0, 99.0]</td>\n",
       "    </tr>\n",
       "    <tr>\n",
       "      <th>4411</th>\n",
       "      <td>33.5</td>\n",
       "      <td>10.9</td>\n",
       "      <td>3.44</td>\n",
       "      <td>5.8</td>\n",
       "      <td>275</td>\n",
       "      <td>31.7</td>\n",
       "      <td>32.5</td>\n",
       "      <td>97.4</td>\n",
       "      <td>99</td>\n",
       "      <td>F</td>\n",
       "      <td>out</td>\n",
       "      <td>(64.0, 99.0]</td>\n",
       "    </tr>\n",
       "  </tbody>\n",
       "</table>\n",
       "<p>3886 rows × 12 columns</p>\n",
       "</div>"
      ],
      "text/plain": [
       "      HAEMATOCRIT  HAEMOGLOBINS  ERYTHROCYTE  LEUCOCYTE  THROMBOCYTE   MCH  \\\n",
       "0            35.1          11.8         4.65        6.3          310  25.4   \n",
       "1            43.5          14.8         5.39       12.7          334  27.5   \n",
       "3            39.1          13.7         4.98       10.5          366  27.5   \n",
       "4            30.9           9.9         4.23       22.1          333  23.4   \n",
       "5            34.3          11.6         4.53        6.6          185  25.6   \n",
       "...           ...           ...          ...        ...          ...   ...   \n",
       "4406         33.7          10.4         3.48       11.4          112  29.9   \n",
       "4407         32.8          10.4         3.49        8.1           72  29.8   \n",
       "4408         33.7          10.8         3.67        6.7           70  29.4   \n",
       "4409         33.2          11.2         3.47        7.2          235  32.3   \n",
       "4411         33.5          10.9         3.44        5.8          275  31.7   \n",
       "\n",
       "      MCHC   MCV  AGE SEX SOURCE      AGE_Range  \n",
       "0     33.6  75.5    1   F    out  (0.999, 30.0]  \n",
       "1     34.0  80.7    1   F    out  (0.999, 30.0]  \n",
       "3     35.0  78.5    1   F    out  (0.999, 30.0]  \n",
       "4     32.0  73.0    1   M    out  (0.999, 30.0]  \n",
       "5     33.8  75.7    1   M    out  (0.999, 30.0]  \n",
       "...    ...   ...  ...  ..    ...            ...  \n",
       "4406  30.9  96.8   92   F     in   (64.0, 99.0]  \n",
       "4407  31.7  94.0   92   F     in   (64.0, 99.0]  \n",
       "4408  32.0  91.8   92   F     in   (64.0, 99.0]  \n",
       "4409  33.7  95.7   93   F    out   (64.0, 99.0]  \n",
       "4411  32.5  97.4   99   F    out   (64.0, 99.0]  \n",
       "\n",
       "[3886 rows x 12 columns]"
      ]
     },
     "execution_count": 106,
     "metadata": {},
     "output_type": "execute_result"
    }
   ],
   "source": [
    "df"
   ]
  },
  {
   "cell_type": "code",
   "execution_count": 107,
   "id": "ba409697",
   "metadata": {},
   "outputs": [
    {
     "data": {
      "text/plain": [
       "<AxesSubplot:xlabel='AGE_Range', ylabel='HAEMATOCRIT'>"
      ]
     },
     "execution_count": 107,
     "metadata": {},
     "output_type": "execute_result"
    },
    {
     "data": {
      "image/png": "[encoded data removed]",
      "text/plain": [
       "<Figure size 432x288 with 1 Axes>"
      ]
     },
     "metadata": {
      "needs_background": "light"
     },
     "output_type": "display_data"
    }
   ],
   "source": [
    "sns.boxplot(x=df['AGE_Range'],y=df['HAEMATOCRIT'],hue=df['SOURCE'])"
   ]
  },
  {
   "cell_type": "code",
   "execution_count": 108,
   "id": "ede24528",
   "metadata": {},
   "outputs": [
    {
     "data": {
      "text/plain": [
       "<AxesSubplot:xlabel='AGE_Range', ylabel='HAEMOGLOBINS'>"
      ]
     },
     "execution_count": 108,
     "metadata": {},
     "output_type": "execute_result"
    },
    {
     "data": {
      "image/png": "[encoded data removed]",
      "text/plain": [
       "<Figure size 432x288 with 1 Axes>"
      ]
     },
     "metadata": {
      "needs_background": "light"
     },
     "output_type": "display_data"
    }
   ],
   "source": [
    "sns.boxplot(x=df['AGE_Range'],y=df['HAEMOGLOBINS'],hue=df['SOURCE'])"
   ]
  },
  {
   "cell_type": "code",
   "execution_count": 109,
   "id": "f41d64e4",
   "metadata": {},
   "outputs": [
    {
     "data": {
      "text/plain": [
       "<AxesSubplot:xlabel='AGE_Range', ylabel='ERYTHROCYTE'>"
      ]
     },
     "execution_count": 109,
     "metadata": {},
     "output_type": "execute_result"
    },
    {
     "data": {
      "image/png": "[encoded data removed]",
      "text/plain": [
       "<Figure size 432x288 with 1 Axes>"
      ]
     },
     "metadata": {
      "needs_background": "light"
     },
     "output_type": "display_data"
    }
   ],
   "source": [
    "\n",
    "sns.boxplot(x=df['AGE_Range'],y=df['ERYTHROCYTE'],hue=df['SOURCE'])"
   ]
  },
  {
   "cell_type": "code",
   "execution_count": 110,
   "id": "c8e7fc0b",
   "metadata": {},
   "outputs": [
    {
     "data": {
      "text/plain": [
       "<AxesSubplot:xlabel='AGE_Range', ylabel='LEUCOCYTE'>"
      ]
     },
     "execution_count": 110,
     "metadata": {},
     "output_type": "execute_result"
    },
    {
     "data": {
      "image/png": "[encoded data removed]",
      "text/plain": [
       "<Figure size 432x288 with 1 Axes>"
      ]
     },
     "metadata": {
      "needs_background": "light"
     },
     "output_type": "display_data"
    }
   ],
   "source": [
    "sns.boxplot(x=df['AGE_Range'],y=df['LEUCOCYTE'],hue=df['SOURCE'])"
   ]
  },
  {
   "cell_type": "code",
   "execution_count": 111,
   "id": "7d70876a",
   "metadata": {},
   "outputs": [
    {
     "data": {
      "text/plain": [
       "<AxesSubplot:xlabel='AGE_Range', ylabel='THROMBOCYTE'>"
      ]
     },
     "execution_count": 111,
     "metadata": {},
     "output_type": "execute_result"
    },
    {
     "data": {
      "image/png": "[encoded data removed]",
      "text/plain": [
       "<Figure size 432x288 with 1 Axes>"
      ]
     },
     "metadata": {
      "needs_background": "light"
     },
     "output_type": "display_data"
    }
   ],
   "source": [
    "\n",
    "sns.boxplot(x=df['AGE_Range'],y=df['THROMBOCYTE'],hue=df['SOURCE'])"
   ]
  },
  {
   "cell_type": "code",
   "execution_count": 112,
   "id": "d2aa290d",
   "metadata": {},
   "outputs": [
    {
     "data": {
      "text/plain": [
       "<AxesSubplot:xlabel='AGE_Range', ylabel='MCH'>"
      ]
     },
     "execution_count": 112,
     "metadata": {},
     "output_type": "execute_result"
    },
    {
     "data": {
      "image/png": "[encoded data removed]",
      "text/plain": [
       "<Figure size 432x288 with 1 Axes>"
      ]
     },
     "metadata": {
      "needs_background": "light"
     },
     "output_type": "display_data"
    }
   ],
   "source": [
    "\n",
    "sns.boxplot(x=df['AGE_Range'],y=df['MCH'],hue=df['SOURCE'])"
   ]
  },
  {
   "cell_type": "code",
   "execution_count": 113,
   "id": "f04ab654",
   "metadata": {},
   "outputs": [
    {
     "data": {
      "text/plain": [
       "<AxesSubplot:xlabel='AGE_Range', ylabel='MCHC'>"
      ]
     },
     "execution_count": 113,
     "metadata": {},
     "output_type": "execute_result"
    },
    {
     "data": {
      "image/png": "[encoded data removed]",
      "text/plain": [
       "<Figure size 432x288 with 1 Axes>"
      ]
     },
     "metadata": {
      "needs_background": "light"
     },
     "output_type": "display_data"
    }
   ],
   "source": [
    "\n",
    "sns.boxplot(x=df['AGE_Range'],y=df['MCHC'],hue=df['SOURCE'])"
   ]
  },
  {
   "cell_type": "code",
   "execution_count": 114,
   "id": "ca1e69af",
   "metadata": {},
   "outputs": [
    {
     "data": {
      "text/plain": [
       "<AxesSubplot:xlabel='AGE_Range', ylabel='MCV'>"
      ]
     },
     "execution_count": 114,
     "metadata": {},
     "output_type": "execute_result"
    },
    {
     "data": {
      "image/png": "[encoded data removed]",
      "text/plain": [
       "<Figure size 432x288 with 1 Axes>"
      ]
     },
     "metadata": {
      "needs_background": "light"
     },
     "output_type": "display_data"
    }
   ],
   "source": [
    "sns.boxplot(x=df['AGE_Range'],y=df['MCV'],hue=df['SOURCE'])"
   ]
  },
  {
   "cell_type": "code",
   "execution_count": 115,
   "id": "a829c5bf",
   "metadata": {},
   "outputs": [
    {
     "data": {
      "text/plain": [
       "<AxesSubplot:xlabel='SEX', ylabel='HAEMATOCRIT'>"
      ]
     },
     "execution_count": 115,
     "metadata": {},
     "output_type": "execute_result"
    },
    {
     "data": {
      "image/png": "[encoded data removed]",
      "text/plain": [
       "<Figure size 432x288 with 1 Axes>"
      ]
     },
     "metadata": {
      "needs_background": "light"
     },
     "output_type": "display_data"
    }
   ],
   "source": [
    "sns.boxplot(x=df['SEX'],y=df['HAEMATOCRIT'],hue=df['SOURCE'])"
   ]
  },
  {
   "cell_type": "code",
   "execution_count": 116,
   "id": "113beb8b",
   "metadata": {},
   "outputs": [
    {
     "data": {
      "text/plain": [
       "<AxesSubplot:xlabel='SEX', ylabel='HAEMOGLOBINS'>"
      ]
     },
     "execution_count": 116,
     "metadata": {},
     "output_type": "execute_result"
    },
    {
     "data": {
      "image/png": "[encoded data removed]",
      "text/plain": [
       "<Figure size 432x288 with 1 Axes>"
      ]
     },
     "metadata": {
      "needs_background": "light"
     },
     "output_type": "display_data"
    }
   ],
   "source": [
    "sns.boxplot(x=df['SEX'],y=df['HAEMOGLOBINS'],hue=df['SOURCE'])"
   ]
  },
  {
   "cell_type": "code",
   "execution_count": 117,
   "id": "a762c9aa",
   "metadata": {},
   "outputs": [
    {
     "data": {
      "text/plain": [
       "<AxesSubplot:xlabel='SEX', ylabel='ERYTHROCYTE'>"
      ]
     },
     "execution_count": 117,
     "metadata": {},
     "output_type": "execute_result"
    },
    {
     "data": {
      "image/png": "[encoded data removed]",
      "text/plain": [
       "<Figure size 432x288 with 1 Axes>"
      ]
     },
     "metadata": {
      "needs_background": "light"
     },
     "output_type": "display_data"
    }
   ],
   "source": [
    "\n",
    "sns.boxplot(x=df['SEX'],y=df['ERYTHROCYTE'],hue=df['SOURCE'])"
   ]
  },
  {
   "cell_type": "code",
   "execution_count": 118,
   "id": "9cadd786",
   "metadata": {},
   "outputs": [
    {
     "data": {
      "text/plain": [
       "<AxesSubplot:xlabel='SEX', ylabel='LEUCOCYTE'>"
      ]
     },
     "execution_count": 118,
     "metadata": {},
     "output_type": "execute_result"
    },
    {
     "data": {
      "image/png": "[encoded data removed]",
      "text/plain": [
       "<Figure size 432x288 with 1 Axes>"
      ]
     },
     "metadata": {
      "needs_background": "light"
     },
     "output_type": "display_data"
    }
   ],
   "source": [
    "sns.boxplot(x=df['SEX'],y=df['LEUCOCYTE'],hue=df['SOURCE'])"
   ]
  },
  {
   "cell_type": "code",
   "execution_count": 119,
   "id": "ec7555f3",
   "metadata": {},
   "outputs": [
    {
     "data": {
      "text/plain": [
       "<AxesSubplot:xlabel='SEX', ylabel='THROMBOCYTE'>"
      ]
     },
     "execution_count": 119,
     "metadata": {},
     "output_type": "execute_result"
    },
    {
     "data": {
      "image/png": "[encoded data removed]",
      "text/plain": [
       "<Figure size 432x288 with 1 Axes>"
      ]
     },
     "metadata": {
      "needs_background": "light"
     },
     "output_type": "display_data"
    }
   ],
   "source": [
    "\n",
    "sns.boxplot(x=df['SEX'],y=df['THROMBOCYTE'],hue=df['SOURCE'])"
   ]
  },
  {
   "cell_type": "code",
   "execution_count": 120,
   "id": "a25d904c",
   "metadata": {},
   "outputs": [
    {
     "data": {
      "text/plain": [
       "<AxesSubplot:xlabel='SEX', ylabel='MCH'>"
      ]
     },
     "execution_count": 120,
     "metadata": {},
     "output_type": "execute_result"
    },
    {
     "data": {
      "image/png": "[encoded data removed]",
      "text/plain": [
       "<Figure size 432x288 with 1 Axes>"
      ]
     },
     "metadata": {
      "needs_background": "light"
     },
     "output_type": "display_data"
    }
   ],
   "source": [
    "\n",
    "sns.boxplot(x=df['SEX'],y=df['MCH'],hue=df['SOURCE'])"
   ]
  },
  {
   "cell_type": "code",
   "execution_count": 121,
   "id": "98627ff7",
   "metadata": {},
   "outputs": [
    {
     "data": {
      "text/plain": [
       "<AxesSubplot:xlabel='SEX', ylabel='MCHC'>"
      ]
     },
     "execution_count": 121,
     "metadata": {},
     "output_type": "execute_result"
    },
    {
     "data": {
      "image/png": "[encoded data removed]",
      "text/plain": [
       "<Figure size 432x288 with 1 Axes>"
      ]
     },
     "metadata": {
      "needs_background": "light"
     },
     "output_type": "display_data"
    }
   ],
   "source": [
    "sns.boxplot(x=df['SEX'],y=df['MCHC'],hue=df['SOURCE'])"
   ]
  },
  {
   "cell_type": "code",
   "execution_count": 122,
   "id": "44eb17ec",
   "metadata": {},
   "outputs": [
    {
     "data": {
      "text/plain": [
       "<AxesSubplot:xlabel='SEX', ylabel='MCV'>"
      ]
     },
     "execution_count": 122,
     "metadata": {},
     "output_type": "execute_result"
    },
    {
     "data": {
      "image/png": "[encoded data removed]",
      "text/plain": [
       "<Figure size 432x288 with 1 Axes>"
      ]
     },
     "metadata": {
      "needs_background": "light"
     },
     "output_type": "display_data"
    }
   ],
   "source": [
    "sns.boxplot(x=df['SEX'],y=df['MCV'],hue=df['SOURCE'])"
   ]
  },
  {
   "cell_type": "code",
   "execution_count": 123,
   "id": "e5ee4c58",
   "metadata": {},
   "outputs": [
    {
     "data": {
      "text/html": [
       "<div>\n",
       "<style scoped>\n",
       "    .dataframe tbody tr th:only-of-type {\n",
       "        vertical-align: middle;\n",
       "    }\n",
       "\n",
       "    .dataframe tbody tr th {\n",
       "        vertical-align: top;\n",
       "    }\n",
       "\n",
       "    .dataframe thead th {\n",
       "        text-align: right;\n",
       "    }\n",
       "</style>\n",
       "<table border=\"1\" class=\"dataframe\">\n",
       "  <thead>\n",
       "    <tr style=\"text-align: right;\">\n",
       "      <th></th>\n",
       "      <th>HAEMATOCRIT</th>\n",
       "      <th>HAEMOGLOBINS</th>\n",
       "      <th>ERYTHROCYTE</th>\n",
       "      <th>LEUCOCYTE</th>\n",
       "      <th>THROMBOCYTE</th>\n",
       "      <th>MCH</th>\n",
       "      <th>MCHC</th>\n",
       "      <th>MCV</th>\n",
       "      <th>AGE</th>\n",
       "      <th>SEX</th>\n",
       "      <th>SOURCE</th>\n",
       "      <th>AGE_Range</th>\n",
       "    </tr>\n",
       "  </thead>\n",
       "  <tbody>\n",
       "    <tr>\n",
       "      <th>0</th>\n",
       "      <td>35.1</td>\n",
       "      <td>11.8</td>\n",
       "      <td>4.65</td>\n",
       "      <td>6.3</td>\n",
       "      <td>310</td>\n",
       "      <td>25.4</td>\n",
       "      <td>33.6</td>\n",
       "      <td>75.5</td>\n",
       "      <td>1</td>\n",
       "      <td>F</td>\n",
       "      <td>out</td>\n",
       "      <td>(0.999, 30.0]</td>\n",
       "    </tr>\n",
       "    <tr>\n",
       "      <th>1</th>\n",
       "      <td>43.5</td>\n",
       "      <td>14.8</td>\n",
       "      <td>5.39</td>\n",
       "      <td>12.7</td>\n",
       "      <td>334</td>\n",
       "      <td>27.5</td>\n",
       "      <td>34.0</td>\n",
       "      <td>80.7</td>\n",
       "      <td>1</td>\n",
       "      <td>F</td>\n",
       "      <td>out</td>\n",
       "      <td>(0.999, 30.0]</td>\n",
       "    </tr>\n",
       "    <tr>\n",
       "      <th>3</th>\n",
       "      <td>39.1</td>\n",
       "      <td>13.7</td>\n",
       "      <td>4.98</td>\n",
       "      <td>10.5</td>\n",
       "      <td>366</td>\n",
       "      <td>27.5</td>\n",
       "      <td>35.0</td>\n",
       "      <td>78.5</td>\n",
       "      <td>1</td>\n",
       "      <td>F</td>\n",
       "      <td>out</td>\n",
       "      <td>(0.999, 30.0]</td>\n",
       "    </tr>\n",
       "    <tr>\n",
       "      <th>4</th>\n",
       "      <td>30.9</td>\n",
       "      <td>9.9</td>\n",
       "      <td>4.23</td>\n",
       "      <td>22.1</td>\n",
       "      <td>333</td>\n",
       "      <td>23.4</td>\n",
       "      <td>32.0</td>\n",
       "      <td>73.0</td>\n",
       "      <td>1</td>\n",
       "      <td>M</td>\n",
       "      <td>out</td>\n",
       "      <td>(0.999, 30.0]</td>\n",
       "    </tr>\n",
       "    <tr>\n",
       "      <th>5</th>\n",
       "      <td>34.3</td>\n",
       "      <td>11.6</td>\n",
       "      <td>4.53</td>\n",
       "      <td>6.6</td>\n",
       "      <td>185</td>\n",
       "      <td>25.6</td>\n",
       "      <td>33.8</td>\n",
       "      <td>75.7</td>\n",
       "      <td>1</td>\n",
       "      <td>M</td>\n",
       "      <td>out</td>\n",
       "      <td>(0.999, 30.0]</td>\n",
       "    </tr>\n",
       "    <tr>\n",
       "      <th>...</th>\n",
       "      <td>...</td>\n",
       "      <td>...</td>\n",
       "      <td>...</td>\n",
       "      <td>...</td>\n",
       "      <td>...</td>\n",
       "      <td>...</td>\n",
       "      <td>...</td>\n",
       "      <td>...</td>\n",
       "      <td>...</td>\n",
       "      <td>...</td>\n",
       "      <td>...</td>\n",
       "      <td>...</td>\n",
       "    </tr>\n",
       "    <tr>\n",
       "      <th>4406</th>\n",
       "      <td>33.7</td>\n",
       "      <td>10.4</td>\n",
       "      <td>3.48</td>\n",
       "      <td>11.4</td>\n",
       "      <td>112</td>\n",
       "      <td>29.9</td>\n",
       "      <td>30.9</td>\n",
       "      <td>96.8</td>\n",
       "      <td>92</td>\n",
       "      <td>F</td>\n",
       "      <td>in</td>\n",
       "      <td>(64.0, 99.0]</td>\n",
       "    </tr>\n",
       "    <tr>\n",
       "      <th>4407</th>\n",
       "      <td>32.8</td>\n",
       "      <td>10.4</td>\n",
       "      <td>3.49</td>\n",
       "      <td>8.1</td>\n",
       "      <td>72</td>\n",
       "      <td>29.8</td>\n",
       "      <td>31.7</td>\n",
       "      <td>94.0</td>\n",
       "      <td>92</td>\n",
       "      <td>F</td>\n",
       "      <td>in</td>\n",
       "      <td>(64.0, 99.0]</td>\n",
       "    </tr>\n",
       "    <tr>\n",
       "      <th>4408</th>\n",
       "      <td>33.7</td>\n",
       "      <td>10.8</td>\n",
       "      <td>3.67</td>\n",
       "      <td>6.7</td>\n",
       "      <td>70</td>\n",
       "      <td>29.4</td>\n",
       "      <td>32.0</td>\n",
       "      <td>91.8</td>\n",
       "      <td>92</td>\n",
       "      <td>F</td>\n",
       "      <td>in</td>\n",
       "      <td>(64.0, 99.0]</td>\n",
       "    </tr>\n",
       "    <tr>\n",
       "      <th>4409</th>\n",
       "      <td>33.2</td>\n",
       "      <td>11.2</td>\n",
       "      <td>3.47</td>\n",
       "      <td>7.2</td>\n",
       "      <td>235</td>\n",
       "      <td>32.3</td>\n",
       "      <td>33.7</td>\n",
       "      <td>95.7</td>\n",
       "      <td>93</td>\n",
       "      <td>F</td>\n",
       "      <td>out</td>\n",
       "      <td>(64.0, 99.0]</td>\n",
       "    </tr>\n",
       "    <tr>\n",
       "      <th>4411</th>\n",
       "      <td>33.5</td>\n",
       "      <td>10.9</td>\n",
       "      <td>3.44</td>\n",
       "      <td>5.8</td>\n",
       "      <td>275</td>\n",
       "      <td>31.7</td>\n",
       "      <td>32.5</td>\n",
       "      <td>97.4</td>\n",
       "      <td>99</td>\n",
       "      <td>F</td>\n",
       "      <td>out</td>\n",
       "      <td>(64.0, 99.0]</td>\n",
       "    </tr>\n",
       "  </tbody>\n",
       "</table>\n",
       "<p>3886 rows × 12 columns</p>\n",
       "</div>"
      ],
      "text/plain": [
       "      HAEMATOCRIT  HAEMOGLOBINS  ERYTHROCYTE  LEUCOCYTE  THROMBOCYTE   MCH  \\\n",
       "0            35.1          11.8         4.65        6.3          310  25.4   \n",
       "1            43.5          14.8         5.39       12.7          334  27.5   \n",
       "3            39.1          13.7         4.98       10.5          366  27.5   \n",
       "4            30.9           9.9         4.23       22.1          333  23.4   \n",
       "5            34.3          11.6         4.53        6.6          185  25.6   \n",
       "...           ...           ...          ...        ...          ...   ...   \n",
       "4406         33.7          10.4         3.48       11.4          112  29.9   \n",
       "4407         32.8          10.4         3.49        8.1           72  29.8   \n",
       "4408         33.7          10.8         3.67        6.7           70  29.4   \n",
       "4409         33.2          11.2         3.47        7.2          235  32.3   \n",
       "4411         33.5          10.9         3.44        5.8          275  31.7   \n",
       "\n",
       "      MCHC   MCV  AGE SEX SOURCE      AGE_Range  \n",
       "0     33.6  75.5    1   F    out  (0.999, 30.0]  \n",
       "1     34.0  80.7    1   F    out  (0.999, 30.0]  \n",
       "3     35.0  78.5    1   F    out  (0.999, 30.0]  \n",
       "4     32.0  73.0    1   M    out  (0.999, 30.0]  \n",
       "5     33.8  75.7    1   M    out  (0.999, 30.0]  \n",
       "...    ...   ...  ...  ..    ...            ...  \n",
       "4406  30.9  96.8   92   F     in   (64.0, 99.0]  \n",
       "4407  31.7  94.0   92   F     in   (64.0, 99.0]  \n",
       "4408  32.0  91.8   92   F     in   (64.0, 99.0]  \n",
       "4409  33.7  95.7   93   F    out   (64.0, 99.0]  \n",
       "4411  32.5  97.4   99   F    out   (64.0, 99.0]  \n",
       "\n",
       "[3886 rows x 12 columns]"
      ]
     },
     "execution_count": 123,
     "metadata": {},
     "output_type": "execute_result"
    }
   ],
   "source": [
    "df"
   ]
  },
  {
   "cell_type": "code",
   "execution_count": 124,
   "id": "3fcd4457",
   "metadata": {},
   "outputs": [
    {
     "data": {
      "text/plain": [
       "<AxesSubplot:xlabel='SOURCE', ylabel='HAEMATOCRIT'>"
      ]
     },
     "execution_count": 124,
     "metadata": {},
     "output_type": "execute_result"
    },
    {
     "data": {
      "image/png": "[encoded data removed]",
      "text/plain": [
       "<Figure size 432x288 with 1 Axes>"
      ]
     },
     "metadata": {
      "needs_background": "light"
     },
     "output_type": "display_data"
    }
   ],
   "source": [
    "sns.boxplot(x=df['SOURCE'],y=df['HAEMATOCRIT'])"
   ]
  },
  {
   "cell_type": "code",
   "execution_count": 125,
   "id": "b3a18223",
   "metadata": {},
   "outputs": [
    {
     "data": {
      "text/plain": [
       "<AxesSubplot:xlabel='SOURCE', ylabel='HAEMOGLOBINS'>"
      ]
     },
     "execution_count": 125,
     "metadata": {},
     "output_type": "execute_result"
    },
    {
     "data": {
      "image/png": "[encoded data removed]",
      "text/plain": [
       "<Figure size 432x288 with 1 Axes>"
      ]
     },
     "metadata": {
      "needs_background": "light"
     },
     "output_type": "display_data"
    }
   ],
   "source": [
    "sns.boxplot(x=df['SOURCE'],y=df['HAEMOGLOBINS'])"
   ]
  },
  {
   "cell_type": "code",
   "execution_count": 126,
   "id": "e9b19f96",
   "metadata": {},
   "outputs": [
    {
     "data": {
      "text/plain": [
       "<AxesSubplot:xlabel='SOURCE', ylabel='ERYTHROCYTE'>"
      ]
     },
     "execution_count": 126,
     "metadata": {},
     "output_type": "execute_result"
    },
    {
     "data": {
      "image/png": "[encoded data removed]",
      "text/plain": [
       "<Figure size 432x288 with 1 Axes>"
      ]
     },
     "metadata": {
      "needs_background": "light"
     },
     "output_type": "display_data"
    }
   ],
   "source": [
    "\n",
    "sns.boxplot(x=df['SOURCE'],y=df['ERYTHROCYTE'])"
   ]
  },
  {
   "cell_type": "code",
   "execution_count": 127,
   "id": "b0c43f5b",
   "metadata": {},
   "outputs": [
    {
     "data": {
      "text/plain": [
       "<AxesSubplot:xlabel='SOURCE', ylabel='LEUCOCYTE'>"
      ]
     },
     "execution_count": 127,
     "metadata": {},
     "output_type": "execute_result"
    },
    {
     "data": {
      "image/png": "[encoded data removed]",
      "text/plain": [
       "<Figure size 432x288 with 1 Axes>"
      ]
     },
     "metadata": {
      "needs_background": "light"
     },
     "output_type": "display_data"
    }
   ],
   "source": [
    "sns.boxplot(x=df['SOURCE'],y=df['LEUCOCYTE'])"
   ]
  },
  {
   "cell_type": "code",
   "execution_count": 128,
   "id": "4633a2c3",
   "metadata": {},
   "outputs": [
    {
     "data": {
      "text/plain": [
       "<AxesSubplot:xlabel='SOURCE', ylabel='THROMBOCYTE'>"
      ]
     },
     "execution_count": 128,
     "metadata": {},
     "output_type": "execute_result"
    },
    {
     "data": {
      "image/png": "[encoded data removed]",
      "text/plain": [
       "<Figure size 432x288 with 1 Axes>"
      ]
     },
     "metadata": {
      "needs_background": "light"
     },
     "output_type": "display_data"
    }
   ],
   "source": [
    "\n",
    "sns.boxplot(x=df['SOURCE'],y=df['THROMBOCYTE'])"
   ]
  },
  {
   "cell_type": "code",
   "execution_count": 129,
   "id": "80296d52",
   "metadata": {},
   "outputs": [
    {
     "data": {
      "text/plain": [
       "<AxesSubplot:xlabel='SOURCE', ylabel='MCH'>"
      ]
     },
     "execution_count": 129,
     "metadata": {},
     "output_type": "execute_result"
    },
    {
     "data": {
      "image/png": "[encoded data removed]",
      "text/plain": [
       "<Figure size 432x288 with 1 Axes>"
      ]
     },
     "metadata": {
      "needs_background": "light"
     },
     "output_type": "display_data"
    }
   ],
   "source": [
    "\n",
    "sns.boxplot(x=df['SOURCE'],y=df['MCH'])"
   ]
  },
  {
   "cell_type": "code",
   "execution_count": 130,
   "id": "c6c19c00",
   "metadata": {},
   "outputs": [
    {
     "data": {
      "text/plain": [
       "<AxesSubplot:xlabel='SOURCE', ylabel='MCHC'>"
      ]
     },
     "execution_count": 130,
     "metadata": {},
     "output_type": "execute_result"
    },
    {
     "data": {
      "image/png": "[encoded data removed]",
      "text/plain": [
       "<Figure size 432x288 with 1 Axes>"
      ]
     },
     "metadata": {
      "needs_background": "light"
     },
     "output_type": "display_data"
    }
   ],
   "source": [
    "sns.boxplot(x=df['SOURCE'],y=df['MCHC'])"
   ]
  },
  {
   "cell_type": "code",
   "execution_count": 131,
   "id": "6adf490c",
   "metadata": {},
   "outputs": [
    {
     "data": {
      "text/plain": [
       "<AxesSubplot:xlabel='SOURCE', ylabel='MCV'>"
      ]
     },
     "execution_count": 131,
     "metadata": {},
     "output_type": "execute_result"
    },
    {
     "data": {
      "image/png": "[encoded data removed]",
      "text/plain": [
       "<Figure size 432x288 with 1 Axes>"
      ]
     },
     "metadata": {
      "needs_background": "light"
     },
     "output_type": "display_data"
    }
   ],
   "source": [
    "sns.boxplot(x=df['SOURCE'],y=df['MCV'])"
   ]
  },
  {
   "cell_type": "code",
   "execution_count": 132,
   "id": "0f5607f4",
   "metadata": {},
   "outputs": [
    {
     "data": {
      "text/plain": [
       "<AxesSubplot:xlabel='SOURCE', ylabel='AGE'>"
      ]
     },
     "execution_count": 132,
     "metadata": {},
     "output_type": "execute_result"
    },
    {
     "data": {
      "image/png": "[encoded data removed]",
      "text/plain": [
       "<Figure size 432x288 with 1 Axes>"
      ]
     },
     "metadata": {
      "needs_background": "light"
     },
     "output_type": "display_data"
    }
   ],
   "source": [
    "sns.boxplot(x=df['SOURCE'],y=df['AGE'])"
   ]
  },
  {
   "cell_type": "code",
   "execution_count": 133,
   "id": "3280ece5",
   "metadata": {},
   "outputs": [
    {
     "data": {
      "text/html": [
       "<div>\n",
       "<style scoped>\n",
       "    .dataframe tbody tr th:only-of-type {\n",
       "        vertical-align: middle;\n",
       "    }\n",
       "\n",
       "    .dataframe tbody tr th {\n",
       "        vertical-align: top;\n",
       "    }\n",
       "\n",
       "    .dataframe thead th {\n",
       "        text-align: right;\n",
       "    }\n",
       "</style>\n",
       "<table border=\"1\" class=\"dataframe\">\n",
       "  <thead>\n",
       "    <tr style=\"text-align: right;\">\n",
       "      <th></th>\n",
       "      <th>HAEMATOCRIT</th>\n",
       "      <th>HAEMOGLOBINS</th>\n",
       "      <th>ERYTHROCYTE</th>\n",
       "      <th>LEUCOCYTE</th>\n",
       "      <th>THROMBOCYTE</th>\n",
       "      <th>MCH</th>\n",
       "      <th>MCHC</th>\n",
       "      <th>MCV</th>\n",
       "      <th>AGE</th>\n",
       "      <th>SEX</th>\n",
       "      <th>SOURCE</th>\n",
       "      <th>AGE_Range</th>\n",
       "    </tr>\n",
       "  </thead>\n",
       "  <tbody>\n",
       "    <tr>\n",
       "      <th>0</th>\n",
       "      <td>35.1</td>\n",
       "      <td>11.8</td>\n",
       "      <td>4.65</td>\n",
       "      <td>6.3</td>\n",
       "      <td>310</td>\n",
       "      <td>25.4</td>\n",
       "      <td>33.6</td>\n",
       "      <td>75.5</td>\n",
       "      <td>1</td>\n",
       "      <td>F</td>\n",
       "      <td>out</td>\n",
       "      <td>(0.999, 30.0]</td>\n",
       "    </tr>\n",
       "    <tr>\n",
       "      <th>1</th>\n",
       "      <td>43.5</td>\n",
       "      <td>14.8</td>\n",
       "      <td>5.39</td>\n",
       "      <td>12.7</td>\n",
       "      <td>334</td>\n",
       "      <td>27.5</td>\n",
       "      <td>34.0</td>\n",
       "      <td>80.7</td>\n",
       "      <td>1</td>\n",
       "      <td>F</td>\n",
       "      <td>out</td>\n",
       "      <td>(0.999, 30.0]</td>\n",
       "    </tr>\n",
       "    <tr>\n",
       "      <th>3</th>\n",
       "      <td>39.1</td>\n",
       "      <td>13.7</td>\n",
       "      <td>4.98</td>\n",
       "      <td>10.5</td>\n",
       "      <td>366</td>\n",
       "      <td>27.5</td>\n",
       "      <td>35.0</td>\n",
       "      <td>78.5</td>\n",
       "      <td>1</td>\n",
       "      <td>F</td>\n",
       "      <td>out</td>\n",
       "      <td>(0.999, 30.0]</td>\n",
       "    </tr>\n",
       "    <tr>\n",
       "      <th>4</th>\n",
       "      <td>30.9</td>\n",
       "      <td>9.9</td>\n",
       "      <td>4.23</td>\n",
       "      <td>22.1</td>\n",
       "      <td>333</td>\n",
       "      <td>23.4</td>\n",
       "      <td>32.0</td>\n",
       "      <td>73.0</td>\n",
       "      <td>1</td>\n",
       "      <td>M</td>\n",
       "      <td>out</td>\n",
       "      <td>(0.999, 30.0]</td>\n",
       "    </tr>\n",
       "    <tr>\n",
       "      <th>5</th>\n",
       "      <td>34.3</td>\n",
       "      <td>11.6</td>\n",
       "      <td>4.53</td>\n",
       "      <td>6.6</td>\n",
       "      <td>185</td>\n",
       "      <td>25.6</td>\n",
       "      <td>33.8</td>\n",
       "      <td>75.7</td>\n",
       "      <td>1</td>\n",
       "      <td>M</td>\n",
       "      <td>out</td>\n",
       "      <td>(0.999, 30.0]</td>\n",
       "    </tr>\n",
       "    <tr>\n",
       "      <th>...</th>\n",
       "      <td>...</td>\n",
       "      <td>...</td>\n",
       "      <td>...</td>\n",
       "      <td>...</td>\n",
       "      <td>...</td>\n",
       "      <td>...</td>\n",
       "      <td>...</td>\n",
       "      <td>...</td>\n",
       "      <td>...</td>\n",
       "      <td>...</td>\n",
       "      <td>...</td>\n",
       "      <td>...</td>\n",
       "    </tr>\n",
       "    <tr>\n",
       "      <th>4406</th>\n",
       "      <td>33.7</td>\n",
       "      <td>10.4</td>\n",
       "      <td>3.48</td>\n",
       "      <td>11.4</td>\n",
       "      <td>112</td>\n",
       "      <td>29.9</td>\n",
       "      <td>30.9</td>\n",
       "      <td>96.8</td>\n",
       "      <td>92</td>\n",
       "      <td>F</td>\n",
       "      <td>in</td>\n",
       "      <td>(64.0, 99.0]</td>\n",
       "    </tr>\n",
       "    <tr>\n",
       "      <th>4407</th>\n",
       "      <td>32.8</td>\n",
       "      <td>10.4</td>\n",
       "      <td>3.49</td>\n",
       "      <td>8.1</td>\n",
       "      <td>72</td>\n",
       "      <td>29.8</td>\n",
       "      <td>31.7</td>\n",
       "      <td>94.0</td>\n",
       "      <td>92</td>\n",
       "      <td>F</td>\n",
       "      <td>in</td>\n",
       "      <td>(64.0, 99.0]</td>\n",
       "    </tr>\n",
       "    <tr>\n",
       "      <th>4408</th>\n",
       "      <td>33.7</td>\n",
       "      <td>10.8</td>\n",
       "      <td>3.67</td>\n",
       "      <td>6.7</td>\n",
       "      <td>70</td>\n",
       "      <td>29.4</td>\n",
       "      <td>32.0</td>\n",
       "      <td>91.8</td>\n",
       "      <td>92</td>\n",
       "      <td>F</td>\n",
       "      <td>in</td>\n",
       "      <td>(64.0, 99.0]</td>\n",
       "    </tr>\n",
       "    <tr>\n",
       "      <th>4409</th>\n",
       "      <td>33.2</td>\n",
       "      <td>11.2</td>\n",
       "      <td>3.47</td>\n",
       "      <td>7.2</td>\n",
       "      <td>235</td>\n",
       "      <td>32.3</td>\n",
       "      <td>33.7</td>\n",
       "      <td>95.7</td>\n",
       "      <td>93</td>\n",
       "      <td>F</td>\n",
       "      <td>out</td>\n",
       "      <td>(64.0, 99.0]</td>\n",
       "    </tr>\n",
       "    <tr>\n",
       "      <th>4411</th>\n",
       "      <td>33.5</td>\n",
       "      <td>10.9</td>\n",
       "      <td>3.44</td>\n",
       "      <td>5.8</td>\n",
       "      <td>275</td>\n",
       "      <td>31.7</td>\n",
       "      <td>32.5</td>\n",
       "      <td>97.4</td>\n",
       "      <td>99</td>\n",
       "      <td>F</td>\n",
       "      <td>out</td>\n",
       "      <td>(64.0, 99.0]</td>\n",
       "    </tr>\n",
       "  </tbody>\n",
       "</table>\n",
       "<p>3886 rows × 12 columns</p>\n",
       "</div>"
      ],
      "text/plain": [
       "      HAEMATOCRIT  HAEMOGLOBINS  ERYTHROCYTE  LEUCOCYTE  THROMBOCYTE   MCH  \\\n",
       "0            35.1          11.8         4.65        6.3          310  25.4   \n",
       "1            43.5          14.8         5.39       12.7          334  27.5   \n",
       "3            39.1          13.7         4.98       10.5          366  27.5   \n",
       "4            30.9           9.9         4.23       22.1          333  23.4   \n",
       "5            34.3          11.6         4.53        6.6          185  25.6   \n",
       "...           ...           ...          ...        ...          ...   ...   \n",
       "4406         33.7          10.4         3.48       11.4          112  29.9   \n",
       "4407         32.8          10.4         3.49        8.1           72  29.8   \n",
       "4408         33.7          10.8         3.67        6.7           70  29.4   \n",
       "4409         33.2          11.2         3.47        7.2          235  32.3   \n",
       "4411         33.5          10.9         3.44        5.8          275  31.7   \n",
       "\n",
       "      MCHC   MCV  AGE SEX SOURCE      AGE_Range  \n",
       "0     33.6  75.5    1   F    out  (0.999, 30.0]  \n",
       "1     34.0  80.7    1   F    out  (0.999, 30.0]  \n",
       "3     35.0  78.5    1   F    out  (0.999, 30.0]  \n",
       "4     32.0  73.0    1   M    out  (0.999, 30.0]  \n",
       "5     33.8  75.7    1   M    out  (0.999, 30.0]  \n",
       "...    ...   ...  ...  ..    ...            ...  \n",
       "4406  30.9  96.8   92   F     in   (64.0, 99.0]  \n",
       "4407  31.7  94.0   92   F     in   (64.0, 99.0]  \n",
       "4408  32.0  91.8   92   F     in   (64.0, 99.0]  \n",
       "4409  33.7  95.7   93   F    out   (64.0, 99.0]  \n",
       "4411  32.5  97.4   99   F    out   (64.0, 99.0]  \n",
       "\n",
       "[3886 rows x 12 columns]"
      ]
     },
     "execution_count": 133,
     "metadata": {},
     "output_type": "execute_result"
    }
   ],
   "source": [
    "df"
   ]
  },
  {
   "cell_type": "code",
   "execution_count": 134,
   "id": "975cf3f0",
   "metadata": {},
   "outputs": [
    {
     "name": "stderr",
     "output_type": "stream",
     "text": [
      "C:\\Users\\himanshu\\anaconda3\\lib\\site-packages\\seaborn\\distributions.py:2619: FutureWarning: `distplot` is a deprecated function and will be removed in a future version. Please adapt your code to use either `displot` (a figure-level function with similar flexibility) or `histplot` (an axes-level function for histograms).\n",
      "  warnings.warn(msg, FutureWarning)\n"
     ]
    },
    {
     "data": {
      "text/plain": [
       "<AxesSubplot:xlabel='HAEMATOCRIT', ylabel='Density'>"
      ]
     },
     "execution_count": 134,
     "metadata": {},
     "output_type": "execute_result"
    },
    {
     "data": {
      "image/png": "[encoded data removed]",
      "text/plain": [
       "<Figure size 432x288 with 1 Axes>"
      ]
     },
     "metadata": {
      "needs_background": "light"
     },
     "output_type": "display_data"
    }
   ],
   "source": [
    "sns.distplot(df['HAEMATOCRIT'])"
   ]
  },
  {
   "cell_type": "code",
   "execution_count": 135,
   "id": "5c33a9aa",
   "metadata": {},
   "outputs": [
    {
     "name": "stderr",
     "output_type": "stream",
     "text": [
      "C:\\Users\\himanshu\\anaconda3\\lib\\site-packages\\seaborn\\distributions.py:2619: FutureWarning: `distplot` is a deprecated function and will be removed in a future version. Please adapt your code to use either `displot` (a figure-level function with similar flexibility) or `histplot` (an axes-level function for histograms).\n",
      "  warnings.warn(msg, FutureWarning)\n"
     ]
    },
    {
     "data": {
      "text/plain": [
       "<AxesSubplot:xlabel='HAEMOGLOBINS', ylabel='Density'>"
      ]
     },
     "execution_count": 135,
     "metadata": {},
     "output_type": "execute_result"
    },
    {
     "data": {
      "image/png": "[encoded data removed]",
      "text/plain": [
       "<Figure size 432x288 with 1 Axes>"
      ]
     },
     "metadata": {
      "needs_background": "light"
     },
     "output_type": "display_data"
    }
   ],
   "source": [
    "sns.distplot(df['HAEMOGLOBINS'])"
   ]
  },
  {
   "cell_type": "code",
   "execution_count": 136,
   "id": "35e0727f",
   "metadata": {},
   "outputs": [
    {
     "name": "stderr",
     "output_type": "stream",
     "text": [
      "C:\\Users\\himanshu\\anaconda3\\lib\\site-packages\\seaborn\\distributions.py:2619: FutureWarning: `distplot` is a deprecated function and will be removed in a future version. Please adapt your code to use either `displot` (a figure-level function with similar flexibility) or `histplot` (an axes-level function for histograms).\n",
      "  warnings.warn(msg, FutureWarning)\n"
     ]
    },
    {
     "data": {
      "text/plain": [
       "<AxesSubplot:xlabel='ERYTHROCYTE', ylabel='Density'>"
      ]
     },
     "execution_count": 136,
     "metadata": {},
     "output_type": "execute_result"
    },
    {
     "data": {
      "image/png": "[encoded data removed]",
      "text/plain": [
       "<Figure size 432x288 with 1 Axes>"
      ]
     },
     "metadata": {
      "needs_background": "light"
     },
     "output_type": "display_data"
    }
   ],
   "source": [
    "sns.distplot(df['ERYTHROCYTE'])"
   ]
  },
  {
   "cell_type": "code",
   "execution_count": 137,
   "id": "35a252b6",
   "metadata": {},
   "outputs": [
    {
     "name": "stderr",
     "output_type": "stream",
     "text": [
      "C:\\Users\\himanshu\\anaconda3\\lib\\site-packages\\seaborn\\distributions.py:2619: FutureWarning: `distplot` is a deprecated function and will be removed in a future version. Please adapt your code to use either `displot` (a figure-level function with similar flexibility) or `histplot` (an axes-level function for histograms).\n",
      "  warnings.warn(msg, FutureWarning)\n"
     ]
    },
    {
     "data": {
      "text/plain": [
       "<AxesSubplot:xlabel='LEUCOCYTE', ylabel='Density'>"
      ]
     },
     "execution_count": 137,
     "metadata": {},
     "output_type": "execute_result"
    },
    {
     "data": {
      "image/png": "[encoded data removed]",
      "text/plain": [
       "<Figure size 432x288 with 1 Axes>"
      ]
     },
     "metadata": {
      "needs_background": "light"
     },
     "output_type": "display_data"
    }
   ],
   "source": [
    "sns.distplot(df['LEUCOCYTE'])"
   ]
  },
  {
   "cell_type": "code",
   "execution_count": 138,
   "id": "58234d23",
   "metadata": {},
   "outputs": [
    {
     "name": "stderr",
     "output_type": "stream",
     "text": [
      "C:\\Users\\himanshu\\AppData\\Local\\Temp\\ipykernel_21984\\1684797307.py:1: SettingWithCopyWarning: \n",
      "A value is trying to be set on a copy of a slice from a DataFrame.\n",
      "Try using .loc[row_indexer,col_indexer] = value instead\n",
      "\n",
      "See the caveats in the documentation: https://pandas.pydata.org/pandas-docs/stable/user_guide/indexing.html#returning-a-view-versus-a-copy\n",
      "  df['LEUCOCYTE']=np.log(df['LEUCOCYTE'])\n"
     ]
    }
   ],
   "source": [
    "df['LEUCOCYTE']=np.log(df['LEUCOCYTE'])\n"
   ]
  },
  {
   "cell_type": "code",
   "execution_count": 139,
   "id": "0f826bf5",
   "metadata": {},
   "outputs": [
    {
     "name": "stderr",
     "output_type": "stream",
     "text": [
      "C:\\Users\\himanshu\\anaconda3\\lib\\site-packages\\seaborn\\distributions.py:2619: FutureWarning: `distplot` is a deprecated function and will be removed in a future version. Please adapt your code to use either `displot` (a figure-level function with similar flexibility) or `histplot` (an axes-level function for histograms).\n",
      "  warnings.warn(msg, FutureWarning)\n"
     ]
    },
    {
     "data": {
      "text/plain": [
       "<AxesSubplot:xlabel='LEUCOCYTE', ylabel='Density'>"
      ]
     },
     "execution_count": 139,
     "metadata": {},
     "output_type": "execute_result"
    },
    {
     "data": {
      "image/png": "[encoded data removed]",
      "text/plain": [
       "<Figure size 432x288 with 1 Axes>"
      ]
     },
     "metadata": {
      "needs_background": "light"
     },
     "output_type": "display_data"
    }
   ],
   "source": [
    "sns.distplot(df['LEUCOCYTE'])"
   ]
  },
  {
   "cell_type": "code",
   "execution_count": 140,
   "id": "78e5079c",
   "metadata": {},
   "outputs": [
    {
     "name": "stderr",
     "output_type": "stream",
     "text": [
      "C:\\Users\\himanshu\\anaconda3\\lib\\site-packages\\seaborn\\distributions.py:2619: FutureWarning: `distplot` is a deprecated function and will be removed in a future version. Please adapt your code to use either `displot` (a figure-level function with similar flexibility) or `histplot` (an axes-level function for histograms).\n",
      "  warnings.warn(msg, FutureWarning)\n"
     ]
    },
    {
     "data": {
      "text/plain": [
       "<AxesSubplot:xlabel='THROMBOCYTE', ylabel='Density'>"
      ]
     },
     "execution_count": 140,
     "metadata": {},
     "output_type": "execute_result"
    },
    {
     "data": {
      "image/png": "[encoded data removed]",
      "text/plain": [
       "<Figure size 432x288 with 1 Axes>"
      ]
     },
     "metadata": {
      "needs_background": "light"
     },
     "output_type": "display_data"
    }
   ],
   "source": [
    "sns.distplot(df['THROMBOCYTE'])"
   ]
  },
  {
   "cell_type": "code",
   "execution_count": 141,
   "id": "3caeac7c",
   "metadata": {},
   "outputs": [
    {
     "name": "stderr",
     "output_type": "stream",
     "text": [
      "C:\\Users\\himanshu\\anaconda3\\lib\\site-packages\\seaborn\\distributions.py:2619: FutureWarning: `distplot` is a deprecated function and will be removed in a future version. Please adapt your code to use either `displot` (a figure-level function with similar flexibility) or `histplot` (an axes-level function for histograms).\n",
      "  warnings.warn(msg, FutureWarning)\n"
     ]
    },
    {
     "data": {
      "text/plain": [
       "<AxesSubplot:xlabel='MCH', ylabel='Density'>"
      ]
     },
     "execution_count": 141,
     "metadata": {},
     "output_type": "execute_result"
    },
    {
     "data": {
      "image/png": "[encoded data removed]",
      "text/plain": [
       "<Figure size 432x288 with 1 Axes>"
      ]
     },
     "metadata": {
      "needs_background": "light"
     },
     "output_type": "display_data"
    }
   ],
   "source": [
    "sns.distplot(df['MCH'])"
   ]
  },
  {
   "cell_type": "code",
   "execution_count": 142,
   "id": "83308ef6",
   "metadata": {},
   "outputs": [
    {
     "name": "stderr",
     "output_type": "stream",
     "text": [
      "C:\\Users\\himanshu\\anaconda3\\lib\\site-packages\\seaborn\\distributions.py:2619: FutureWarning: `distplot` is a deprecated function and will be removed in a future version. Please adapt your code to use either `displot` (a figure-level function with similar flexibility) or `histplot` (an axes-level function for histograms).\n",
      "  warnings.warn(msg, FutureWarning)\n"
     ]
    },
    {
     "data": {
      "text/plain": [
       "<AxesSubplot:xlabel='MCHC', ylabel='Density'>"
      ]
     },
     "execution_count": 142,
     "metadata": {},
     "output_type": "execute_result"
    },
    {
     "data": {
      "image/png": "[encoded data removed]",
      "text/plain": [
       "<Figure size 432x288 with 1 Axes>"
      ]
     },
     "metadata": {
      "needs_background": "light"
     },
     "output_type": "display_data"
    }
   ],
   "source": [
    "sns.distplot(df['MCHC'])"
   ]
  },
  {
   "cell_type": "code",
   "execution_count": 143,
   "id": "c844e46f",
   "metadata": {},
   "outputs": [
    {
     "name": "stderr",
     "output_type": "stream",
     "text": [
      "C:\\Users\\himanshu\\anaconda3\\lib\\site-packages\\seaborn\\distributions.py:2619: FutureWarning: `distplot` is a deprecated function and will be removed in a future version. Please adapt your code to use either `displot` (a figure-level function with similar flexibility) or `histplot` (an axes-level function for histograms).\n",
      "  warnings.warn(msg, FutureWarning)\n"
     ]
    },
    {
     "data": {
      "text/plain": [
       "<AxesSubplot:xlabel='MCV', ylabel='Density'>"
      ]
     },
     "execution_count": 143,
     "metadata": {},
     "output_type": "execute_result"
    },
    {
     "data": {
      "image/png": "[encoded data removed]",
      "text/plain": [
       "<Figure size 432x288 with 1 Axes>"
      ]
     },
     "metadata": {
      "needs_background": "light"
     },
     "output_type": "display_data"
    }
   ],
   "source": [
    "sns.distplot(df['MCV'])"
   ]
  },
  {
   "cell_type": "code",
   "execution_count": 144,
   "id": "e3974c70",
   "metadata": {},
   "outputs": [
    {
     "name": "stderr",
     "output_type": "stream",
     "text": [
      "C:\\Users\\himanshu\\anaconda3\\lib\\site-packages\\seaborn\\distributions.py:2619: FutureWarning: `distplot` is a deprecated function and will be removed in a future version. Please adapt your code to use either `displot` (a figure-level function with similar flexibility) or `histplot` (an axes-level function for histograms).\n",
      "  warnings.warn(msg, FutureWarning)\n"
     ]
    },
    {
     "data": {
      "text/plain": [
       "<AxesSubplot:xlabel='AGE', ylabel='Density'>"
      ]
     },
     "execution_count": 144,
     "metadata": {},
     "output_type": "execute_result"
    },
    {
     "data": {
      "image/png": "[encoded data removed]",
      "text/plain": [
       "<Figure size 432x288 with 1 Axes>"
      ]
     },
     "metadata": {
      "needs_background": "light"
     },
     "output_type": "display_data"
    }
   ],
   "source": [
    "sns.distplot(df['AGE'])"
   ]
  },
  {
   "cell_type": "code",
   "execution_count": 145,
   "id": "a5c0c856",
   "metadata": {},
   "outputs": [
    {
     "data": {
      "text/html": [
       "<div>\n",
       "<style scoped>\n",
       "    .dataframe tbody tr th:only-of-type {\n",
       "        vertical-align: middle;\n",
       "    }\n",
       "\n",
       "    .dataframe tbody tr th {\n",
       "        vertical-align: top;\n",
       "    }\n",
       "\n",
       "    .dataframe thead th {\n",
       "        text-align: right;\n",
       "    }\n",
       "</style>\n",
       "<table border=\"1\" class=\"dataframe\">\n",
       "  <thead>\n",
       "    <tr style=\"text-align: right;\">\n",
       "      <th></th>\n",
       "      <th>HAEMATOCRIT</th>\n",
       "      <th>HAEMOGLOBINS</th>\n",
       "      <th>ERYTHROCYTE</th>\n",
       "      <th>LEUCOCYTE</th>\n",
       "      <th>THROMBOCYTE</th>\n",
       "      <th>MCH</th>\n",
       "      <th>MCHC</th>\n",
       "      <th>MCV</th>\n",
       "      <th>AGE</th>\n",
       "      <th>SEX</th>\n",
       "      <th>SOURCE</th>\n",
       "      <th>AGE_Range</th>\n",
       "    </tr>\n",
       "  </thead>\n",
       "  <tbody>\n",
       "    <tr>\n",
       "      <th>0</th>\n",
       "      <td>35.1</td>\n",
       "      <td>11.8</td>\n",
       "      <td>4.65</td>\n",
       "      <td>1.840550</td>\n",
       "      <td>310</td>\n",
       "      <td>25.4</td>\n",
       "      <td>33.6</td>\n",
       "      <td>75.5</td>\n",
       "      <td>1</td>\n",
       "      <td>F</td>\n",
       "      <td>out</td>\n",
       "      <td>(0.999, 30.0]</td>\n",
       "    </tr>\n",
       "    <tr>\n",
       "      <th>1</th>\n",
       "      <td>43.5</td>\n",
       "      <td>14.8</td>\n",
       "      <td>5.39</td>\n",
       "      <td>2.541602</td>\n",
       "      <td>334</td>\n",
       "      <td>27.5</td>\n",
       "      <td>34.0</td>\n",
       "      <td>80.7</td>\n",
       "      <td>1</td>\n",
       "      <td>F</td>\n",
       "      <td>out</td>\n",
       "      <td>(0.999, 30.0]</td>\n",
       "    </tr>\n",
       "    <tr>\n",
       "      <th>3</th>\n",
       "      <td>39.1</td>\n",
       "      <td>13.7</td>\n",
       "      <td>4.98</td>\n",
       "      <td>2.351375</td>\n",
       "      <td>366</td>\n",
       "      <td>27.5</td>\n",
       "      <td>35.0</td>\n",
       "      <td>78.5</td>\n",
       "      <td>1</td>\n",
       "      <td>F</td>\n",
       "      <td>out</td>\n",
       "      <td>(0.999, 30.0]</td>\n",
       "    </tr>\n",
       "    <tr>\n",
       "      <th>4</th>\n",
       "      <td>30.9</td>\n",
       "      <td>9.9</td>\n",
       "      <td>4.23</td>\n",
       "      <td>3.095578</td>\n",
       "      <td>333</td>\n",
       "      <td>23.4</td>\n",
       "      <td>32.0</td>\n",
       "      <td>73.0</td>\n",
       "      <td>1</td>\n",
       "      <td>M</td>\n",
       "      <td>out</td>\n",
       "      <td>(0.999, 30.0]</td>\n",
       "    </tr>\n",
       "    <tr>\n",
       "      <th>5</th>\n",
       "      <td>34.3</td>\n",
       "      <td>11.6</td>\n",
       "      <td>4.53</td>\n",
       "      <td>1.887070</td>\n",
       "      <td>185</td>\n",
       "      <td>25.6</td>\n",
       "      <td>33.8</td>\n",
       "      <td>75.7</td>\n",
       "      <td>1</td>\n",
       "      <td>M</td>\n",
       "      <td>out</td>\n",
       "      <td>(0.999, 30.0]</td>\n",
       "    </tr>\n",
       "    <tr>\n",
       "      <th>...</th>\n",
       "      <td>...</td>\n",
       "      <td>...</td>\n",
       "      <td>...</td>\n",
       "      <td>...</td>\n",
       "      <td>...</td>\n",
       "      <td>...</td>\n",
       "      <td>...</td>\n",
       "      <td>...</td>\n",
       "      <td>...</td>\n",
       "      <td>...</td>\n",
       "      <td>...</td>\n",
       "      <td>...</td>\n",
       "    </tr>\n",
       "    <tr>\n",
       "      <th>4406</th>\n",
       "      <td>33.7</td>\n",
       "      <td>10.4</td>\n",
       "      <td>3.48</td>\n",
       "      <td>2.433613</td>\n",
       "      <td>112</td>\n",
       "      <td>29.9</td>\n",
       "      <td>30.9</td>\n",
       "      <td>96.8</td>\n",
       "      <td>92</td>\n",
       "      <td>F</td>\n",
       "      <td>in</td>\n",
       "      <td>(64.0, 99.0]</td>\n",
       "    </tr>\n",
       "    <tr>\n",
       "      <th>4407</th>\n",
       "      <td>32.8</td>\n",
       "      <td>10.4</td>\n",
       "      <td>3.49</td>\n",
       "      <td>2.091864</td>\n",
       "      <td>72</td>\n",
       "      <td>29.8</td>\n",
       "      <td>31.7</td>\n",
       "      <td>94.0</td>\n",
       "      <td>92</td>\n",
       "      <td>F</td>\n",
       "      <td>in</td>\n",
       "      <td>(64.0, 99.0]</td>\n",
       "    </tr>\n",
       "    <tr>\n",
       "      <th>4408</th>\n",
       "      <td>33.7</td>\n",
       "      <td>10.8</td>\n",
       "      <td>3.67</td>\n",
       "      <td>1.902108</td>\n",
       "      <td>70</td>\n",
       "      <td>29.4</td>\n",
       "      <td>32.0</td>\n",
       "      <td>91.8</td>\n",
       "      <td>92</td>\n",
       "      <td>F</td>\n",
       "      <td>in</td>\n",
       "      <td>(64.0, 99.0]</td>\n",
       "    </tr>\n",
       "    <tr>\n",
       "      <th>4409</th>\n",
       "      <td>33.2</td>\n",
       "      <td>11.2</td>\n",
       "      <td>3.47</td>\n",
       "      <td>1.974081</td>\n",
       "      <td>235</td>\n",
       "      <td>32.3</td>\n",
       "      <td>33.7</td>\n",
       "      <td>95.7</td>\n",
       "      <td>93</td>\n",
       "      <td>F</td>\n",
       "      <td>out</td>\n",
       "      <td>(64.0, 99.0]</td>\n",
       "    </tr>\n",
       "    <tr>\n",
       "      <th>4411</th>\n",
       "      <td>33.5</td>\n",
       "      <td>10.9</td>\n",
       "      <td>3.44</td>\n",
       "      <td>1.757858</td>\n",
       "      <td>275</td>\n",
       "      <td>31.7</td>\n",
       "      <td>32.5</td>\n",
       "      <td>97.4</td>\n",
       "      <td>99</td>\n",
       "      <td>F</td>\n",
       "      <td>out</td>\n",
       "      <td>(64.0, 99.0]</td>\n",
       "    </tr>\n",
       "  </tbody>\n",
       "</table>\n",
       "<p>3886 rows × 12 columns</p>\n",
       "</div>"
      ],
      "text/plain": [
       "      HAEMATOCRIT  HAEMOGLOBINS  ERYTHROCYTE  LEUCOCYTE  THROMBOCYTE   MCH  \\\n",
       "0            35.1          11.8         4.65   1.840550          310  25.4   \n",
       "1            43.5          14.8         5.39   2.541602          334  27.5   \n",
       "3            39.1          13.7         4.98   2.351375          366  27.5   \n",
       "4            30.9           9.9         4.23   3.095578          333  23.4   \n",
       "5            34.3          11.6         4.53   1.887070          185  25.6   \n",
       "...           ...           ...          ...        ...          ...   ...   \n",
       "4406         33.7          10.4         3.48   2.433613          112  29.9   \n",
       "4407         32.8          10.4         3.49   2.091864           72  29.8   \n",
       "4408         33.7          10.8         3.67   1.902108           70  29.4   \n",
       "4409         33.2          11.2         3.47   1.974081          235  32.3   \n",
       "4411         33.5          10.9         3.44   1.757858          275  31.7   \n",
       "\n",
       "      MCHC   MCV  AGE SEX SOURCE      AGE_Range  \n",
       "0     33.6  75.5    1   F    out  (0.999, 30.0]  \n",
       "1     34.0  80.7    1   F    out  (0.999, 30.0]  \n",
       "3     35.0  78.5    1   F    out  (0.999, 30.0]  \n",
       "4     32.0  73.0    1   M    out  (0.999, 30.0]  \n",
       "5     33.8  75.7    1   M    out  (0.999, 30.0]  \n",
       "...    ...   ...  ...  ..    ...            ...  \n",
       "4406  30.9  96.8   92   F     in   (64.0, 99.0]  \n",
       "4407  31.7  94.0   92   F     in   (64.0, 99.0]  \n",
       "4408  32.0  91.8   92   F     in   (64.0, 99.0]  \n",
       "4409  33.7  95.7   93   F    out   (64.0, 99.0]  \n",
       "4411  32.5  97.4   99   F    out   (64.0, 99.0]  \n",
       "\n",
       "[3886 rows x 12 columns]"
      ]
     },
     "execution_count": 145,
     "metadata": {},
     "output_type": "execute_result"
    }
   ],
   "source": [
    "df"
   ]
  },
  {
   "cell_type": "code",
   "execution_count": 146,
   "id": "756bf13d",
   "metadata": {},
   "outputs": [
    {
     "data": {
      "text/plain": [
       "out    0.60139\n",
       "in     0.39861\n",
       "Name: SOURCE, dtype: float64"
      ]
     },
     "execution_count": 146,
     "metadata": {},
     "output_type": "execute_result"
    }
   ],
   "source": [
    "df['SOURCE'].value_counts()/len(df)"
   ]
  },
  {
   "cell_type": "code",
   "execution_count": 147,
   "id": "d9ac4a85",
   "metadata": {},
   "outputs": [],
   "source": [
    "le=LabelEncoder()\n"
   ]
  },
  {
   "cell_type": "code",
   "execution_count": 148,
   "id": "582bc48c",
   "metadata": {},
   "outputs": [
    {
     "name": "stderr",
     "output_type": "stream",
     "text": [
      "C:\\Users\\himanshu\\AppData\\Local\\Temp\\ipykernel_21984\\174926550.py:1: SettingWithCopyWarning: \n",
      "A value is trying to be set on a copy of a slice from a DataFrame.\n",
      "Try using .loc[row_indexer,col_indexer] = value instead\n",
      "\n",
      "See the caveats in the documentation: https://pandas.pydata.org/pandas-docs/stable/user_guide/indexing.html#returning-a-view-versus-a-copy\n",
      "  df['AGE']=le.fit_transform(df['AGE'])\n"
     ]
    }
   ],
   "source": [
    "df['AGE']=le.fit_transform(df['AGE'])\n"
   ]
  },
  {
   "cell_type": "code",
   "execution_count": 149,
   "id": "3fb4ce25",
   "metadata": {},
   "outputs": [
    {
     "name": "stderr",
     "output_type": "stream",
     "text": [
      "C:\\Users\\himanshu\\AppData\\Local\\Temp\\ipykernel_21984\\1073878600.py:1: SettingWithCopyWarning: \n",
      "A value is trying to be set on a copy of a slice from a DataFrame.\n",
      "Try using .loc[row_indexer,col_indexer] = value instead\n",
      "\n",
      "See the caveats in the documentation: https://pandas.pydata.org/pandas-docs/stable/user_guide/indexing.html#returning-a-view-versus-a-copy\n",
      "  df['SEX']=le.fit_transform(df['SEX'])\n"
     ]
    }
   ],
   "source": [
    "df['SEX']=le.fit_transform(df['SEX'])\n"
   ]
  },
  {
   "cell_type": "code",
   "execution_count": 150,
   "id": "fca0bc85",
   "metadata": {},
   "outputs": [
    {
     "name": "stderr",
     "output_type": "stream",
     "text": [
      "C:\\Users\\himanshu\\AppData\\Local\\Temp\\ipykernel_21984\\2633682247.py:1: SettingWithCopyWarning: \n",
      "A value is trying to be set on a copy of a slice from a DataFrame.\n",
      "Try using .loc[row_indexer,col_indexer] = value instead\n",
      "\n",
      "See the caveats in the documentation: https://pandas.pydata.org/pandas-docs/stable/user_guide/indexing.html#returning-a-view-versus-a-copy\n",
      "  df['SOURCE']=le.fit_transform(df['SOURCE'])\n"
     ]
    }
   ],
   "source": [
    "df['SOURCE']=le.fit_transform(df['SOURCE'])\n"
   ]
  },
  {
   "cell_type": "code",
   "execution_count": 151,
   "id": "0f782c6b",
   "metadata": {},
   "outputs": [
    {
     "data": {
      "text/html": [
       "<div>\n",
       "<style scoped>\n",
       "    .dataframe tbody tr th:only-of-type {\n",
       "        vertical-align: middle;\n",
       "    }\n",
       "\n",
       "    .dataframe tbody tr th {\n",
       "        vertical-align: top;\n",
       "    }\n",
       "\n",
       "    .dataframe thead th {\n",
       "        text-align: right;\n",
       "    }\n",
       "</style>\n",
       "<table border=\"1\" class=\"dataframe\">\n",
       "  <thead>\n",
       "    <tr style=\"text-align: right;\">\n",
       "      <th></th>\n",
       "      <th>HAEMATOCRIT</th>\n",
       "      <th>HAEMOGLOBINS</th>\n",
       "      <th>ERYTHROCYTE</th>\n",
       "      <th>LEUCOCYTE</th>\n",
       "      <th>THROMBOCYTE</th>\n",
       "      <th>MCH</th>\n",
       "      <th>MCHC</th>\n",
       "      <th>MCV</th>\n",
       "      <th>AGE</th>\n",
       "      <th>SEX</th>\n",
       "      <th>SOURCE</th>\n",
       "      <th>AGE_Range</th>\n",
       "    </tr>\n",
       "  </thead>\n",
       "  <tbody>\n",
       "    <tr>\n",
       "      <th>0</th>\n",
       "      <td>35.1</td>\n",
       "      <td>11.8</td>\n",
       "      <td>4.65</td>\n",
       "      <td>1.840550</td>\n",
       "      <td>310</td>\n",
       "      <td>25.4</td>\n",
       "      <td>33.6</td>\n",
       "      <td>75.5</td>\n",
       "      <td>0</td>\n",
       "      <td>0</td>\n",
       "      <td>1</td>\n",
       "      <td>(0.999, 30.0]</td>\n",
       "    </tr>\n",
       "    <tr>\n",
       "      <th>1</th>\n",
       "      <td>43.5</td>\n",
       "      <td>14.8</td>\n",
       "      <td>5.39</td>\n",
       "      <td>2.541602</td>\n",
       "      <td>334</td>\n",
       "      <td>27.5</td>\n",
       "      <td>34.0</td>\n",
       "      <td>80.7</td>\n",
       "      <td>0</td>\n",
       "      <td>0</td>\n",
       "      <td>1</td>\n",
       "      <td>(0.999, 30.0]</td>\n",
       "    </tr>\n",
       "    <tr>\n",
       "      <th>3</th>\n",
       "      <td>39.1</td>\n",
       "      <td>13.7</td>\n",
       "      <td>4.98</td>\n",
       "      <td>2.351375</td>\n",
       "      <td>366</td>\n",
       "      <td>27.5</td>\n",
       "      <td>35.0</td>\n",
       "      <td>78.5</td>\n",
       "      <td>0</td>\n",
       "      <td>0</td>\n",
       "      <td>1</td>\n",
       "      <td>(0.999, 30.0]</td>\n",
       "    </tr>\n",
       "    <tr>\n",
       "      <th>4</th>\n",
       "      <td>30.9</td>\n",
       "      <td>9.9</td>\n",
       "      <td>4.23</td>\n",
       "      <td>3.095578</td>\n",
       "      <td>333</td>\n",
       "      <td>23.4</td>\n",
       "      <td>32.0</td>\n",
       "      <td>73.0</td>\n",
       "      <td>0</td>\n",
       "      <td>1</td>\n",
       "      <td>1</td>\n",
       "      <td>(0.999, 30.0]</td>\n",
       "    </tr>\n",
       "    <tr>\n",
       "      <th>5</th>\n",
       "      <td>34.3</td>\n",
       "      <td>11.6</td>\n",
       "      <td>4.53</td>\n",
       "      <td>1.887070</td>\n",
       "      <td>185</td>\n",
       "      <td>25.6</td>\n",
       "      <td>33.8</td>\n",
       "      <td>75.7</td>\n",
       "      <td>0</td>\n",
       "      <td>1</td>\n",
       "      <td>1</td>\n",
       "      <td>(0.999, 30.0]</td>\n",
       "    </tr>\n",
       "    <tr>\n",
       "      <th>...</th>\n",
       "      <td>...</td>\n",
       "      <td>...</td>\n",
       "      <td>...</td>\n",
       "      <td>...</td>\n",
       "      <td>...</td>\n",
       "      <td>...</td>\n",
       "      <td>...</td>\n",
       "      <td>...</td>\n",
       "      <td>...</td>\n",
       "      <td>...</td>\n",
       "      <td>...</td>\n",
       "      <td>...</td>\n",
       "    </tr>\n",
       "    <tr>\n",
       "      <th>4406</th>\n",
       "      <td>33.7</td>\n",
       "      <td>10.4</td>\n",
       "      <td>3.48</td>\n",
       "      <td>2.433613</td>\n",
       "      <td>112</td>\n",
       "      <td>29.9</td>\n",
       "      <td>30.9</td>\n",
       "      <td>96.8</td>\n",
       "      <td>91</td>\n",
       "      <td>0</td>\n",
       "      <td>0</td>\n",
       "      <td>(64.0, 99.0]</td>\n",
       "    </tr>\n",
       "    <tr>\n",
       "      <th>4407</th>\n",
       "      <td>32.8</td>\n",
       "      <td>10.4</td>\n",
       "      <td>3.49</td>\n",
       "      <td>2.091864</td>\n",
       "      <td>72</td>\n",
       "      <td>29.8</td>\n",
       "      <td>31.7</td>\n",
       "      <td>94.0</td>\n",
       "      <td>91</td>\n",
       "      <td>0</td>\n",
       "      <td>0</td>\n",
       "      <td>(64.0, 99.0]</td>\n",
       "    </tr>\n",
       "    <tr>\n",
       "      <th>4408</th>\n",
       "      <td>33.7</td>\n",
       "      <td>10.8</td>\n",
       "      <td>3.67</td>\n",
       "      <td>1.902108</td>\n",
       "      <td>70</td>\n",
       "      <td>29.4</td>\n",
       "      <td>32.0</td>\n",
       "      <td>91.8</td>\n",
       "      <td>91</td>\n",
       "      <td>0</td>\n",
       "      <td>0</td>\n",
       "      <td>(64.0, 99.0]</td>\n",
       "    </tr>\n",
       "    <tr>\n",
       "      <th>4409</th>\n",
       "      <td>33.2</td>\n",
       "      <td>11.2</td>\n",
       "      <td>3.47</td>\n",
       "      <td>1.974081</td>\n",
       "      <td>235</td>\n",
       "      <td>32.3</td>\n",
       "      <td>33.7</td>\n",
       "      <td>95.7</td>\n",
       "      <td>92</td>\n",
       "      <td>0</td>\n",
       "      <td>1</td>\n",
       "      <td>(64.0, 99.0]</td>\n",
       "    </tr>\n",
       "    <tr>\n",
       "      <th>4411</th>\n",
       "      <td>33.5</td>\n",
       "      <td>10.9</td>\n",
       "      <td>3.44</td>\n",
       "      <td>1.757858</td>\n",
       "      <td>275</td>\n",
       "      <td>31.7</td>\n",
       "      <td>32.5</td>\n",
       "      <td>97.4</td>\n",
       "      <td>93</td>\n",
       "      <td>0</td>\n",
       "      <td>1</td>\n",
       "      <td>(64.0, 99.0]</td>\n",
       "    </tr>\n",
       "  </tbody>\n",
       "</table>\n",
       "<p>3886 rows × 12 columns</p>\n",
       "</div>"
      ],
      "text/plain": [
       "      HAEMATOCRIT  HAEMOGLOBINS  ERYTHROCYTE  LEUCOCYTE  THROMBOCYTE   MCH  \\\n",
       "0            35.1          11.8         4.65   1.840550          310  25.4   \n",
       "1            43.5          14.8         5.39   2.541602          334  27.5   \n",
       "3            39.1          13.7         4.98   2.351375          366  27.5   \n",
       "4            30.9           9.9         4.23   3.095578          333  23.4   \n",
       "5            34.3          11.6         4.53   1.887070          185  25.6   \n",
       "...           ...           ...          ...        ...          ...   ...   \n",
       "4406         33.7          10.4         3.48   2.433613          112  29.9   \n",
       "4407         32.8          10.4         3.49   2.091864           72  29.8   \n",
       "4408         33.7          10.8         3.67   1.902108           70  29.4   \n",
       "4409         33.2          11.2         3.47   1.974081          235  32.3   \n",
       "4411         33.5          10.9         3.44   1.757858          275  31.7   \n",
       "\n",
       "      MCHC   MCV  AGE  SEX  SOURCE      AGE_Range  \n",
       "0     33.6  75.5    0    0       1  (0.999, 30.0]  \n",
       "1     34.0  80.7    0    0       1  (0.999, 30.0]  \n",
       "3     35.0  78.5    0    0       1  (0.999, 30.0]  \n",
       "4     32.0  73.0    0    1       1  (0.999, 30.0]  \n",
       "5     33.8  75.7    0    1       1  (0.999, 30.0]  \n",
       "...    ...   ...  ...  ...     ...            ...  \n",
       "4406  30.9  96.8   91    0       0   (64.0, 99.0]  \n",
       "4407  31.7  94.0   91    0       0   (64.0, 99.0]  \n",
       "4408  32.0  91.8   91    0       0   (64.0, 99.0]  \n",
       "4409  33.7  95.7   92    0       1   (64.0, 99.0]  \n",
       "4411  32.5  97.4   93    0       1   (64.0, 99.0]  \n",
       "\n",
       "[3886 rows x 12 columns]"
      ]
     },
     "execution_count": 151,
     "metadata": {},
     "output_type": "execute_result"
    }
   ],
   "source": [
    "df"
   ]
  },
  {
   "cell_type": "code",
   "execution_count": 152,
   "id": "c3c6cc37",
   "metadata": {},
   "outputs": [],
   "source": [
    "df=df.drop('AGE_Range',axis=1)\n"
   ]
  },
  {
   "cell_type": "code",
   "execution_count": 153,
   "id": "e04bc0e8",
   "metadata": {},
   "outputs": [
    {
     "data": {
      "text/html": [
       "<div>\n",
       "<style scoped>\n",
       "    .dataframe tbody tr th:only-of-type {\n",
       "        vertical-align: middle;\n",
       "    }\n",
       "\n",
       "    .dataframe tbody tr th {\n",
       "        vertical-align: top;\n",
       "    }\n",
       "\n",
       "    .dataframe thead th {\n",
       "        text-align: right;\n",
       "    }\n",
       "</style>\n",
       "<table border=\"1\" class=\"dataframe\">\n",
       "  <thead>\n",
       "    <tr style=\"text-align: right;\">\n",
       "      <th></th>\n",
       "      <th>HAEMATOCRIT</th>\n",
       "      <th>HAEMOGLOBINS</th>\n",
       "      <th>ERYTHROCYTE</th>\n",
       "      <th>LEUCOCYTE</th>\n",
       "      <th>THROMBOCYTE</th>\n",
       "      <th>MCH</th>\n",
       "      <th>MCHC</th>\n",
       "      <th>MCV</th>\n",
       "      <th>AGE</th>\n",
       "      <th>SEX</th>\n",
       "      <th>SOURCE</th>\n",
       "    </tr>\n",
       "  </thead>\n",
       "  <tbody>\n",
       "    <tr>\n",
       "      <th>0</th>\n",
       "      <td>35.1</td>\n",
       "      <td>11.8</td>\n",
       "      <td>4.65</td>\n",
       "      <td>1.840550</td>\n",
       "      <td>310</td>\n",
       "      <td>25.4</td>\n",
       "      <td>33.6</td>\n",
       "      <td>75.5</td>\n",
       "      <td>0</td>\n",
       "      <td>0</td>\n",
       "      <td>1</td>\n",
       "    </tr>\n",
       "    <tr>\n",
       "      <th>1</th>\n",
       "      <td>43.5</td>\n",
       "      <td>14.8</td>\n",
       "      <td>5.39</td>\n",
       "      <td>2.541602</td>\n",
       "      <td>334</td>\n",
       "      <td>27.5</td>\n",
       "      <td>34.0</td>\n",
       "      <td>80.7</td>\n",
       "      <td>0</td>\n",
       "      <td>0</td>\n",
       "      <td>1</td>\n",
       "    </tr>\n",
       "    <tr>\n",
       "      <th>3</th>\n",
       "      <td>39.1</td>\n",
       "      <td>13.7</td>\n",
       "      <td>4.98</td>\n",
       "      <td>2.351375</td>\n",
       "      <td>366</td>\n",
       "      <td>27.5</td>\n",
       "      <td>35.0</td>\n",
       "      <td>78.5</td>\n",
       "      <td>0</td>\n",
       "      <td>0</td>\n",
       "      <td>1</td>\n",
       "    </tr>\n",
       "    <tr>\n",
       "      <th>4</th>\n",
       "      <td>30.9</td>\n",
       "      <td>9.9</td>\n",
       "      <td>4.23</td>\n",
       "      <td>3.095578</td>\n",
       "      <td>333</td>\n",
       "      <td>23.4</td>\n",
       "      <td>32.0</td>\n",
       "      <td>73.0</td>\n",
       "      <td>0</td>\n",
       "      <td>1</td>\n",
       "      <td>1</td>\n",
       "    </tr>\n",
       "    <tr>\n",
       "      <th>5</th>\n",
       "      <td>34.3</td>\n",
       "      <td>11.6</td>\n",
       "      <td>4.53</td>\n",
       "      <td>1.887070</td>\n",
       "      <td>185</td>\n",
       "      <td>25.6</td>\n",
       "      <td>33.8</td>\n",
       "      <td>75.7</td>\n",
       "      <td>0</td>\n",
       "      <td>1</td>\n",
       "      <td>1</td>\n",
       "    </tr>\n",
       "    <tr>\n",
       "      <th>...</th>\n",
       "      <td>...</td>\n",
       "      <td>...</td>\n",
       "      <td>...</td>\n",
       "      <td>...</td>\n",
       "      <td>...</td>\n",
       "      <td>...</td>\n",
       "      <td>...</td>\n",
       "      <td>...</td>\n",
       "      <td>...</td>\n",
       "      <td>...</td>\n",
       "      <td>...</td>\n",
       "    </tr>\n",
       "    <tr>\n",
       "      <th>4406</th>\n",
       "      <td>33.7</td>\n",
       "      <td>10.4</td>\n",
       "      <td>3.48</td>\n",
       "      <td>2.433613</td>\n",
       "      <td>112</td>\n",
       "      <td>29.9</td>\n",
       "      <td>30.9</td>\n",
       "      <td>96.8</td>\n",
       "      <td>91</td>\n",
       "      <td>0</td>\n",
       "      <td>0</td>\n",
       "    </tr>\n",
       "    <tr>\n",
       "      <th>4407</th>\n",
       "      <td>32.8</td>\n",
       "      <td>10.4</td>\n",
       "      <td>3.49</td>\n",
       "      <td>2.091864</td>\n",
       "      <td>72</td>\n",
       "      <td>29.8</td>\n",
       "      <td>31.7</td>\n",
       "      <td>94.0</td>\n",
       "      <td>91</td>\n",
       "      <td>0</td>\n",
       "      <td>0</td>\n",
       "    </tr>\n",
       "    <tr>\n",
       "      <th>4408</th>\n",
       "      <td>33.7</td>\n",
       "      <td>10.8</td>\n",
       "      <td>3.67</td>\n",
       "      <td>1.902108</td>\n",
       "      <td>70</td>\n",
       "      <td>29.4</td>\n",
       "      <td>32.0</td>\n",
       "      <td>91.8</td>\n",
       "      <td>91</td>\n",
       "      <td>0</td>\n",
       "      <td>0</td>\n",
       "    </tr>\n",
       "    <tr>\n",
       "      <th>4409</th>\n",
       "      <td>33.2</td>\n",
       "      <td>11.2</td>\n",
       "      <td>3.47</td>\n",
       "      <td>1.974081</td>\n",
       "      <td>235</td>\n",
       "      <td>32.3</td>\n",
       "      <td>33.7</td>\n",
       "      <td>95.7</td>\n",
       "      <td>92</td>\n",
       "      <td>0</td>\n",
       "      <td>1</td>\n",
       "    </tr>\n",
       "    <tr>\n",
       "      <th>4411</th>\n",
       "      <td>33.5</td>\n",
       "      <td>10.9</td>\n",
       "      <td>3.44</td>\n",
       "      <td>1.757858</td>\n",
       "      <td>275</td>\n",
       "      <td>31.7</td>\n",
       "      <td>32.5</td>\n",
       "      <td>97.4</td>\n",
       "      <td>93</td>\n",
       "      <td>0</td>\n",
       "      <td>1</td>\n",
       "    </tr>\n",
       "  </tbody>\n",
       "</table>\n",
       "<p>3886 rows × 11 columns</p>\n",
       "</div>"
      ],
      "text/plain": [
       "      HAEMATOCRIT  HAEMOGLOBINS  ERYTHROCYTE  LEUCOCYTE  THROMBOCYTE   MCH  \\\n",
       "0            35.1          11.8         4.65   1.840550          310  25.4   \n",
       "1            43.5          14.8         5.39   2.541602          334  27.5   \n",
       "3            39.1          13.7         4.98   2.351375          366  27.5   \n",
       "4            30.9           9.9         4.23   3.095578          333  23.4   \n",
       "5            34.3          11.6         4.53   1.887070          185  25.6   \n",
       "...           ...           ...          ...        ...          ...   ...   \n",
       "4406         33.7          10.4         3.48   2.433613          112  29.9   \n",
       "4407         32.8          10.4         3.49   2.091864           72  29.8   \n",
       "4408         33.7          10.8         3.67   1.902108           70  29.4   \n",
       "4409         33.2          11.2         3.47   1.974081          235  32.3   \n",
       "4411         33.5          10.9         3.44   1.757858          275  31.7   \n",
       "\n",
       "      MCHC   MCV  AGE  SEX  SOURCE  \n",
       "0     33.6  75.5    0    0       1  \n",
       "1     34.0  80.7    0    0       1  \n",
       "3     35.0  78.5    0    0       1  \n",
       "4     32.0  73.0    0    1       1  \n",
       "5     33.8  75.7    0    1       1  \n",
       "...    ...   ...  ...  ...     ...  \n",
       "4406  30.9  96.8   91    0       0  \n",
       "4407  31.7  94.0   91    0       0  \n",
       "4408  32.0  91.8   91    0       0  \n",
       "4409  33.7  95.7   92    0       1  \n",
       "4411  32.5  97.4   93    0       1  \n",
       "\n",
       "[3886 rows x 11 columns]"
      ]
     },
     "execution_count": 153,
     "metadata": {},
     "output_type": "execute_result"
    }
   ],
   "source": [
    "df"
   ]
  },
  {
   "cell_type": "code",
   "execution_count": 154,
   "id": "91aee60f",
   "metadata": {},
   "outputs": [],
   "source": [
    "y=df['SOURCE']"
   ]
  },
  {
   "cell_type": "code",
   "execution_count": 155,
   "id": "be6d4b64",
   "metadata": {},
   "outputs": [],
   "source": [
    "X=df.drop('SOURCE',axis=1)"
   ]
  },
  {
   "cell_type": "code",
   "execution_count": 156,
   "id": "3ca743bf",
   "metadata": {},
   "outputs": [],
   "source": [
    "sc=StandardScaler()"
   ]
  },
  {
   "cell_type": "code",
   "execution_count": 157,
   "id": "43f4f23b",
   "metadata": {},
   "outputs": [],
   "source": [
    "X=sc.fit_transform(X)\n"
   ]
  },
  {
   "cell_type": "code",
   "execution_count": 158,
   "id": "52d931e0",
   "metadata": {},
   "outputs": [],
   "source": [
    "X_train, X_test, y_train, y_test = train_test_split(X, y, test_size=0.20, random_state=42)"
   ]
  },
  {
   "cell_type": "code",
   "execution_count": 159,
   "id": "6a1868b0",
   "metadata": {},
   "outputs": [
    {
     "data": {
      "text/plain": [
       "(3108, 10)"
      ]
     },
     "execution_count": 159,
     "metadata": {},
     "output_type": "execute_result"
    }
   ],
   "source": [
    "X_train.shape"
   ]
  },
  {
   "cell_type": "code",
   "execution_count": 160,
   "id": "3987884b",
   "metadata": {},
   "outputs": [
    {
     "data": {
      "text/plain": [
       "(778, 10)"
      ]
     },
     "execution_count": 160,
     "metadata": {},
     "output_type": "execute_result"
    }
   ],
   "source": [
    "X_test.shape"
   ]
  },
  {
   "cell_type": "markdown",
   "id": "e1ff69d1",
   "metadata": {},
   "source": [
    "# RandomForestClassifier"
   ]
  },
  {
   "cell_type": "code",
   "execution_count": 161,
   "id": "0a5dd8f9",
   "metadata": {},
   "outputs": [],
   "source": [
    "rfc=RandomForestClassifier()"
   ]
  },
  {
   "cell_type": "code",
   "execution_count": 162,
   "id": "d855c3a1",
   "metadata": {
    "scrolled": true
   },
   "outputs": [
    {
     "data": {
      "text/plain": [
       "RandomForestClassifier()"
      ]
     },
     "execution_count": 162,
     "metadata": {},
     "output_type": "execute_result"
    }
   ],
   "source": [
    "rfc.fit(X_train,y_train)"
   ]
  },
  {
   "cell_type": "code",
   "execution_count": 163,
   "id": "a0b31e83",
   "metadata": {},
   "outputs": [],
   "source": [
    "y_pred=rfc.predict(X_train)\n"
   ]
  },
  {
   "cell_type": "code",
   "execution_count": 164,
   "id": "66b9ec2e",
   "metadata": {},
   "outputs": [
    {
     "data": {
      "text/plain": [
       "1.0"
      ]
     },
     "execution_count": 164,
     "metadata": {},
     "output_type": "execute_result"
    }
   ],
   "source": [
    "accuracy_score(y_train,y_pred)"
   ]
  },
  {
   "cell_type": "code",
   "execution_count": 165,
   "id": "58b37407",
   "metadata": {},
   "outputs": [],
   "source": [
    "y_pred=rfc.predict(X_test)\n"
   ]
  },
  {
   "cell_type": "code",
   "execution_count": 166,
   "id": "161f5e4d",
   "metadata": {},
   "outputs": [
    {
     "data": {
      "text/plain": [
       "0.7467866323907455"
      ]
     },
     "execution_count": 166,
     "metadata": {},
     "output_type": "execute_result"
    }
   ],
   "source": [
    "accuracy_score(y_test,y_pred)"
   ]
  },
  {
   "cell_type": "code",
   "execution_count": 167,
   "id": "4bec3865",
   "metadata": {},
   "outputs": [],
   "source": [
    "KF=KFold(5)\n"
   ]
  },
  {
   "cell_type": "code",
   "execution_count": 168,
   "id": "34abacc5",
   "metadata": {},
   "outputs": [],
   "source": [
    "scores=cross_val_score(rfc,X_test,y_test,cv=KF)\n"
   ]
  },
  {
   "cell_type": "code",
   "execution_count": 169,
   "id": "b4ed4bb8",
   "metadata": {},
   "outputs": [
    {
     "name": "stdout",
     "output_type": "stream",
     "text": [
      "0 0.6987179487179487\n",
      "1 0.7307692307692307\n",
      "2 0.7435897435897436\n",
      "3 0.7290322580645161\n",
      "4 0.7354838709677419\n"
     ]
    }
   ],
   "source": [
    "for idx,value in enumerate(scores):\n",
    "    print(idx,value)"
   ]
  },
  {
   "cell_type": "code",
   "execution_count": 170,
   "id": "ad8cce3a",
   "metadata": {},
   "outputs": [
    {
     "data": {
      "text/plain": [
       "0.7275186104218362"
      ]
     },
     "execution_count": 170,
     "metadata": {},
     "output_type": "execute_result"
    }
   ],
   "source": [
    "scores.mean()"
   ]
  },
  {
   "cell_type": "code",
   "execution_count": 171,
   "id": "493e15cc",
   "metadata": {},
   "outputs": [
    {
     "name": "stdout",
     "output_type": "stream",
     "text": [
      "              precision    recall  f1-score   support\n",
      "\n",
      "           0       0.70      0.60      0.64       299\n",
      "           1       0.77      0.84      0.80       479\n",
      "\n",
      "    accuracy                           0.75       778\n",
      "   macro avg       0.73      0.72      0.72       778\n",
      "weighted avg       0.74      0.75      0.74       778\n",
      "\n"
     ]
    }
   ],
   "source": [
    "print(classification_report(y_test,y_pred))"
   ]
  },
  {
   "cell_type": "markdown",
   "id": "aba8a231",
   "metadata": {},
   "source": [
    "# LogisticRegression"
   ]
  },
  {
   "cell_type": "code",
   "execution_count": 172,
   "id": "93ce0f1a",
   "metadata": {},
   "outputs": [],
   "source": [
    "lr=LogisticRegression()\n"
   ]
  },
  {
   "cell_type": "code",
   "execution_count": 173,
   "id": "a27124ca",
   "metadata": {
    "scrolled": true
   },
   "outputs": [
    {
     "data": {
      "text/plain": [
       "LogisticRegression()"
      ]
     },
     "execution_count": 173,
     "metadata": {},
     "output_type": "execute_result"
    }
   ],
   "source": [
    "lr.fit(X_train,y_train)"
   ]
  },
  {
   "cell_type": "code",
   "execution_count": 174,
   "id": "3c57500b",
   "metadata": {},
   "outputs": [],
   "source": [
    "y_pred=lr.predict(X_train)\n"
   ]
  },
  {
   "cell_type": "code",
   "execution_count": 175,
   "id": "7957641b",
   "metadata": {},
   "outputs": [
    {
     "data": {
      "text/plain": [
       "0.7403474903474904"
      ]
     },
     "execution_count": 175,
     "metadata": {},
     "output_type": "execute_result"
    }
   ],
   "source": [
    "accuracy_score(y_train,y_pred)"
   ]
  },
  {
   "cell_type": "code",
   "execution_count": 176,
   "id": "0ba1dea9",
   "metadata": {},
   "outputs": [],
   "source": [
    "y_pred=lr.predict(X_test)\n"
   ]
  },
  {
   "cell_type": "code",
   "execution_count": 177,
   "id": "feb27634",
   "metadata": {},
   "outputs": [
    {
     "data": {
      "text/plain": [
       "0.7197943444730077"
      ]
     },
     "execution_count": 177,
     "metadata": {},
     "output_type": "execute_result"
    }
   ],
   "source": [
    "accuracy_score(y_test,y_pred)"
   ]
  },
  {
   "cell_type": "code",
   "execution_count": 178,
   "id": "8bc4fac9",
   "metadata": {},
   "outputs": [],
   "source": [
    "KF=KFold(5)\n"
   ]
  },
  {
   "cell_type": "code",
   "execution_count": 179,
   "id": "6ce656e7",
   "metadata": {},
   "outputs": [],
   "source": [
    "scores=cross_val_score(lr,X_test,y_test,cv=KF)\n"
   ]
  },
  {
   "cell_type": "code",
   "execution_count": 180,
   "id": "93366b55",
   "metadata": {},
   "outputs": [
    {
     "name": "stdout",
     "output_type": "stream",
     "text": [
      "0 0.7115384615384616\n",
      "1 0.7435897435897436\n",
      "2 0.7307692307692307\n",
      "3 0.7419354838709677\n",
      "4 0.7032258064516129\n"
     ]
    }
   ],
   "source": [
    "for idx,value in enumerate(scores):\n",
    "    print(idx,value)"
   ]
  },
  {
   "cell_type": "code",
   "execution_count": 181,
   "id": "16e0ff78",
   "metadata": {},
   "outputs": [
    {
     "data": {
      "text/plain": [
       "0.7262117452440033"
      ]
     },
     "execution_count": 181,
     "metadata": {},
     "output_type": "execute_result"
    }
   ],
   "source": [
    "scores.mean()"
   ]
  },
  {
   "cell_type": "code",
   "execution_count": 182,
   "id": "b1a14428",
   "metadata": {},
   "outputs": [
    {
     "name": "stdout",
     "output_type": "stream",
     "text": [
      "              precision    recall  f1-score   support\n",
      "\n",
      "           0       0.68      0.51      0.58       299\n",
      "           1       0.73      0.85      0.79       479\n",
      "\n",
      "    accuracy                           0.72       778\n",
      "   macro avg       0.71      0.68      0.69       778\n",
      "weighted avg       0.71      0.72      0.71       778\n",
      "\n"
     ]
    }
   ],
   "source": [
    "print(classification_report(y_test,y_pred))"
   ]
  },
  {
   "cell_type": "markdown",
   "id": "677e4c6a",
   "metadata": {},
   "source": [
    "# KNeighborsClassifier"
   ]
  },
  {
   "cell_type": "code",
   "execution_count": 183,
   "id": "b7e7d253",
   "metadata": {},
   "outputs": [],
   "source": [
    "knc=KNeighborsClassifier()\n"
   ]
  },
  {
   "cell_type": "code",
   "execution_count": 184,
   "id": "7325f660",
   "metadata": {
    "scrolled": true
   },
   "outputs": [
    {
     "data": {
      "text/plain": [
       "KNeighborsClassifier()"
      ]
     },
     "execution_count": 184,
     "metadata": {},
     "output_type": "execute_result"
    }
   ],
   "source": [
    "knc.fit(X_train,y_train)"
   ]
  },
  {
   "cell_type": "code",
   "execution_count": 185,
   "id": "ccc940fa",
   "metadata": {},
   "outputs": [],
   "source": [
    "y_pred=knc.predict(X_train)\n"
   ]
  },
  {
   "cell_type": "code",
   "execution_count": 186,
   "id": "8171cb22",
   "metadata": {},
   "outputs": [
    {
     "data": {
      "text/plain": [
       "0.8153153153153153"
      ]
     },
     "execution_count": 186,
     "metadata": {},
     "output_type": "execute_result"
    }
   ],
   "source": [
    "accuracy_score(y_train,y_pred)"
   ]
  },
  {
   "cell_type": "code",
   "execution_count": 187,
   "id": "93492e6b",
   "metadata": {},
   "outputs": [],
   "source": [
    "y_pred=knc.predict(X_test)\n"
   ]
  },
  {
   "cell_type": "code",
   "execution_count": 188,
   "id": "f95630a1",
   "metadata": {},
   "outputs": [
    {
     "data": {
      "text/plain": [
       "0.7300771208226221"
      ]
     },
     "execution_count": 188,
     "metadata": {},
     "output_type": "execute_result"
    }
   ],
   "source": [
    "accuracy_score(y_test,y_pred)"
   ]
  },
  {
   "cell_type": "code",
   "execution_count": 189,
   "id": "b0600b3e",
   "metadata": {},
   "outputs": [],
   "source": [
    "KF=KFold(5)\n"
   ]
  },
  {
   "cell_type": "code",
   "execution_count": 190,
   "id": "1d5d636d",
   "metadata": {},
   "outputs": [],
   "source": [
    "scores=cross_val_score(knc,X_test,y_test,cv=KF)\n"
   ]
  },
  {
   "cell_type": "code",
   "execution_count": 191,
   "id": "034da533",
   "metadata": {},
   "outputs": [
    {
     "name": "stdout",
     "output_type": "stream",
     "text": [
      "0 0.6538461538461539\n",
      "1 0.7115384615384616\n",
      "2 0.6923076923076923\n",
      "3 0.7419354838709677\n",
      "4 0.6580645161290323\n"
     ]
    }
   ],
   "source": [
    "for idx,value in enumerate(scores):\n",
    "    print(idx,value)"
   ]
  },
  {
   "cell_type": "code",
   "execution_count": 192,
   "id": "aae1a6ae",
   "metadata": {},
   "outputs": [
    {
     "data": {
      "text/plain": [
       "0.6915384615384615"
      ]
     },
     "execution_count": 192,
     "metadata": {},
     "output_type": "execute_result"
    }
   ],
   "source": [
    "scores.mean()"
   ]
  },
  {
   "cell_type": "code",
   "execution_count": 193,
   "id": "33b0bf49",
   "metadata": {},
   "outputs": [
    {
     "name": "stdout",
     "output_type": "stream",
     "text": [
      "              precision    recall  f1-score   support\n",
      "\n",
      "           0       0.67      0.59      0.62       299\n",
      "           1       0.76      0.82      0.79       479\n",
      "\n",
      "    accuracy                           0.73       778\n",
      "   macro avg       0.72      0.70      0.71       778\n",
      "weighted avg       0.73      0.73      0.73       778\n",
      "\n"
     ]
    }
   ],
   "source": [
    "print(classification_report(y_test,y_pred))"
   ]
  },
  {
   "cell_type": "markdown",
   "id": "d09cc3b1",
   "metadata": {},
   "source": [
    "# XGBClassifier"
   ]
  },
  {
   "cell_type": "code",
   "execution_count": 194,
   "id": "5158c058",
   "metadata": {},
   "outputs": [],
   "source": [
    "xgb_i=xgb.XGBClassifier()"
   ]
  },
  {
   "cell_type": "code",
   "execution_count": 195,
   "id": "baac9cde",
   "metadata": {
    "scrolled": true
   },
   "outputs": [
    {
     "data": {
      "text/plain": [
       "XGBClassifier(base_score=None, booster=None, callbacks=None,\n",
       "              colsample_bylevel=None, colsample_bynode=None,\n",
       "              colsample_bytree=None, early_stopping_rounds=None,\n",
       "              enable_categorical=False, eval_metric=None, feature_types=None,\n",
       "              gamma=None, gpu_id=None, grow_policy=None, importance_type=None,\n",
       "              interaction_constraints=None, learning_rate=None, max_bin=None,\n",
       "              max_cat_threshold=None, max_cat_to_onehot=None,\n",
       "              max_delta_step=None, max_depth=None, max_leaves=None,\n",
       "              min_child_weight=None, missing=nan, monotone_constraints=None,\n",
       "              n_estimators=100, n_jobs=None, num_parallel_tree=None,\n",
       "              predictor=None, random_state=None, ...)"
      ]
     },
     "execution_count": 195,
     "metadata": {},
     "output_type": "execute_result"
    }
   ],
   "source": [
    "xgb_i.fit(X_train,y_train)"
   ]
  },
  {
   "cell_type": "code",
   "execution_count": 196,
   "id": "fe3bb30c",
   "metadata": {},
   "outputs": [],
   "source": [
    "y_pred=xgb_i.predict(X_train)\n"
   ]
  },
  {
   "cell_type": "code",
   "execution_count": 197,
   "id": "615549b8",
   "metadata": {},
   "outputs": [
    {
     "data": {
      "text/plain": [
       "0.990990990990991"
      ]
     },
     "execution_count": 197,
     "metadata": {},
     "output_type": "execute_result"
    }
   ],
   "source": [
    "accuracy_score(y_train,y_pred)"
   ]
  },
  {
   "cell_type": "code",
   "execution_count": 198,
   "id": "5d7ecc57",
   "metadata": {},
   "outputs": [],
   "source": [
    "y_pred=xgb_i.predict(X_test)\n"
   ]
  },
  {
   "cell_type": "code",
   "execution_count": 199,
   "id": "e124238e",
   "metadata": {},
   "outputs": [
    {
     "data": {
      "text/plain": [
       "0.7275064267352185"
      ]
     },
     "execution_count": 199,
     "metadata": {},
     "output_type": "execute_result"
    }
   ],
   "source": [
    "accuracy_score(y_test,y_pred)"
   ]
  },
  {
   "cell_type": "code",
   "execution_count": 200,
   "id": "37a16a57",
   "metadata": {},
   "outputs": [],
   "source": [
    "KF=KFold(5)\n"
   ]
  },
  {
   "cell_type": "code",
   "execution_count": 201,
   "id": "039f6071",
   "metadata": {},
   "outputs": [],
   "source": [
    "scores=cross_val_score(xgb_i,X_test,y_test,cv=KF)\n"
   ]
  },
  {
   "cell_type": "code",
   "execution_count": 202,
   "id": "0fa95047",
   "metadata": {},
   "outputs": [
    {
     "name": "stdout",
     "output_type": "stream",
     "text": [
      "0 0.7115384615384616\n",
      "1 0.7307692307692307\n",
      "2 0.7051282051282052\n",
      "3 0.7612903225806451\n",
      "4 0.7483870967741936\n"
     ]
    }
   ],
   "source": [
    "for idx,value in enumerate(scores):\n",
    "    print(idx,value)"
   ]
  },
  {
   "cell_type": "code",
   "execution_count": 203,
   "id": "6abc748b",
   "metadata": {},
   "outputs": [
    {
     "data": {
      "text/plain": [
       "0.7314226633581472"
      ]
     },
     "execution_count": 203,
     "metadata": {},
     "output_type": "execute_result"
    }
   ],
   "source": [
    "scores.mean()"
   ]
  },
  {
   "cell_type": "code",
   "execution_count": 204,
   "id": "a21257b1",
   "metadata": {},
   "outputs": [
    {
     "name": "stdout",
     "output_type": "stream",
     "text": [
      "              precision    recall  f1-score   support\n",
      "\n",
      "           0       0.66      0.59      0.62       299\n",
      "           1       0.76      0.81      0.79       479\n",
      "\n",
      "    accuracy                           0.73       778\n",
      "   macro avg       0.71      0.70      0.71       778\n",
      "weighted avg       0.72      0.73      0.72       778\n",
      "\n"
     ]
    }
   ],
   "source": [
    "print(classification_report(y_test,y_pred))"
   ]
  },
  {
   "cell_type": "markdown",
   "id": "86cbe247",
   "metadata": {},
   "source": [
    "# DecisionTreeClassifier"
   ]
  },
  {
   "cell_type": "code",
   "execution_count": 205,
   "id": "d998d1dd",
   "metadata": {},
   "outputs": [],
   "source": [
    "dtc=DecisionTreeClassifier()\n"
   ]
  },
  {
   "cell_type": "code",
   "execution_count": 206,
   "id": "0300011b",
   "metadata": {
    "scrolled": true
   },
   "outputs": [
    {
     "data": {
      "text/plain": [
       "DecisionTreeClassifier()"
      ]
     },
     "execution_count": 206,
     "metadata": {},
     "output_type": "execute_result"
    }
   ],
   "source": [
    "dtc.fit(X_train,y_train)"
   ]
  },
  {
   "cell_type": "code",
   "execution_count": 207,
   "id": "81ba2652",
   "metadata": {},
   "outputs": [],
   "source": [
    "y_pred=dtc.predict(X_train)\n"
   ]
  },
  {
   "cell_type": "code",
   "execution_count": 208,
   "id": "3fcc3014",
   "metadata": {},
   "outputs": [
    {
     "data": {
      "text/plain": [
       "1.0"
      ]
     },
     "execution_count": 208,
     "metadata": {},
     "output_type": "execute_result"
    }
   ],
   "source": [
    "accuracy_score(y_train,y_pred)"
   ]
  },
  {
   "cell_type": "code",
   "execution_count": 209,
   "id": "ced5cf7b",
   "metadata": {},
   "outputs": [],
   "source": [
    "y_pred=dtc.predict(X_test)\n"
   ]
  },
  {
   "cell_type": "code",
   "execution_count": 210,
   "id": "00055822",
   "metadata": {},
   "outputs": [
    {
     "data": {
      "text/plain": [
       "0.6580976863753213"
      ]
     },
     "execution_count": 210,
     "metadata": {},
     "output_type": "execute_result"
    }
   ],
   "source": [
    "accuracy_score(y_test,y_pred)"
   ]
  },
  {
   "cell_type": "code",
   "execution_count": 211,
   "id": "bc3027ef",
   "metadata": {},
   "outputs": [],
   "source": [
    "KF=KFold(5)\n"
   ]
  },
  {
   "cell_type": "code",
   "execution_count": 212,
   "id": "2dc05717",
   "metadata": {},
   "outputs": [],
   "source": [
    "scores=cross_val_score(dtc,X_test,y_test,cv=KF)\n"
   ]
  },
  {
   "cell_type": "code",
   "execution_count": 213,
   "id": "71c5d30f",
   "metadata": {},
   "outputs": [
    {
     "name": "stdout",
     "output_type": "stream",
     "text": [
      "0 0.6602564102564102\n",
      "1 0.6410256410256411\n",
      "2 0.6538461538461539\n",
      "3 0.6451612903225806\n",
      "4 0.6516129032258065\n"
     ]
    }
   ],
   "source": [
    "for idx,value in enumerate(scores):\n",
    "    print(idx,value)"
   ]
  },
  {
   "cell_type": "code",
   "execution_count": 214,
   "id": "9b7c3f9c",
   "metadata": {},
   "outputs": [
    {
     "data": {
      "text/plain": [
       "0.6503804797353185"
      ]
     },
     "execution_count": 214,
     "metadata": {},
     "output_type": "execute_result"
    }
   ],
   "source": [
    "scores.mean()"
   ]
  },
  {
   "cell_type": "code",
   "execution_count": 215,
   "id": "cd0bc6e6",
   "metadata": {},
   "outputs": [
    {
     "name": "stdout",
     "output_type": "stream",
     "text": [
      "              precision    recall  f1-score   support\n",
      "\n",
      "           0       0.56      0.54      0.55       299\n",
      "           1       0.72      0.73      0.73       479\n",
      "\n",
      "    accuracy                           0.66       778\n",
      "   macro avg       0.64      0.64      0.64       778\n",
      "weighted avg       0.66      0.66      0.66       778\n",
      "\n"
     ]
    }
   ],
   "source": [
    "print(classification_report(y_test,y_pred))"
   ]
  },
  {
   "cell_type": "markdown",
   "id": "d8741270",
   "metadata": {},
   "source": [
    "# Naive Bayes Classifier"
   ]
  },
  {
   "cell_type": "code",
   "execution_count": 216,
   "id": "50553799",
   "metadata": {},
   "outputs": [],
   "source": [
    "model=GaussianNB()\n"
   ]
  },
  {
   "cell_type": "code",
   "execution_count": 217,
   "id": "ea18036a",
   "metadata": {
    "scrolled": true
   },
   "outputs": [
    {
     "data": {
      "text/plain": [
       "GaussianNB()"
      ]
     },
     "execution_count": 217,
     "metadata": {},
     "output_type": "execute_result"
    }
   ],
   "source": [
    "model.fit(X_train,y_train)"
   ]
  },
  {
   "cell_type": "code",
   "execution_count": 218,
   "id": "37e5b666",
   "metadata": {},
   "outputs": [],
   "source": [
    "y_pred=model.predict(X_train)\n"
   ]
  },
  {
   "cell_type": "code",
   "execution_count": 219,
   "id": "576fb55c",
   "metadata": {},
   "outputs": [
    {
     "data": {
      "text/plain": [
       "0.7232947232947233"
      ]
     },
     "execution_count": 219,
     "metadata": {},
     "output_type": "execute_result"
    }
   ],
   "source": [
    "accuracy_score(y_train,y_pred)"
   ]
  },
  {
   "cell_type": "code",
   "execution_count": 220,
   "id": "fff21fd3",
   "metadata": {},
   "outputs": [],
   "source": [
    "y_pred=model.predict(X_test)\n"
   ]
  },
  {
   "cell_type": "code",
   "execution_count": 221,
   "id": "0bd69169",
   "metadata": {},
   "outputs": [
    {
     "data": {
      "text/plain": [
       "0.7197943444730077"
      ]
     },
     "execution_count": 221,
     "metadata": {},
     "output_type": "execute_result"
    }
   ],
   "source": [
    "accuracy_score(y_test,y_pred)"
   ]
  },
  {
   "cell_type": "code",
   "execution_count": 222,
   "id": "1da76012",
   "metadata": {},
   "outputs": [],
   "source": [
    "KF=KFold(5)\n"
   ]
  },
  {
   "cell_type": "code",
   "execution_count": 223,
   "id": "8821bfe7",
   "metadata": {},
   "outputs": [],
   "source": [
    "scores=cross_val_score(model,X_test,y_test,cv=KF)\n"
   ]
  },
  {
   "cell_type": "code",
   "execution_count": 224,
   "id": "10c3a392",
   "metadata": {},
   "outputs": [
    {
     "name": "stdout",
     "output_type": "stream",
     "text": [
      "0 0.6666666666666666\n",
      "1 0.7756410256410257\n",
      "2 0.7307692307692307\n",
      "3 0.7225806451612903\n",
      "4 0.7161290322580646\n"
     ]
    }
   ],
   "source": [
    "for idx,value in enumerate(scores):\n",
    "    print(idx,value)"
   ]
  },
  {
   "cell_type": "code",
   "execution_count": 225,
   "id": "0505bdf6",
   "metadata": {},
   "outputs": [
    {
     "data": {
      "text/plain": [
       "0.7223573200992556"
      ]
     },
     "execution_count": 225,
     "metadata": {},
     "output_type": "execute_result"
    }
   ],
   "source": [
    "scores.mean()"
   ]
  },
  {
   "cell_type": "code",
   "execution_count": 226,
   "id": "67f7e3c7",
   "metadata": {},
   "outputs": [
    {
     "name": "stdout",
     "output_type": "stream",
     "text": [
      "              precision    recall  f1-score   support\n",
      "\n",
      "           0       0.67      0.54      0.59       299\n",
      "           1       0.74      0.84      0.79       479\n",
      "\n",
      "    accuracy                           0.72       778\n",
      "   macro avg       0.71      0.69      0.69       778\n",
      "weighted avg       0.71      0.72      0.71       778\n",
      "\n"
     ]
    }
   ],
   "source": [
    "print(classification_report(y_test,y_pred))"
   ]
  },
  {
   "cell_type": "markdown",
   "id": "40205749",
   "metadata": {},
   "source": [
    "# ANN"
   ]
  },
  {
   "cell_type": "code",
   "execution_count": 227,
   "id": "c2c2e84e",
   "metadata": {},
   "outputs": [],
   "source": [
    "model=keras.Sequential([\n",
    "    keras.layers.Dense(15,input_shape=(10,),activation='relu'),\n",
    "    keras.layers.Dense(15,activation='relu'),\n",
    "    keras.layers.Dense(15,activation='relu'),\n",
    "    keras.layers.Dense(1,activation='sigmoid')\n",
    "])"
   ]
  },
  {
   "cell_type": "code",
   "execution_count": 228,
   "id": "46eb7edd",
   "metadata": {},
   "outputs": [],
   "source": [
    "model.compile(optimizer='adam',\n",
    "    loss='binary_crossentropy',\n",
    "    metrics=['accuracy'])"
   ]
  },
  {
   "cell_type": "code",
   "execution_count": 229,
   "id": "3ed41933",
   "metadata": {},
   "outputs": [
    {
     "name": "stdout",
     "output_type": "stream",
     "text": [
      "Epoch 1/10\n",
      "98/98 [==============================] - 1s 1ms/step - loss: 0.6170 - accuracy: 0.6728\n",
      "Epoch 2/10\n",
      "98/98 [==============================] - 0s 1ms/step - loss: 0.5538 - accuracy: 0.7291\n",
      "Epoch 3/10\n",
      "98/98 [==============================] - 0s 1ms/step - loss: 0.5325 - accuracy: 0.7555\n",
      "Epoch 4/10\n",
      "98/98 [==============================] - 0s 1ms/step - loss: 0.5177 - accuracy: 0.7593\n",
      "Epoch 5/10\n",
      "98/98 [==============================] - 0s 1ms/step - loss: 0.5084 - accuracy: 0.7616\n",
      "Epoch 6/10\n",
      "98/98 [==============================] - 0s 1ms/step - loss: 0.5022 - accuracy: 0.7680\n",
      "Epoch 7/10\n",
      "98/98 [==============================] - 0s 1ms/step - loss: 0.4960 - accuracy: 0.7699\n",
      "Epoch 8/10\n",
      "98/98 [==============================] - 0s 1ms/step - loss: 0.4927 - accuracy: 0.7728\n",
      "Epoch 9/10\n",
      "98/98 [==============================] - 0s 1ms/step - loss: 0.4896 - accuracy: 0.7757\n",
      "Epoch 10/10\n",
      "98/98 [==============================] - 0s 1ms/step - loss: 0.4879 - accuracy: 0.7735\n"
     ]
    },
    {
     "data": {
      "text/plain": [
       "<keras.callbacks.History at 0x1587ac52e20>"
      ]
     },
     "execution_count": 229,
     "metadata": {},
     "output_type": "execute_result"
    }
   ],
   "source": [
    "model.fit(X_train,y_train,epochs=10)"
   ]
  },
  {
   "cell_type": "code",
   "execution_count": 230,
   "id": "360aedba",
   "metadata": {},
   "outputs": [
    {
     "name": "stdout",
     "output_type": "stream",
     "text": [
      "25/25 [==============================] - 0s 947us/step - loss: 0.5174 - accuracy: 0.7506\n"
     ]
    },
    {
     "data": {
      "text/plain": [
       "[0.5173835158348083, 0.7506426572799683]"
      ]
     },
     "execution_count": 230,
     "metadata": {},
     "output_type": "execute_result"
    }
   ],
   "source": [
    "model.evaluate(X_test,y_test)"
   ]
  },
  {
   "cell_type": "code",
   "execution_count": 231,
   "id": "1d987ffd",
   "metadata": {},
   "outputs": [
    {
     "name": "stdout",
     "output_type": "stream",
     "text": [
      "25/25 [==============================] - 0s 1ms/step\n"
     ]
    }
   ],
   "source": [
    "y_pred=model.predict(X_test)"
   ]
  },
  {
   "cell_type": "code",
   "execution_count": 232,
   "id": "8e2078b4",
   "metadata": {},
   "outputs": [
    {
     "data": {
      "text/plain": [
       "array([[0.9285394 ],\n",
       "       [0.24250118],\n",
       "       [0.83163714],\n",
       "       [0.68688905],\n",
       "       [0.92374396],\n",
       "       [0.74404204],\n",
       "       [0.51189786],\n",
       "       [0.92228585],\n",
       "       [0.8042703 ],\n",
       "       [0.55934614]], dtype=float32)"
      ]
     },
     "execution_count": 232,
     "metadata": {},
     "output_type": "execute_result"
    }
   ],
   "source": [
    "y_pred[:10]"
   ]
  },
  {
   "cell_type": "code",
   "execution_count": 233,
   "id": "dddc73af",
   "metadata": {},
   "outputs": [
    {
     "data": {
      "text/plain": [
       "1525    1\n",
       "3236    0\n",
       "4061    1\n",
       "4089    1\n",
       "2051    1\n",
       "2440    1\n",
       "835     0\n",
       "412     1\n",
       "1389    1\n",
       "378     0\n",
       "Name: SOURCE, dtype: int32"
      ]
     },
     "execution_count": 233,
     "metadata": {},
     "output_type": "execute_result"
    }
   ],
   "source": [
    "y_test[:10]"
   ]
  },
  {
   "cell_type": "code",
   "execution_count": 234,
   "id": "fa9e62d4",
   "metadata": {},
   "outputs": [],
   "source": [
    "ypred=[]\n",
    "for i in y_pred:\n",
    "    if i>0.5:\n",
    "        ypred.append(1)\n",
    "    else:\n",
    "        ypred.append(0)"
   ]
  },
  {
   "cell_type": "code",
   "execution_count": 235,
   "id": "8d005676",
   "metadata": {},
   "outputs": [
    {
     "data": {
      "text/plain": [
       "[1, 0, 1, 1, 1, 1, 1, 1, 1, 1]"
      ]
     },
     "execution_count": 235,
     "metadata": {},
     "output_type": "execute_result"
    }
   ],
   "source": [
    "ypred[:10]"
   ]
  },
  {
   "cell_type": "code",
   "execution_count": null,
   "id": "a547fdf3",
   "metadata": {},
   "outputs": [],
   "source": []
  }
 ],
 "metadata": {
  "kernelspec": {
   "display_name": "Python 3 (ipykernel)",
   "language": "python",
   "name": "python3"
  },
  "language_info": {
   "codemirror_mode": {
    "name": "ipython",
    "version": 3
   },
   "file_extension": ".py",
   "mimetype": "text/x-python",
   "name": "python",
   "nbconvert_exporter": "python",
   "pygments_lexer": "ipython3",
   "version": "3.9.12"
  }
 },
 "nbformat": 4,
 "nbformat_minor": 5
}
